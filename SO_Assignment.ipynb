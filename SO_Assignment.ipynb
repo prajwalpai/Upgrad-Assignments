{
  "nbformat": 4,
  "nbformat_minor": 0,
  "metadata": {
    "kernelspec": {
      "display_name": "Python 3",
      "language": "python",
      "name": "python3"
    },
    "language_info": {
      "codemirror_mode": {
        "name": "ipython",
        "version": 3
      },
      "file_extension": ".py",
      "mimetype": "text/x-python",
      "name": "python",
      "nbconvert_exporter": "python",
      "pygments_lexer": "ipython3",
      "version": "3.7.2"
    },
    "colab": {
      "name": "SO-Assignment.ipynb",
      "provenance": [],
      "toc_visible": true,
      "include_colab_link": true
    }
  },
  "cells": [
    {
      "cell_type": "markdown",
      "metadata": {
        "id": "view-in-github",
        "colab_type": "text"
      },
      "source": [
        "<a href=\"https://colab.research.google.com/github/prajwalpai/Upgrad-Assignments/blob/main/SO_Assignment.ipynb\" target=\"_parent\"><img src=\"https://colab.research.google.com/assets/colab-badge.svg\" alt=\"Open In Colab\"/></a>"
      ]
    },
    {
      "cell_type": "markdown",
      "metadata": {
        "id": "CvD1pNyt7DYp"
      },
      "source": [
        "# Stack Overflow EDA on cloud Assignment"
      ]
    },
    {
      "cell_type": "markdown",
      "metadata": {
        "id": "MkBoMxI8589G"
      },
      "source": [
        "## Import libs"
      ]
    },
    {
      "cell_type": "code",
      "metadata": {
        "id": "mdwubyvz589E"
      },
      "source": [
        "import pandas as pd\n",
        "import matplotlib.pyplot as plt\n",
        "import seaborn as sns\n",
        "import warnings\n",
        "warnings.filterwarnings('ignore')"
      ],
      "execution_count": 3,
      "outputs": []
    },
    {
      "cell_type": "markdown",
      "metadata": {
        "id": "J2gV353I7SH5"
      },
      "source": [
        "## Read Data from AWS S3"
      ]
    },
    {
      "cell_type": "code",
      "metadata": {
        "id": "3u2-tvHG589H"
      },
      "source": [
        "qns = pd.read_csv(\"https://stack-overflow-casestudy-datasets.s3.amazonaws.com/Questions.csv\", encoding = \"latin1\")\n",
        "ans = pd.read_csv(\"https://stack-overflow-casestudy-datasets.s3.amazonaws.com/Answers.csv\", encoding = \"latin1\")\n",
        "tags = pd.read_csv(\"https://stack-overflow-casestudy-datasets.s3.amazonaws.com/Tags.csv\", encoding = \"latin1\")\n",
        "users = pd.read_csv(\"https://stack-overflow-casestudy-datasets.s3.amazonaws.com/Users.csv\" , encoding = \"latin1\")"
      ],
      "execution_count": 4,
      "outputs": []
    },
    {
      "cell_type": "markdown",
      "metadata": {
        "id": "rVC6uTwu589H"
      },
      "source": [
        "## Check Basic Info of data\n",
        "\n",
        " "
      ]
    },
    {
      "cell_type": "markdown",
      "metadata": {
        "id": "NggmZ5ua7tQP"
      },
      "source": [
        "### Check Shape"
      ]
    },
    {
      "cell_type": "code",
      "metadata": {
        "id": "SqzbGDDb589H",
        "outputId": "f7f0b027-c76c-43af-cc0f-0219d2954f10",
        "colab": {
          "base_uri": "https://localhost:8080/",
          "height": 164
        }
      },
      "source": [
        "qns.shape"
      ],
      "execution_count": 1,
      "outputs": [
        {
          "output_type": "error",
          "ename": "NameError",
          "evalue": "ignored",
          "traceback": [
            "\u001b[0;31m---------------------------------------------------------------------------\u001b[0m",
            "\u001b[0;31mNameError\u001b[0m                                 Traceback (most recent call last)",
            "\u001b[0;32m<ipython-input-1-d5ee2faa2472>\u001b[0m in \u001b[0;36m<module>\u001b[0;34m()\u001b[0m\n\u001b[0;32m----> 1\u001b[0;31m \u001b[0mqns\u001b[0m\u001b[0;34m.\u001b[0m\u001b[0mshape\u001b[0m\u001b[0;34m\u001b[0m\u001b[0;34m\u001b[0m\u001b[0m\n\u001b[0m",
            "\u001b[0;31mNameError\u001b[0m: name 'qns' is not defined"
          ]
        }
      ]
    },
    {
      "cell_type": "code",
      "metadata": {
        "id": "JAgIowea589I",
        "outputId": "de136858-34f8-4963-dc02-3da09bbc9de4",
        "colab": {
          "base_uri": "https://localhost:8080/",
          "height": 80
        }
      },
      "source": [
        "qns.sample()"
      ],
      "execution_count": 5,
      "outputs": [
        {
          "output_type": "execute_result",
          "data": {
            "text/html": [
              "<div>\n",
              "<style scoped>\n",
              "    .dataframe tbody tr th:only-of-type {\n",
              "        vertical-align: middle;\n",
              "    }\n",
              "\n",
              "    .dataframe tbody tr th {\n",
              "        vertical-align: top;\n",
              "    }\n",
              "\n",
              "    .dataframe thead th {\n",
              "        text-align: right;\n",
              "    }\n",
              "</style>\n",
              "<table border=\"1\" class=\"dataframe\">\n",
              "  <thead>\n",
              "    <tr style=\"text-align: right;\">\n",
              "      <th></th>\n",
              "      <th>Id</th>\n",
              "      <th>OwnerUserId</th>\n",
              "      <th>CreationDate</th>\n",
              "      <th>ClosedDate</th>\n",
              "      <th>Score</th>\n",
              "      <th>Title</th>\n",
              "      <th>Body</th>\n",
              "    </tr>\n",
              "  </thead>\n",
              "  <tbody>\n",
              "    <tr>\n",
              "      <th>389603</th>\n",
              "      <td>13813450</td>\n",
              "      <td>1191840.0</td>\n",
              "      <td>2012-12-11T04:04:49Z</td>\n",
              "      <td>NaN</td>\n",
              "      <td>1</td>\n",
              "      <td>BitShifting for uint in c#</td>\n",
              "      <td>&lt;p&gt;If I want to convert 4 bytes into an int, I...</td>\n",
              "    </tr>\n",
              "  </tbody>\n",
              "</table>\n",
              "</div>"
            ],
            "text/plain": [
              "              Id  ...                                               Body\n",
              "389603  13813450  ...  <p>If I want to convert 4 bytes into an int, I...\n",
              "\n",
              "[1 rows x 7 columns]"
            ]
          },
          "metadata": {
            "tags": []
          },
          "execution_count": 5
        }
      ]
    },
    {
      "cell_type": "code",
      "metadata": {
        "id": "c2Es0TJR589J",
        "outputId": "00ed4e1c-3abf-4c4f-b402-8c6be025f0a2",
        "colab": {
          "base_uri": "https://localhost:8080/"
        }
      },
      "source": [
        "ans.shape"
      ],
      "execution_count": 6,
      "outputs": [
        {
          "output_type": "execute_result",
          "data": {
            "text/plain": [
              "(2014516, 6)"
            ]
          },
          "metadata": {
            "tags": []
          },
          "execution_count": 6
        }
      ]
    },
    {
      "cell_type": "code",
      "metadata": {
        "id": "-XrLCWj3589J",
        "outputId": "48d4a2ec-ceb5-43ce-a388-42237d4df72c",
        "colab": {
          "base_uri": "https://localhost:8080/",
          "height": 80
        }
      },
      "source": [
        "ans.sample()"
      ],
      "execution_count": 7,
      "outputs": [
        {
          "output_type": "execute_result",
          "data": {
            "text/html": [
              "<div>\n",
              "<style scoped>\n",
              "    .dataframe tbody tr th:only-of-type {\n",
              "        vertical-align: middle;\n",
              "    }\n",
              "\n",
              "    .dataframe tbody tr th {\n",
              "        vertical-align: top;\n",
              "    }\n",
              "\n",
              "    .dataframe thead th {\n",
              "        text-align: right;\n",
              "    }\n",
              "</style>\n",
              "<table border=\"1\" class=\"dataframe\">\n",
              "  <thead>\n",
              "    <tr style=\"text-align: right;\">\n",
              "      <th></th>\n",
              "      <th>Id</th>\n",
              "      <th>OwnerUserId</th>\n",
              "      <th>CreationDate</th>\n",
              "      <th>ParentId</th>\n",
              "      <th>Score</th>\n",
              "      <th>Body</th>\n",
              "    </tr>\n",
              "  </thead>\n",
              "  <tbody>\n",
              "    <tr>\n",
              "      <th>774672</th>\n",
              "      <td>13995802</td>\n",
              "      <td>1726921.0</td>\n",
              "      <td>2012-12-21T19:08:05Z</td>\n",
              "      <td>13995660</td>\n",
              "      <td>1</td>\n",
              "      <td>&lt;p&gt;You can try:&lt;/p&gt;\\n\\n&lt;pre&gt;&lt;code&gt;&amp;lt;table&amp;gt...</td>\n",
              "    </tr>\n",
              "  </tbody>\n",
              "</table>\n",
              "</div>"
            ],
            "text/plain": [
              "              Id  ...                                               Body\n",
              "774672  13995802  ...  <p>You can try:</p>\\n\\n<pre><code>&lt;table&gt...\n",
              "\n",
              "[1 rows x 6 columns]"
            ]
          },
          "metadata": {
            "tags": []
          },
          "execution_count": 7
        }
      ]
    },
    {
      "cell_type": "code",
      "metadata": {
        "id": "fOxkP59D589J",
        "outputId": "c1f95957-b49c-4816-efa3-5ab1fbd6af47",
        "colab": {
          "base_uri": "https://localhost:8080/"
        }
      },
      "source": [
        "tags.shape"
      ],
      "execution_count": 8,
      "outputs": [
        {
          "output_type": "execute_result",
          "data": {
            "text/plain": [
              "(3750994, 2)"
            ]
          },
          "metadata": {
            "tags": []
          },
          "execution_count": 8
        }
      ]
    },
    {
      "cell_type": "code",
      "metadata": {
        "id": "GTZYYYzS589K",
        "outputId": "3c4ea4bb-daa4-48e2-f0ea-79d3645d45d5",
        "colab": {
          "base_uri": "https://localhost:8080/",
          "height": 80
        }
      },
      "source": [
        "tags.sample()"
      ],
      "execution_count": 9,
      "outputs": [
        {
          "output_type": "execute_result",
          "data": {
            "text/html": [
              "<div>\n",
              "<style scoped>\n",
              "    .dataframe tbody tr th:only-of-type {\n",
              "        vertical-align: middle;\n",
              "    }\n",
              "\n",
              "    .dataframe tbody tr th {\n",
              "        vertical-align: top;\n",
              "    }\n",
              "\n",
              "    .dataframe thead th {\n",
              "        text-align: right;\n",
              "    }\n",
              "</style>\n",
              "<table border=\"1\" class=\"dataframe\">\n",
              "  <thead>\n",
              "    <tr style=\"text-align: right;\">\n",
              "      <th></th>\n",
              "      <th>Id</th>\n",
              "      <th>Tag</th>\n",
              "    </tr>\n",
              "  </thead>\n",
              "  <tbody>\n",
              "    <tr>\n",
              "      <th>3590858</th>\n",
              "      <td>38784800</td>\n",
              "      <td>ruby-on-rails</td>\n",
              "    </tr>\n",
              "  </tbody>\n",
              "</table>\n",
              "</div>"
            ],
            "text/plain": [
              "               Id            Tag\n",
              "3590858  38784800  ruby-on-rails"
            ]
          },
          "metadata": {
            "tags": []
          },
          "execution_count": 9
        }
      ]
    },
    {
      "cell_type": "code",
      "metadata": {
        "id": "e8cr3O4F589K",
        "outputId": "f1ce02d6-46fa-478c-b5a7-87a5bdbae834",
        "colab": {
          "base_uri": "https://localhost:8080/"
        }
      },
      "source": [
        "users.shape"
      ],
      "execution_count": 10,
      "outputs": [
        {
          "output_type": "execute_result",
          "data": {
            "text/plain": [
              "(1990480, 9)"
            ]
          },
          "metadata": {
            "tags": []
          },
          "execution_count": 10
        }
      ]
    },
    {
      "cell_type": "markdown",
      "metadata": {
        "id": "Fswtrtk47xAt"
      },
      "source": [
        "### Check Sample "
      ]
    },
    {
      "cell_type": "code",
      "metadata": {
        "id": "1v52zEEX589K",
        "outputId": "32a2be5c-1586-4624-d04b-fe449a4e30e6",
        "colab": {
          "base_uri": "https://localhost:8080/",
          "height": 80
        }
      },
      "source": [
        "users.sample()"
      ],
      "execution_count": 11,
      "outputs": [
        {
          "output_type": "execute_result",
          "data": {
            "text/html": [
              "<div>\n",
              "<style scoped>\n",
              "    .dataframe tbody tr th:only-of-type {\n",
              "        vertical-align: middle;\n",
              "    }\n",
              "\n",
              "    .dataframe tbody tr th {\n",
              "        vertical-align: top;\n",
              "    }\n",
              "\n",
              "    .dataframe thead th {\n",
              "        text-align: right;\n",
              "    }\n",
              "</style>\n",
              "<table border=\"1\" class=\"dataframe\">\n",
              "  <thead>\n",
              "    <tr style=\"text-align: right;\">\n",
              "      <th></th>\n",
              "      <th>Unnamed: 0</th>\n",
              "      <th>id</th>\n",
              "      <th>display_name</th>\n",
              "      <th>creation_date</th>\n",
              "      <th>last_access_date</th>\n",
              "      <th>reputation</th>\n",
              "      <th>up_votes</th>\n",
              "      <th>down_votes</th>\n",
              "      <th>views</th>\n",
              "    </tr>\n",
              "  </thead>\n",
              "  <tbody>\n",
              "    <tr>\n",
              "      <th>285558</th>\n",
              "      <td>285558</td>\n",
              "      <td>79883</td>\n",
              "      <td>Trey Stout</td>\n",
              "      <td>2009-03-19 05:58:13.673 UTC</td>\n",
              "      <td>2019-08-31 15:11:39.25 UTC</td>\n",
              "      <td>3498</td>\n",
              "      <td>127</td>\n",
              "      <td>2</td>\n",
              "      <td>557</td>\n",
              "    </tr>\n",
              "  </tbody>\n",
              "</table>\n",
              "</div>"
            ],
            "text/plain": [
              "        Unnamed: 0     id display_name  ... up_votes down_votes  views\n",
              "285558      285558  79883   Trey Stout  ...      127          2    557\n",
              "\n",
              "[1 rows x 9 columns]"
            ]
          },
          "metadata": {
            "tags": []
          },
          "execution_count": 11
        }
      ]
    },
    {
      "cell_type": "markdown",
      "metadata": {
        "id": "x4JFdxLP589L"
      },
      "source": [
        "## Cleanup Data\n"
      ]
    },
    {
      "cell_type": "markdown",
      "metadata": {
        "id": "Z8X2OiCl7-w3"
      },
      "source": [
        "### Remove Null"
      ]
    },
    {
      "cell_type": "markdown",
      "metadata": {
        "id": "5-c8qR9f8Emo"
      },
      "source": [
        "#### Remove null OwnerUserId in qns"
      ]
    },
    {
      "cell_type": "code",
      "metadata": {
        "id": "a6wc9rfJ589L"
      },
      "source": [
        "qns = qns[~qns['OwnerUserId'].isnull()]"
      ],
      "execution_count": null,
      "outputs": []
    },
    {
      "cell_type": "code",
      "metadata": {
        "id": "9w1d5cfp589L",
        "outputId": "e0612047-7909-48ac-ba0d-a9cbef313f8e"
      },
      "source": [
        "qns.isnull().sum()"
      ],
      "execution_count": null,
      "outputs": [
        {
          "output_type": "execute_result",
          "data": {
            "text/plain": [
              "Id                    0\n",
              "OwnerUserId           0\n",
              "CreationDate          0\n",
              "ClosedDate      1194522\n",
              "Score                 0\n",
              "Title                 0\n",
              "Body                  0\n",
              "dtype: int64"
            ]
          },
          "metadata": {
            "tags": []
          },
          "execution_count": 13
        }
      ]
    },
    {
      "cell_type": "markdown",
      "metadata": {
        "id": "eMD24FvK8MGK"
      },
      "source": [
        "#### Remove null OwnerUserId in ans"
      ]
    },
    {
      "cell_type": "code",
      "metadata": {
        "id": "lqoRRueI589L"
      },
      "source": [
        "ans = ans[~ans['OwnerUserId'].isnull()]"
      ],
      "execution_count": null,
      "outputs": []
    },
    {
      "cell_type": "code",
      "metadata": {
        "id": "D84chG77589M",
        "outputId": "df862a75-533d-4351-d08a-1bbcb868cd68"
      },
      "source": [
        "ans.isnull().sum()"
      ],
      "execution_count": null,
      "outputs": [
        {
          "output_type": "execute_result",
          "data": {
            "text/plain": [
              "Id              0\n",
              "OwnerUserId     0\n",
              "CreationDate    0\n",
              "ParentId        0\n",
              "Score           0\n",
              "Body            0\n",
              "dtype: int64"
            ]
          },
          "metadata": {
            "tags": []
          },
          "execution_count": 15
        }
      ]
    },
    {
      "cell_type": "markdown",
      "metadata": {
        "id": "AF7t4ZdB8SwM"
      },
      "source": [
        "#### Remove null Tags in tags"
      ]
    },
    {
      "cell_type": "code",
      "metadata": {
        "id": "fG7UNqzk589M"
      },
      "source": [
        "tags = tags[~tags['Tag'].isnull()]"
      ],
      "execution_count": null,
      "outputs": []
    },
    {
      "cell_type": "code",
      "metadata": {
        "id": "09S2_-uh589M",
        "outputId": "c7204e1c-66e6-4d64-a2d4-19fbd04a7286"
      },
      "source": [
        "tags.isnull().sum()"
      ],
      "execution_count": null,
      "outputs": [
        {
          "output_type": "execute_result",
          "data": {
            "text/plain": [
              "Id     0\n",
              "Tag    0\n",
              "dtype: int64"
            ]
          },
          "metadata": {
            "tags": []
          },
          "execution_count": 17
        }
      ]
    },
    {
      "cell_type": "code",
      "metadata": {
        "id": "Wt26J-8x589M",
        "outputId": "f3ae472e-56e8-4086-f8da-86ad0266dd23"
      },
      "source": [
        "users.isnull().sum()"
      ],
      "execution_count": null,
      "outputs": [
        {
          "output_type": "execute_result",
          "data": {
            "text/plain": [
              "Unnamed: 0            0\n",
              "id                    0\n",
              "display_name        136\n",
              "creation_date         0\n",
              "last_access_date      0\n",
              "reputation            0\n",
              "up_votes              0\n",
              "down_votes            0\n",
              "views                 0\n",
              "dtype: int64"
            ]
          },
          "metadata": {
            "tags": []
          },
          "execution_count": 18
        }
      ]
    },
    {
      "cell_type": "markdown",
      "metadata": {
        "id": "rwMP6DMP8o39"
      },
      "source": [
        "#### Remove null display_name in users"
      ]
    },
    {
      "cell_type": "code",
      "metadata": {
        "id": "guQiL751589N"
      },
      "source": [
        "users = users[~users['display_name'].isnull()]"
      ],
      "execution_count": null,
      "outputs": []
    },
    {
      "cell_type": "code",
      "metadata": {
        "id": "Yrz438Qj589N",
        "outputId": "3abc9d64-34b1-4d0d-d67d-3ec765b7ff03"
      },
      "source": [
        "users['id'].value_counts()"
      ],
      "execution_count": null,
      "outputs": [
        {
          "output_type": "execute_result",
          "data": {
            "text/plain": [
              "22656      3270\n",
              "1144035    3009\n",
              "29407      2144\n",
              "548225     1924\n",
              "115145     1813\n",
              "           ... \n",
              "6296928       1\n",
              "1376004       1\n",
              "3868411       1\n",
              "1777400       1\n",
              "4098          1\n",
              "Name: id, Length: 465460, dtype: int64"
            ]
          },
          "metadata": {
            "tags": []
          },
          "execution_count": 19
        }
      ]
    },
    {
      "cell_type": "markdown",
      "metadata": {
        "id": "vtKXhpM79INq"
      },
      "source": [
        "### Remove unnecessary Data"
      ]
    },
    {
      "cell_type": "markdown",
      "metadata": {
        "id": "Y95nqWds9NcA"
      },
      "source": [
        "#### Remove \"Unnamed: 0\" column from users"
      ]
    },
    {
      "cell_type": "code",
      "metadata": {
        "id": "5WqU5f__589N"
      },
      "source": [
        "users.drop('Unnamed: 0', axis=1, inplace= True)"
      ],
      "execution_count": null,
      "outputs": []
    },
    {
      "cell_type": "markdown",
      "metadata": {
        "id": "zLT1A37f9VpR"
      },
      "source": [
        "#### Remove the duplicate rows from users"
      ]
    },
    {
      "cell_type": "code",
      "metadata": {
        "id": "3aLrZiWP589N"
      },
      "source": [
        "users.drop_duplicates(inplace = True)"
      ],
      "execution_count": null,
      "outputs": []
    },
    {
      "cell_type": "code",
      "metadata": {
        "id": "RnIQUh_s589N",
        "outputId": "367c5188-39b5-45ae-c4dd-ce68c897a6b6"
      },
      "source": [
        "users.isnull().sum()"
      ],
      "execution_count": null,
      "outputs": [
        {
          "output_type": "execute_result",
          "data": {
            "text/plain": [
              "id                   0\n",
              "display_name        24\n",
              "creation_date        0\n",
              "last_access_date     0\n",
              "reputation           0\n",
              "up_votes             0\n",
              "down_votes           0\n",
              "views                0\n",
              "dtype: int64"
            ]
          },
          "metadata": {
            "tags": []
          },
          "execution_count": 22
        }
      ]
    },
    {
      "cell_type": "code",
      "metadata": {
        "id": "gFiIc87-589N",
        "outputId": "d15ea982-6ec3-4e3b-ddb3-69e5e23f3192"
      },
      "source": [
        "users"
      ],
      "execution_count": null,
      "outputs": [
        {
          "output_type": "execute_result",
          "data": {
            "text/html": [
              "<div>\n",
              "<style scoped>\n",
              "    .dataframe tbody tr th:only-of-type {\n",
              "        vertical-align: middle;\n",
              "    }\n",
              "\n",
              "    .dataframe tbody tr th {\n",
              "        vertical-align: top;\n",
              "    }\n",
              "\n",
              "    .dataframe thead th {\n",
              "        text-align: right;\n",
              "    }\n",
              "</style>\n",
              "<table border=\"1\" class=\"dataframe\">\n",
              "  <thead>\n",
              "    <tr style=\"text-align: right;\">\n",
              "      <th></th>\n",
              "      <th>id</th>\n",
              "      <th>display_name</th>\n",
              "      <th>creation_date</th>\n",
              "      <th>last_access_date</th>\n",
              "      <th>reputation</th>\n",
              "      <th>up_votes</th>\n",
              "      <th>down_votes</th>\n",
              "      <th>views</th>\n",
              "    </tr>\n",
              "  </thead>\n",
              "  <tbody>\n",
              "    <tr>\n",
              "      <th>0</th>\n",
              "      <td>26</td>\n",
              "      <td>Shawn</td>\n",
              "      <td>2008-08-01 12:18:14.52 UTC</td>\n",
              "      <td>2018-04-11 04:40:35.66 UTC</td>\n",
              "      <td>11820</td>\n",
              "      <td>565</td>\n",
              "      <td>67</td>\n",
              "      <td>3547</td>\n",
              "    </tr>\n",
              "    <tr>\n",
              "      <th>27</th>\n",
              "      <td>1109</td>\n",
              "      <td>Theo</td>\n",
              "      <td>2008-08-12 12:16:58.61 UTC</td>\n",
              "      <td>2019-08-31 11:39:52.28 UTC</td>\n",
              "      <td>116072</td>\n",
              "      <td>457</td>\n",
              "      <td>136</td>\n",
              "      <td>6905</td>\n",
              "    </tr>\n",
              "    <tr>\n",
              "      <th>85</th>\n",
              "      <td>364174</td>\n",
              "      <td>stats</td>\n",
              "      <td>2010-06-11 03:34:57.137 UTC</td>\n",
              "      <td>2019-08-29 18:37:35.027 UTC</td>\n",
              "      <td>325</td>\n",
              "      <td>25</td>\n",
              "      <td>1</td>\n",
              "      <td>60</td>\n",
              "    </tr>\n",
              "    <tr>\n",
              "      <th>87</th>\n",
              "      <td>61</td>\n",
              "      <td>Bernard</td>\n",
              "      <td>2008-08-01 14:21:00.573 UTC</td>\n",
              "      <td>2019-08-30 07:11:58.297 UTC</td>\n",
              "      <td>22779</td>\n",
              "      <td>1321</td>\n",
              "      <td>219</td>\n",
              "      <td>1731</td>\n",
              "    </tr>\n",
              "    <tr>\n",
              "      <th>97</th>\n",
              "      <td>20709</td>\n",
              "      <td>Black Horus</td>\n",
              "      <td>2008-09-22 20:03:39.71 UTC</td>\n",
              "      <td>2019-09-01 01:17:38.133 UTC</td>\n",
              "      <td>978</td>\n",
              "      <td>73</td>\n",
              "      <td>2</td>\n",
              "      <td>96</td>\n",
              "    </tr>\n",
              "    <tr>\n",
              "      <th>...</th>\n",
              "      <td>...</td>\n",
              "      <td>...</td>\n",
              "      <td>...</td>\n",
              "      <td>...</td>\n",
              "      <td>...</td>\n",
              "      <td>...</td>\n",
              "      <td>...</td>\n",
              "      <td>...</td>\n",
              "    </tr>\n",
              "    <tr>\n",
              "      <th>1990475</th>\n",
              "      <td>4228492</td>\n",
              "      <td>Michael Spranger</td>\n",
              "      <td>2014-11-07 20:21:14.283 UTC</td>\n",
              "      <td>2019-08-28 18:01:29.56 UTC</td>\n",
              "      <td>415</td>\n",
              "      <td>112</td>\n",
              "      <td>2</td>\n",
              "      <td>17</td>\n",
              "    </tr>\n",
              "    <tr>\n",
              "      <th>1990476</th>\n",
              "      <td>6820506</td>\n",
              "      <td>Manuela</td>\n",
              "      <td>2016-09-12 00:19:17.83 UTC</td>\n",
              "      <td>2018-07-20 01:28:24.853 UTC</td>\n",
              "      <td>21</td>\n",
              "      <td>38</td>\n",
              "      <td>0</td>\n",
              "      <td>50</td>\n",
              "    </tr>\n",
              "    <tr>\n",
              "      <th>1990477</th>\n",
              "      <td>4464432</td>\n",
              "      <td>YTorii</td>\n",
              "      <td>2015-01-17 10:48:17.523 UTC</td>\n",
              "      <td>2019-08-31 13:51:47.413 UTC</td>\n",
              "      <td>336</td>\n",
              "      <td>67</td>\n",
              "      <td>1</td>\n",
              "      <td>13</td>\n",
              "    </tr>\n",
              "    <tr>\n",
              "      <th>1990478</th>\n",
              "      <td>4605946</td>\n",
              "      <td>space_voyager</td>\n",
              "      <td>2015-02-25 13:43:24.63 UTC</td>\n",
              "      <td>2019-07-13 23:55:47.607 UTC</td>\n",
              "      <td>884</td>\n",
              "      <td>53</td>\n",
              "      <td>1</td>\n",
              "      <td>191</td>\n",
              "    </tr>\n",
              "    <tr>\n",
              "      <th>1990479</th>\n",
              "      <td>6107989</td>\n",
              "      <td>Nicky HFE</td>\n",
              "      <td>2016-03-24 06:25:14.09 UTC</td>\n",
              "      <td>2019-08-21 13:40:34.197 UTC</td>\n",
              "      <td>108</td>\n",
              "      <td>0</td>\n",
              "      <td>0</td>\n",
              "      <td>30</td>\n",
              "    </tr>\n",
              "  </tbody>\n",
              "</table>\n",
              "<p>465436 rows × 8 columns</p>\n",
              "</div>"
            ],
            "text/plain": [
              "              id      display_name                creation_date  \\\n",
              "0             26             Shawn   2008-08-01 12:18:14.52 UTC   \n",
              "27          1109              Theo   2008-08-12 12:16:58.61 UTC   \n",
              "85        364174             stats  2010-06-11 03:34:57.137 UTC   \n",
              "87            61           Bernard  2008-08-01 14:21:00.573 UTC   \n",
              "97         20709       Black Horus   2008-09-22 20:03:39.71 UTC   \n",
              "...          ...               ...                          ...   \n",
              "1990475  4228492  Michael Spranger  2014-11-07 20:21:14.283 UTC   \n",
              "1990476  6820506           Manuela   2016-09-12 00:19:17.83 UTC   \n",
              "1990477  4464432            YTorii  2015-01-17 10:48:17.523 UTC   \n",
              "1990478  4605946     space_voyager   2015-02-25 13:43:24.63 UTC   \n",
              "1990479  6107989         Nicky HFE   2016-03-24 06:25:14.09 UTC   \n",
              "\n",
              "                    last_access_date  reputation  up_votes  down_votes  views  \n",
              "0         2018-04-11 04:40:35.66 UTC       11820       565          67   3547  \n",
              "27        2019-08-31 11:39:52.28 UTC      116072       457         136   6905  \n",
              "85       2019-08-29 18:37:35.027 UTC         325        25           1     60  \n",
              "87       2019-08-30 07:11:58.297 UTC       22779      1321         219   1731  \n",
              "97       2019-09-01 01:17:38.133 UTC         978        73           2     96  \n",
              "...                              ...         ...       ...         ...    ...  \n",
              "1990475   2019-08-28 18:01:29.56 UTC         415       112           2     17  \n",
              "1990476  2018-07-20 01:28:24.853 UTC          21        38           0     50  \n",
              "1990477  2019-08-31 13:51:47.413 UTC         336        67           1     13  \n",
              "1990478  2019-07-13 23:55:47.607 UTC         884        53           1    191  \n",
              "1990479  2019-08-21 13:40:34.197 UTC         108         0           0     30  \n",
              "\n",
              "[465436 rows x 8 columns]"
            ]
          },
          "metadata": {
            "tags": []
          },
          "execution_count": 24
        }
      ]
    },
    {
      "cell_type": "markdown",
      "metadata": {
        "id": "gPu1hhBc9vAb"
      },
      "source": [
        "### Standardise Numbers"
      ]
    },
    {
      "cell_type": "code",
      "metadata": {
        "id": "H8oG2RUU589O",
        "outputId": "5db9c42e-2d0c-4bfa-fba9-c4b0f8fdd4bd"
      },
      "source": [
        "qns.head()"
      ],
      "execution_count": null,
      "outputs": [
        {
          "output_type": "execute_result",
          "data": {
            "text/html": [
              "<div>\n",
              "<style scoped>\n",
              "    .dataframe tbody tr th:only-of-type {\n",
              "        vertical-align: middle;\n",
              "    }\n",
              "\n",
              "    .dataframe tbody tr th {\n",
              "        vertical-align: top;\n",
              "    }\n",
              "\n",
              "    .dataframe thead th {\n",
              "        text-align: right;\n",
              "    }\n",
              "</style>\n",
              "<table border=\"1\" class=\"dataframe\">\n",
              "  <thead>\n",
              "    <tr style=\"text-align: right;\">\n",
              "      <th></th>\n",
              "      <th>Id</th>\n",
              "      <th>OwnerUserId</th>\n",
              "      <th>CreationDate</th>\n",
              "      <th>ClosedDate</th>\n",
              "      <th>Score</th>\n",
              "      <th>Title</th>\n",
              "      <th>Body</th>\n",
              "    </tr>\n",
              "  </thead>\n",
              "  <tbody>\n",
              "    <tr>\n",
              "      <th>0</th>\n",
              "      <td>80</td>\n",
              "      <td>26.0</td>\n",
              "      <td>2008-08-01T13:57:07Z</td>\n",
              "      <td>NaN</td>\n",
              "      <td>26</td>\n",
              "      <td>SQLStatement.execute() - multiple queries in o...</td>\n",
              "      <td>&lt;p&gt;I've written a database generation script i...</td>\n",
              "    </tr>\n",
              "    <tr>\n",
              "      <th>1</th>\n",
              "      <td>90</td>\n",
              "      <td>58.0</td>\n",
              "      <td>2008-08-01T14:41:24Z</td>\n",
              "      <td>2012-12-26T03:45:49Z</td>\n",
              "      <td>144</td>\n",
              "      <td>Good branching and merging tutorials for Torto...</td>\n",
              "      <td>&lt;p&gt;Are there any really good tutorials explain...</td>\n",
              "    </tr>\n",
              "    <tr>\n",
              "      <th>2</th>\n",
              "      <td>120</td>\n",
              "      <td>83.0</td>\n",
              "      <td>2008-08-01T15:50:08Z</td>\n",
              "      <td>NaN</td>\n",
              "      <td>21</td>\n",
              "      <td>ASP.NET Site Maps</td>\n",
              "      <td>&lt;p&gt;Has anyone got experience creating &lt;strong&gt;...</td>\n",
              "    </tr>\n",
              "    <tr>\n",
              "      <th>3</th>\n",
              "      <td>180</td>\n",
              "      <td>2089740.0</td>\n",
              "      <td>2008-08-01T18:42:19Z</td>\n",
              "      <td>NaN</td>\n",
              "      <td>53</td>\n",
              "      <td>Function for creating color wheels</td>\n",
              "      <td>&lt;p&gt;This is something I've pseudo-solved many t...</td>\n",
              "    </tr>\n",
              "    <tr>\n",
              "      <th>4</th>\n",
              "      <td>260</td>\n",
              "      <td>91.0</td>\n",
              "      <td>2008-08-01T23:22:08Z</td>\n",
              "      <td>NaN</td>\n",
              "      <td>49</td>\n",
              "      <td>Adding scripting functionality to .NET applica...</td>\n",
              "      <td>&lt;p&gt;I have a little game written in C#. It uses...</td>\n",
              "    </tr>\n",
              "  </tbody>\n",
              "</table>\n",
              "</div>"
            ],
            "text/plain": [
              "    Id  OwnerUserId          CreationDate            ClosedDate  Score  \\\n",
              "0   80         26.0  2008-08-01T13:57:07Z                   NaN     26   \n",
              "1   90         58.0  2008-08-01T14:41:24Z  2012-12-26T03:45:49Z    144   \n",
              "2  120         83.0  2008-08-01T15:50:08Z                   NaN     21   \n",
              "3  180    2089740.0  2008-08-01T18:42:19Z                   NaN     53   \n",
              "4  260         91.0  2008-08-01T23:22:08Z                   NaN     49   \n",
              "\n",
              "                                               Title  \\\n",
              "0  SQLStatement.execute() - multiple queries in o...   \n",
              "1  Good branching and merging tutorials for Torto...   \n",
              "2                                  ASP.NET Site Maps   \n",
              "3                 Function for creating color wheels   \n",
              "4  Adding scripting functionality to .NET applica...   \n",
              "\n",
              "                                                Body  \n",
              "0  <p>I've written a database generation script i...  \n",
              "1  <p>Are there any really good tutorials explain...  \n",
              "2  <p>Has anyone got experience creating <strong>...  \n",
              "3  <p>This is something I've pseudo-solved many t...  \n",
              "4  <p>I have a little game written in C#. It uses...  "
            ]
          },
          "metadata": {
            "tags": []
          },
          "execution_count": 29
        }
      ]
    },
    {
      "cell_type": "markdown",
      "metadata": {
        "id": "ziWCCsE798QT"
      },
      "source": [
        "#### Making OwnerUserId an integer"
      ]
    },
    {
      "cell_type": "code",
      "metadata": {
        "id": "nxdTTuFQ589O"
      },
      "source": [
        "qns['OwnerUserId'] = qns['OwnerUserId'].astype(int)"
      ],
      "execution_count": null,
      "outputs": []
    },
    {
      "cell_type": "code",
      "metadata": {
        "id": "m6mMsjJb589O"
      },
      "source": [
        "ans['OwnerUserId'] = ans['OwnerUserId'].astype(int)"
      ],
      "execution_count": null,
      "outputs": []
    },
    {
      "cell_type": "code",
      "metadata": {
        "id": "CSJU4Oz_589O",
        "outputId": "03ed8ad1-0764-4d2f-cb94-4ba5cc87aa58"
      },
      "source": [
        "qns.head()"
      ],
      "execution_count": null,
      "outputs": [
        {
          "output_type": "execute_result",
          "data": {
            "text/html": [
              "<div>\n",
              "<style scoped>\n",
              "    .dataframe tbody tr th:only-of-type {\n",
              "        vertical-align: middle;\n",
              "    }\n",
              "\n",
              "    .dataframe tbody tr th {\n",
              "        vertical-align: top;\n",
              "    }\n",
              "\n",
              "    .dataframe thead th {\n",
              "        text-align: right;\n",
              "    }\n",
              "</style>\n",
              "<table border=\"1\" class=\"dataframe\">\n",
              "  <thead>\n",
              "    <tr style=\"text-align: right;\">\n",
              "      <th></th>\n",
              "      <th>Id</th>\n",
              "      <th>OwnerUserId</th>\n",
              "      <th>CreationDate</th>\n",
              "      <th>ClosedDate</th>\n",
              "      <th>Score</th>\n",
              "      <th>Title</th>\n",
              "      <th>Body</th>\n",
              "    </tr>\n",
              "  </thead>\n",
              "  <tbody>\n",
              "    <tr>\n",
              "      <th>0</th>\n",
              "      <td>80</td>\n",
              "      <td>26</td>\n",
              "      <td>2008-08-01T13:57:07Z</td>\n",
              "      <td>NaN</td>\n",
              "      <td>26</td>\n",
              "      <td>SQLStatement.execute() - multiple queries in o...</td>\n",
              "      <td>&lt;p&gt;I've written a database generation script i...</td>\n",
              "    </tr>\n",
              "    <tr>\n",
              "      <th>1</th>\n",
              "      <td>90</td>\n",
              "      <td>58</td>\n",
              "      <td>2008-08-01T14:41:24Z</td>\n",
              "      <td>2012-12-26T03:45:49Z</td>\n",
              "      <td>144</td>\n",
              "      <td>Good branching and merging tutorials for Torto...</td>\n",
              "      <td>&lt;p&gt;Are there any really good tutorials explain...</td>\n",
              "    </tr>\n",
              "    <tr>\n",
              "      <th>2</th>\n",
              "      <td>120</td>\n",
              "      <td>83</td>\n",
              "      <td>2008-08-01T15:50:08Z</td>\n",
              "      <td>NaN</td>\n",
              "      <td>21</td>\n",
              "      <td>ASP.NET Site Maps</td>\n",
              "      <td>&lt;p&gt;Has anyone got experience creating &lt;strong&gt;...</td>\n",
              "    </tr>\n",
              "    <tr>\n",
              "      <th>3</th>\n",
              "      <td>180</td>\n",
              "      <td>2089740</td>\n",
              "      <td>2008-08-01T18:42:19Z</td>\n",
              "      <td>NaN</td>\n",
              "      <td>53</td>\n",
              "      <td>Function for creating color wheels</td>\n",
              "      <td>&lt;p&gt;This is something I've pseudo-solved many t...</td>\n",
              "    </tr>\n",
              "    <tr>\n",
              "      <th>4</th>\n",
              "      <td>260</td>\n",
              "      <td>91</td>\n",
              "      <td>2008-08-01T23:22:08Z</td>\n",
              "      <td>NaN</td>\n",
              "      <td>49</td>\n",
              "      <td>Adding scripting functionality to .NET applica...</td>\n",
              "      <td>&lt;p&gt;I have a little game written in C#. It uses...</td>\n",
              "    </tr>\n",
              "  </tbody>\n",
              "</table>\n",
              "</div>"
            ],
            "text/plain": [
              "    Id  OwnerUserId          CreationDate            ClosedDate  Score  \\\n",
              "0   80           26  2008-08-01T13:57:07Z                   NaN     26   \n",
              "1   90           58  2008-08-01T14:41:24Z  2012-12-26T03:45:49Z    144   \n",
              "2  120           83  2008-08-01T15:50:08Z                   NaN     21   \n",
              "3  180      2089740  2008-08-01T18:42:19Z                   NaN     53   \n",
              "4  260           91  2008-08-01T23:22:08Z                   NaN     49   \n",
              "\n",
              "                                               Title  \\\n",
              "0  SQLStatement.execute() - multiple queries in o...   \n",
              "1  Good branching and merging tutorials for Torto...   \n",
              "2                                  ASP.NET Site Maps   \n",
              "3                 Function for creating color wheels   \n",
              "4  Adding scripting functionality to .NET applica...   \n",
              "\n",
              "                                                Body  \n",
              "0  <p>I've written a database generation script i...  \n",
              "1  <p>Are there any really good tutorials explain...  \n",
              "2  <p>Has anyone got experience creating <strong>...  \n",
              "3  <p>This is something I've pseudo-solved many t...  \n",
              "4  <p>I have a little game written in C#. It uses...  "
            ]
          },
          "metadata": {
            "tags": []
          },
          "execution_count": 35
        }
      ]
    },
    {
      "cell_type": "code",
      "metadata": {
        "id": "eMKGhVBo589O",
        "outputId": "cb02ca7c-4a53-4c80-81ea-5750cf06046a"
      },
      "source": [
        "ans.head()"
      ],
      "execution_count": null,
      "outputs": [
        {
          "output_type": "execute_result",
          "data": {
            "text/html": [
              "<div>\n",
              "<style scoped>\n",
              "    .dataframe tbody tr th:only-of-type {\n",
              "        vertical-align: middle;\n",
              "    }\n",
              "\n",
              "    .dataframe tbody tr th {\n",
              "        vertical-align: top;\n",
              "    }\n",
              "\n",
              "    .dataframe thead th {\n",
              "        text-align: right;\n",
              "    }\n",
              "</style>\n",
              "<table border=\"1\" class=\"dataframe\">\n",
              "  <thead>\n",
              "    <tr style=\"text-align: right;\">\n",
              "      <th></th>\n",
              "      <th>Id</th>\n",
              "      <th>OwnerUserId</th>\n",
              "      <th>CreationDate</th>\n",
              "      <th>ParentId</th>\n",
              "      <th>Score</th>\n",
              "      <th>Body</th>\n",
              "    </tr>\n",
              "  </thead>\n",
              "  <tbody>\n",
              "    <tr>\n",
              "      <th>0</th>\n",
              "      <td>92</td>\n",
              "      <td>61</td>\n",
              "      <td>2008-08-01T14:45:37Z</td>\n",
              "      <td>90</td>\n",
              "      <td>13</td>\n",
              "      <td>&lt;p&gt;&lt;a href=\"http://svnbook.red-bean.com/\"&gt;Vers...</td>\n",
              "    </tr>\n",
              "    <tr>\n",
              "      <th>1</th>\n",
              "      <td>124</td>\n",
              "      <td>26</td>\n",
              "      <td>2008-08-01T16:09:47Z</td>\n",
              "      <td>80</td>\n",
              "      <td>12</td>\n",
              "      <td>&lt;p&gt;I wound up using this. It is a kind of a ha...</td>\n",
              "    </tr>\n",
              "    <tr>\n",
              "      <th>2</th>\n",
              "      <td>199</td>\n",
              "      <td>50</td>\n",
              "      <td>2008-08-01T19:36:46Z</td>\n",
              "      <td>180</td>\n",
              "      <td>1</td>\n",
              "      <td>&lt;p&gt;I've read somewhere the human eye can't dis...</td>\n",
              "    </tr>\n",
              "    <tr>\n",
              "      <th>3</th>\n",
              "      <td>269</td>\n",
              "      <td>91</td>\n",
              "      <td>2008-08-01T23:49:57Z</td>\n",
              "      <td>260</td>\n",
              "      <td>4</td>\n",
              "      <td>&lt;p&gt;Yes, I thought about that, but I soon figur...</td>\n",
              "    </tr>\n",
              "    <tr>\n",
              "      <th>4</th>\n",
              "      <td>307</td>\n",
              "      <td>49</td>\n",
              "      <td>2008-08-02T01:49:46Z</td>\n",
              "      <td>260</td>\n",
              "      <td>28</td>\n",
              "      <td>&lt;p&gt;&lt;a href=\"http://www.codeproject.com/Article...</td>\n",
              "    </tr>\n",
              "  </tbody>\n",
              "</table>\n",
              "</div>"
            ],
            "text/plain": [
              "    Id  OwnerUserId          CreationDate  ParentId  Score  \\\n",
              "0   92           61  2008-08-01T14:45:37Z        90     13   \n",
              "1  124           26  2008-08-01T16:09:47Z        80     12   \n",
              "2  199           50  2008-08-01T19:36:46Z       180      1   \n",
              "3  269           91  2008-08-01T23:49:57Z       260      4   \n",
              "4  307           49  2008-08-02T01:49:46Z       260     28   \n",
              "\n",
              "                                                Body  \n",
              "0  <p><a href=\"http://svnbook.red-bean.com/\">Vers...  \n",
              "1  <p>I wound up using this. It is a kind of a ha...  \n",
              "2  <p>I've read somewhere the human eye can't dis...  \n",
              "3  <p>Yes, I thought about that, but I soon figur...  \n",
              "4  <p><a href=\"http://www.codeproject.com/Article...  "
            ]
          },
          "metadata": {
            "tags": []
          },
          "execution_count": 39
        }
      ]
    },
    {
      "cell_type": "code",
      "metadata": {
        "id": "rT5Qp_zh589P",
        "outputId": "e1c186fe-742e-411b-cecd-cb74bb14ddb4"
      },
      "source": [
        "qns.info()"
      ],
      "execution_count": null,
      "outputs": [
        {
          "output_type": "stream",
          "text": [
            "<class 'pandas.core.frame.DataFrame'>\n",
            "Int64Index: 1249762 entries, 0 to 1264215\n",
            "Data columns (total 7 columns):\n",
            " #   Column        Non-Null Count    Dtype \n",
            "---  ------        --------------    ----- \n",
            " 0   Id            1249762 non-null  int64 \n",
            " 1   OwnerUserId   1249762 non-null  int64 \n",
            " 2   CreationDate  1249762 non-null  object\n",
            " 3   ClosedDate    55240 non-null    object\n",
            " 4   Score         1249762 non-null  int64 \n",
            " 5   Title         1249762 non-null  object\n",
            " 6   Body          1249762 non-null  object\n",
            "dtypes: int64(3), object(4)\n",
            "memory usage: 76.3+ MB\n"
          ],
          "name": "stdout"
        }
      ]
    },
    {
      "cell_type": "code",
      "metadata": {
        "id": "bs2W0nGQ589P",
        "outputId": "af4a9205-f867-4735-e10c-449a31067210"
      },
      "source": [
        "tags.shape"
      ],
      "execution_count": null,
      "outputs": [
        {
          "output_type": "execute_result",
          "data": {
            "text/plain": [
              "(3749881, 2)"
            ]
          },
          "metadata": {
            "tags": []
          },
          "execution_count": 46
        }
      ]
    },
    {
      "cell_type": "markdown",
      "metadata": {
        "id": "0m7qLvat589P"
      },
      "source": [
        "## Handling outliers "
      ]
    },
    {
      "cell_type": "markdown",
      "metadata": {
        "id": "hHuzxlSi-FUo"
      },
      "source": [
        "### Outliers in Score in Questions/qns"
      ]
    },
    {
      "cell_type": "code",
      "metadata": {
        "id": "rIKp2Hkx589P",
        "outputId": "8a8d4849-30a2-4f5f-e998-86b1730b4a8c"
      },
      "source": [
        "sns.boxplot(qns.Score)"
      ],
      "execution_count": null,
      "outputs": [
        {
          "output_type": "execute_result",
          "data": {
            "text/plain": [
              "<AxesSubplot:xlabel='Score'>"
            ]
          },
          "metadata": {
            "tags": []
          },
          "execution_count": 72
        },
        {
          "output_type": "display_data",
          "data": {
            "image/png": "[encoded data removed]",
            "text/plain": [
              "<Figure size 432x288 with 1 Axes>"
            ]
          },
          "metadata": {
            "tags": [],
            "needs_background": "light"
          }
        }
      ]
    },
    {
      "cell_type": "code",
      "metadata": {
        "id": "ZW0bg_ks589P"
      },
      "source": [
        "qns = qns[qns.Score < 1200]"
      ],
      "execution_count": null,
      "outputs": []
    },
    {
      "cell_type": "code",
      "metadata": {
        "id": "YFWaUoPr589Q",
        "outputId": "3e7d25d2-1f19-4e2b-8c36-31092b0baee4"
      },
      "source": [
        "sns.boxplot(qns.Score)"
      ],
      "execution_count": null,
      "outputs": [
        {
          "output_type": "execute_result",
          "data": {
            "text/plain": [
              "<AxesSubplot:xlabel='Score'>"
            ]
          },
          "metadata": {
            "tags": []
          },
          "execution_count": 74
        },
        {
          "output_type": "display_data",
          "data": {
            "image/png": "[encoded data removed]",
            "text/plain": [
              "<Figure size 432x288 with 1 Axes>"
            ]
          },
          "metadata": {
            "tags": [],
            "needs_background": "light"
          }
        }
      ]
    },
    {
      "cell_type": "code",
      "metadata": {
        "id": "0oBzAl_A589Q",
        "outputId": "20a2a3cd-1aae-4c96-9991-dae97216084d"
      },
      "source": [
        "qns.Score.describe()"
      ],
      "execution_count": null,
      "outputs": [
        {
          "output_type": "execute_result",
          "data": {
            "text/plain": [
              "count    1.249744e+06\n",
              "mean     1.741049e+00\n",
              "std      1.070463e+01\n",
              "min     -7.300000e+01\n",
              "25%      0.000000e+00\n",
              "50%      0.000000e+00\n",
              "75%      1.000000e+00\n",
              "max      1.147000e+03\n",
              "Name: Score, dtype: float64"
            ]
          },
          "metadata": {
            "tags": []
          },
          "execution_count": 75
        }
      ]
    },
    {
      "cell_type": "markdown",
      "metadata": {
        "id": "63NfayI3-OIY"
      },
      "source": [
        "### Outliers in Score in Answers/ans"
      ]
    },
    {
      "cell_type": "code",
      "metadata": {
        "id": "a8x3LP-a589Q",
        "outputId": "70c4a7b1-b674-460a-9173-2965039d858d"
      },
      "source": [
        "sns.boxplot(ans.Score)"
      ],
      "execution_count": null,
      "outputs": [
        {
          "output_type": "execute_result",
          "data": {
            "text/plain": [
              "<AxesSubplot:xlabel='Score'>"
            ]
          },
          "metadata": {
            "tags": []
          },
          "execution_count": 76
        },
        {
          "output_type": "display_data",
          "data": {
            "image/png": "[encoded data removed]",
            "text/plain": [
              "<Figure size 432x288 with 1 Axes>"
            ]
          },
          "metadata": {
            "tags": [],
            "needs_background": "light"
          }
        }
      ]
    },
    {
      "cell_type": "code",
      "metadata": {
        "id": "gl-Uteqf589Q"
      },
      "source": [
        "ans = ans[ans.Score < 1100]"
      ],
      "execution_count": null,
      "outputs": []
    },
    {
      "cell_type": "code",
      "metadata": {
        "id": "IFdTiyfj589Q",
        "outputId": "0ff86cbf-b60c-4a1c-c620-8a30269e2342"
      },
      "source": [
        "sns.boxplot(ans.Score)"
      ],
      "execution_count": null,
      "outputs": [
        {
          "output_type": "execute_result",
          "data": {
            "text/plain": [
              "<AxesSubplot:xlabel='Score'>"
            ]
          },
          "metadata": {
            "tags": []
          },
          "execution_count": 88
        },
        {
          "output_type": "display_data",
          "data": {
            "image/png": "[encoded data removed]",
            "text/plain": [
              "<Figure size 432x288 with 1 Axes>"
            ]
          },
          "metadata": {
            "tags": [],
            "needs_background": "light"
          }
        }
      ]
    },
    {
      "cell_type": "code",
      "metadata": {
        "id": "VSUJTOaH589R",
        "outputId": "21db5f80-dbc6-4a34-f5cb-b4ca20146177"
      },
      "source": [
        "ans.Score.describe()"
      ],
      "execution_count": null,
      "outputs": [
        {
          "output_type": "execute_result",
          "data": {
            "text/plain": [
              "count    2.001268e+06\n",
              "mean     2.434043e+00\n",
              "std      1.221149e+01\n",
              "min     -4.200000e+01\n",
              "25%      0.000000e+00\n",
              "50%      1.000000e+00\n",
              "75%      2.000000e+00\n",
              "max      1.095000e+03\n",
              "Name: Score, dtype: float64"
            ]
          },
          "metadata": {
            "tags": []
          },
          "execution_count": 89
        }
      ]
    },
    {
      "cell_type": "markdown",
      "metadata": {
        "id": "VXQujRAA-U0O"
      },
      "source": [
        "### Outliers in reputation in Users/users"
      ]
    },
    {
      "cell_type": "code",
      "metadata": {
        "id": "kgi3uQ4K589R",
        "outputId": "ec8a5ecf-e347-4f1c-94f5-ea0c994e928a"
      },
      "source": [
        "sns.boxplot(users.reputation)"
      ],
      "execution_count": null,
      "outputs": [
        {
          "output_type": "execute_result",
          "data": {
            "text/plain": [
              "<AxesSubplot:xlabel='reputation'>"
            ]
          },
          "metadata": {
            "tags": []
          },
          "execution_count": 95
        },
        {
          "output_type": "display_data",
          "data": {
            "image/png": "[encoded data removed]",
            "text/plain": [
              "<Figure size 432x288 with 1 Axes>"
            ]
          },
          "metadata": {
            "tags": [],
            "needs_background": "light"
          }
        }
      ]
    },
    {
      "cell_type": "code",
      "metadata": {
        "id": "wEnEJvgT589R"
      },
      "source": [
        "users = users[users.reputation < 600000]"
      ],
      "execution_count": null,
      "outputs": []
    },
    {
      "cell_type": "code",
      "metadata": {
        "id": "Y7dbCGJy589R",
        "outputId": "1e069430-98a5-4e8d-c91e-590c6974f721"
      },
      "source": [
        "sns.boxplot(users.reputation)"
      ],
      "execution_count": null,
      "outputs": [
        {
          "output_type": "execute_result",
          "data": {
            "text/plain": [
              "<AxesSubplot:xlabel='reputation'>"
            ]
          },
          "metadata": {
            "tags": []
          },
          "execution_count": 102
        },
        {
          "output_type": "display_data",
          "data": {
            "image/png": "[encoded data removed]",
            "text/plain": [
              "<Figure size 432x288 with 1 Axes>"
            ]
          },
          "metadata": {
            "tags": [],
            "needs_background": "light"
          }
        }
      ]
    },
    {
      "cell_type": "code",
      "metadata": {
        "id": "-gOHsjv5589R",
        "outputId": "0fcdadc8-0482-44a4-83fb-4868172304a9"
      },
      "source": [
        "users"
      ],
      "execution_count": null,
      "outputs": [
        {
          "output_type": "execute_result",
          "data": {
            "text/html": [
              "<div>\n",
              "<style scoped>\n",
              "    .dataframe tbody tr th:only-of-type {\n",
              "        vertical-align: middle;\n",
              "    }\n",
              "\n",
              "    .dataframe tbody tr th {\n",
              "        vertical-align: top;\n",
              "    }\n",
              "\n",
              "    .dataframe thead th {\n",
              "        text-align: right;\n",
              "    }\n",
              "</style>\n",
              "<table border=\"1\" class=\"dataframe\">\n",
              "  <thead>\n",
              "    <tr style=\"text-align: right;\">\n",
              "      <th></th>\n",
              "      <th>id</th>\n",
              "      <th>display_name</th>\n",
              "      <th>creation_date</th>\n",
              "      <th>last_access_date</th>\n",
              "      <th>reputation</th>\n",
              "      <th>up_votes</th>\n",
              "      <th>down_votes</th>\n",
              "      <th>views</th>\n",
              "    </tr>\n",
              "  </thead>\n",
              "  <tbody>\n",
              "    <tr>\n",
              "      <th>0</th>\n",
              "      <td>26</td>\n",
              "      <td>Shawn</td>\n",
              "      <td>2008-08-01 12:18:14.52 UTC</td>\n",
              "      <td>2018-04-11 04:40:35.66 UTC</td>\n",
              "      <td>11820</td>\n",
              "      <td>565</td>\n",
              "      <td>67</td>\n",
              "      <td>3547</td>\n",
              "    </tr>\n",
              "    <tr>\n",
              "      <th>27</th>\n",
              "      <td>1109</td>\n",
              "      <td>Theo</td>\n",
              "      <td>2008-08-12 12:16:58.61 UTC</td>\n",
              "      <td>2019-08-31 11:39:52.28 UTC</td>\n",
              "      <td>116072</td>\n",
              "      <td>457</td>\n",
              "      <td>136</td>\n",
              "      <td>6905</td>\n",
              "    </tr>\n",
              "    <tr>\n",
              "      <th>85</th>\n",
              "      <td>364174</td>\n",
              "      <td>stats</td>\n",
              "      <td>2010-06-11 03:34:57.137 UTC</td>\n",
              "      <td>2019-08-29 18:37:35.027 UTC</td>\n",
              "      <td>325</td>\n",
              "      <td>25</td>\n",
              "      <td>1</td>\n",
              "      <td>60</td>\n",
              "    </tr>\n",
              "    <tr>\n",
              "      <th>87</th>\n",
              "      <td>61</td>\n",
              "      <td>Bernard</td>\n",
              "      <td>2008-08-01 14:21:00.573 UTC</td>\n",
              "      <td>2019-08-30 07:11:58.297 UTC</td>\n",
              "      <td>22779</td>\n",
              "      <td>1321</td>\n",
              "      <td>219</td>\n",
              "      <td>1731</td>\n",
              "    </tr>\n",
              "    <tr>\n",
              "      <th>97</th>\n",
              "      <td>20709</td>\n",
              "      <td>Black Horus</td>\n",
              "      <td>2008-09-22 20:03:39.71 UTC</td>\n",
              "      <td>2019-09-01 01:17:38.133 UTC</td>\n",
              "      <td>978</td>\n",
              "      <td>73</td>\n",
              "      <td>2</td>\n",
              "      <td>96</td>\n",
              "    </tr>\n",
              "    <tr>\n",
              "      <th>...</th>\n",
              "      <td>...</td>\n",
              "      <td>...</td>\n",
              "      <td>...</td>\n",
              "      <td>...</td>\n",
              "      <td>...</td>\n",
              "      <td>...</td>\n",
              "      <td>...</td>\n",
              "      <td>...</td>\n",
              "    </tr>\n",
              "    <tr>\n",
              "      <th>1990475</th>\n",
              "      <td>4228492</td>\n",
              "      <td>Michael Spranger</td>\n",
              "      <td>2014-11-07 20:21:14.283 UTC</td>\n",
              "      <td>2019-08-28 18:01:29.56 UTC</td>\n",
              "      <td>415</td>\n",
              "      <td>112</td>\n",
              "      <td>2</td>\n",
              "      <td>17</td>\n",
              "    </tr>\n",
              "    <tr>\n",
              "      <th>1990476</th>\n",
              "      <td>6820506</td>\n",
              "      <td>Manuela</td>\n",
              "      <td>2016-09-12 00:19:17.83 UTC</td>\n",
              "      <td>2018-07-20 01:28:24.853 UTC</td>\n",
              "      <td>21</td>\n",
              "      <td>38</td>\n",
              "      <td>0</td>\n",
              "      <td>50</td>\n",
              "    </tr>\n",
              "    <tr>\n",
              "      <th>1990477</th>\n",
              "      <td>4464432</td>\n",
              "      <td>YTorii</td>\n",
              "      <td>2015-01-17 10:48:17.523 UTC</td>\n",
              "      <td>2019-08-31 13:51:47.413 UTC</td>\n",
              "      <td>336</td>\n",
              "      <td>67</td>\n",
              "      <td>1</td>\n",
              "      <td>13</td>\n",
              "    </tr>\n",
              "    <tr>\n",
              "      <th>1990478</th>\n",
              "      <td>4605946</td>\n",
              "      <td>space_voyager</td>\n",
              "      <td>2015-02-25 13:43:24.63 UTC</td>\n",
              "      <td>2019-07-13 23:55:47.607 UTC</td>\n",
              "      <td>884</td>\n",
              "      <td>53</td>\n",
              "      <td>1</td>\n",
              "      <td>191</td>\n",
              "    </tr>\n",
              "    <tr>\n",
              "      <th>1990479</th>\n",
              "      <td>6107989</td>\n",
              "      <td>Nicky HFE</td>\n",
              "      <td>2016-03-24 06:25:14.09 UTC</td>\n",
              "      <td>2019-08-21 13:40:34.197 UTC</td>\n",
              "      <td>108</td>\n",
              "      <td>0</td>\n",
              "      <td>0</td>\n",
              "      <td>30</td>\n",
              "    </tr>\n",
              "  </tbody>\n",
              "</table>\n",
              "<p>465415 rows × 8 columns</p>\n",
              "</div>"
            ],
            "text/plain": [
              "              id      display_name                creation_date  \\\n",
              "0             26             Shawn   2008-08-01 12:18:14.52 UTC   \n",
              "27          1109              Theo   2008-08-12 12:16:58.61 UTC   \n",
              "85        364174             stats  2010-06-11 03:34:57.137 UTC   \n",
              "87            61           Bernard  2008-08-01 14:21:00.573 UTC   \n",
              "97         20709       Black Horus   2008-09-22 20:03:39.71 UTC   \n",
              "...          ...               ...                          ...   \n",
              "1990475  4228492  Michael Spranger  2014-11-07 20:21:14.283 UTC   \n",
              "1990476  6820506           Manuela   2016-09-12 00:19:17.83 UTC   \n",
              "1990477  4464432            YTorii  2015-01-17 10:48:17.523 UTC   \n",
              "1990478  4605946     space_voyager   2015-02-25 13:43:24.63 UTC   \n",
              "1990479  6107989         Nicky HFE   2016-03-24 06:25:14.09 UTC   \n",
              "\n",
              "                    last_access_date  reputation  up_votes  down_votes  views  \n",
              "0         2018-04-11 04:40:35.66 UTC       11820       565          67   3547  \n",
              "27        2019-08-31 11:39:52.28 UTC      116072       457         136   6905  \n",
              "85       2019-08-29 18:37:35.027 UTC         325        25           1     60  \n",
              "87       2019-08-30 07:11:58.297 UTC       22779      1321         219   1731  \n",
              "97       2019-09-01 01:17:38.133 UTC         978        73           2     96  \n",
              "...                              ...         ...       ...         ...    ...  \n",
              "1990475   2019-08-28 18:01:29.56 UTC         415       112           2     17  \n",
              "1990476  2018-07-20 01:28:24.853 UTC          21        38           0     50  \n",
              "1990477  2019-08-31 13:51:47.413 UTC         336        67           1     13  \n",
              "1990478  2019-07-13 23:55:47.607 UTC         884        53           1    191  \n",
              "1990479  2019-08-21 13:40:34.197 UTC         108         0           0     30  \n",
              "\n",
              "[465415 rows x 8 columns]"
            ]
          },
          "metadata": {
            "tags": []
          },
          "execution_count": 103
        }
      ]
    },
    {
      "cell_type": "markdown",
      "metadata": {
        "id": "SbKxoFXg589S"
      },
      "source": [
        "## Prepping Join/Merge \n"
      ]
    },
    {
      "cell_type": "code",
      "metadata": {
        "id": "R6j60OJ4589S",
        "outputId": "29341ee1-8ed9-44f8-8a26-5611bef2ea45"
      },
      "source": [
        "qns.head()"
      ],
      "execution_count": null,
      "outputs": [
        {
          "output_type": "execute_result",
          "data": {
            "text/html": [
              "<div>\n",
              "<style scoped>\n",
              "    .dataframe tbody tr th:only-of-type {\n",
              "        vertical-align: middle;\n",
              "    }\n",
              "\n",
              "    .dataframe tbody tr th {\n",
              "        vertical-align: top;\n",
              "    }\n",
              "\n",
              "    .dataframe thead th {\n",
              "        text-align: right;\n",
              "    }\n",
              "</style>\n",
              "<table border=\"1\" class=\"dataframe\">\n",
              "  <thead>\n",
              "    <tr style=\"text-align: right;\">\n",
              "      <th></th>\n",
              "      <th>Id</th>\n",
              "      <th>OwnerUserId</th>\n",
              "      <th>CreationDate</th>\n",
              "      <th>ClosedDate</th>\n",
              "      <th>Score</th>\n",
              "      <th>Title</th>\n",
              "      <th>Body</th>\n",
              "    </tr>\n",
              "  </thead>\n",
              "  <tbody>\n",
              "    <tr>\n",
              "      <th>0</th>\n",
              "      <td>80</td>\n",
              "      <td>26</td>\n",
              "      <td>2008-08-01T13:57:07Z</td>\n",
              "      <td>NaN</td>\n",
              "      <td>26</td>\n",
              "      <td>SQLStatement.execute() - multiple queries in o...</td>\n",
              "      <td>&lt;p&gt;I've written a database generation script i...</td>\n",
              "    </tr>\n",
              "    <tr>\n",
              "      <th>1</th>\n",
              "      <td>90</td>\n",
              "      <td>58</td>\n",
              "      <td>2008-08-01T14:41:24Z</td>\n",
              "      <td>2012-12-26T03:45:49Z</td>\n",
              "      <td>144</td>\n",
              "      <td>Good branching and merging tutorials for Torto...</td>\n",
              "      <td>&lt;p&gt;Are there any really good tutorials explain...</td>\n",
              "    </tr>\n",
              "    <tr>\n",
              "      <th>2</th>\n",
              "      <td>120</td>\n",
              "      <td>83</td>\n",
              "      <td>2008-08-01T15:50:08Z</td>\n",
              "      <td>NaN</td>\n",
              "      <td>21</td>\n",
              "      <td>ASP.NET Site Maps</td>\n",
              "      <td>&lt;p&gt;Has anyone got experience creating &lt;strong&gt;...</td>\n",
              "    </tr>\n",
              "    <tr>\n",
              "      <th>3</th>\n",
              "      <td>180</td>\n",
              "      <td>2089740</td>\n",
              "      <td>2008-08-01T18:42:19Z</td>\n",
              "      <td>NaN</td>\n",
              "      <td>53</td>\n",
              "      <td>Function for creating color wheels</td>\n",
              "      <td>&lt;p&gt;This is something I've pseudo-solved many t...</td>\n",
              "    </tr>\n",
              "    <tr>\n",
              "      <th>4</th>\n",
              "      <td>260</td>\n",
              "      <td>91</td>\n",
              "      <td>2008-08-01T23:22:08Z</td>\n",
              "      <td>NaN</td>\n",
              "      <td>49</td>\n",
              "      <td>Adding scripting functionality to .NET applica...</td>\n",
              "      <td>&lt;p&gt;I have a little game written in C#. It uses...</td>\n",
              "    </tr>\n",
              "  </tbody>\n",
              "</table>\n",
              "</div>"
            ],
            "text/plain": [
              "    Id  OwnerUserId          CreationDate            ClosedDate  Score  \\\n",
              "0   80           26  2008-08-01T13:57:07Z                   NaN     26   \n",
              "1   90           58  2008-08-01T14:41:24Z  2012-12-26T03:45:49Z    144   \n",
              "2  120           83  2008-08-01T15:50:08Z                   NaN     21   \n",
              "3  180      2089740  2008-08-01T18:42:19Z                   NaN     53   \n",
              "4  260           91  2008-08-01T23:22:08Z                   NaN     49   \n",
              "\n",
              "                                               Title  \\\n",
              "0  SQLStatement.execute() - multiple queries in o...   \n",
              "1  Good branching and merging tutorials for Torto...   \n",
              "2                                  ASP.NET Site Maps   \n",
              "3                 Function for creating color wheels   \n",
              "4  Adding scripting functionality to .NET applica...   \n",
              "\n",
              "                                                Body  \n",
              "0  <p>I've written a database generation script i...  \n",
              "1  <p>Are there any really good tutorials explain...  \n",
              "2  <p>Has anyone got experience creating <strong>...  \n",
              "3  <p>This is something I've pseudo-solved many t...  \n",
              "4  <p>I have a little game written in C#. It uses...  "
            ]
          },
          "metadata": {
            "tags": []
          },
          "execution_count": 104
        }
      ]
    },
    {
      "cell_type": "code",
      "metadata": {
        "id": "EaodYmIJ589S"
      },
      "source": [
        "qns.rename(columns={'Id':'Q_Id', 'OwnerUserId':'Q_OwnerUserId', 'CreationDate':'Q_CreationDate','ClosedDate':'Q_ClosedDate' }, inplace=True)\n",
        "qns.rename(columns={'Score':'Q_Score', 'Title':'Q_Title', 'Body':'Q_Body' }, inplace=True)"
      ],
      "execution_count": null,
      "outputs": []
    },
    {
      "cell_type": "markdown",
      "metadata": {
        "id": "DLUCoNj5_8BI"
      },
      "source": [
        "### Renaming Questions columns with Q identifier"
      ]
    },
    {
      "cell_type": "code",
      "metadata": {
        "id": "Grsi9jJQ589S",
        "outputId": "cc8b656b-1fee-460b-b15e-ce4490e60ed1"
      },
      "source": [
        "qns.head()"
      ],
      "execution_count": null,
      "outputs": [
        {
          "output_type": "execute_result",
          "data": {
            "text/html": [
              "<div>\n",
              "<style scoped>\n",
              "    .dataframe tbody tr th:only-of-type {\n",
              "        vertical-align: middle;\n",
              "    }\n",
              "\n",
              "    .dataframe tbody tr th {\n",
              "        vertical-align: top;\n",
              "    }\n",
              "\n",
              "    .dataframe thead th {\n",
              "        text-align: right;\n",
              "    }\n",
              "</style>\n",
              "<table border=\"1\" class=\"dataframe\">\n",
              "  <thead>\n",
              "    <tr style=\"text-align: right;\">\n",
              "      <th></th>\n",
              "      <th>Q_Id</th>\n",
              "      <th>Q_OwnerUserId</th>\n",
              "      <th>Q_CreationDate</th>\n",
              "      <th>Q_ClosedDate</th>\n",
              "      <th>Q_Score</th>\n",
              "      <th>Q_Title</th>\n",
              "      <th>Q_Body</th>\n",
              "    </tr>\n",
              "  </thead>\n",
              "  <tbody>\n",
              "    <tr>\n",
              "      <th>0</th>\n",
              "      <td>80</td>\n",
              "      <td>26</td>\n",
              "      <td>2008-08-01T13:57:07Z</td>\n",
              "      <td>NaN</td>\n",
              "      <td>26</td>\n",
              "      <td>SQLStatement.execute() - multiple queries in o...</td>\n",
              "      <td>&lt;p&gt;I've written a database generation script i...</td>\n",
              "    </tr>\n",
              "    <tr>\n",
              "      <th>1</th>\n",
              "      <td>90</td>\n",
              "      <td>58</td>\n",
              "      <td>2008-08-01T14:41:24Z</td>\n",
              "      <td>2012-12-26T03:45:49Z</td>\n",
              "      <td>144</td>\n",
              "      <td>Good branching and merging tutorials for Torto...</td>\n",
              "      <td>&lt;p&gt;Are there any really good tutorials explain...</td>\n",
              "    </tr>\n",
              "    <tr>\n",
              "      <th>2</th>\n",
              "      <td>120</td>\n",
              "      <td>83</td>\n",
              "      <td>2008-08-01T15:50:08Z</td>\n",
              "      <td>NaN</td>\n",
              "      <td>21</td>\n",
              "      <td>ASP.NET Site Maps</td>\n",
              "      <td>&lt;p&gt;Has anyone got experience creating &lt;strong&gt;...</td>\n",
              "    </tr>\n",
              "    <tr>\n",
              "      <th>3</th>\n",
              "      <td>180</td>\n",
              "      <td>2089740</td>\n",
              "      <td>2008-08-01T18:42:19Z</td>\n",
              "      <td>NaN</td>\n",
              "      <td>53</td>\n",
              "      <td>Function for creating color wheels</td>\n",
              "      <td>&lt;p&gt;This is something I've pseudo-solved many t...</td>\n",
              "    </tr>\n",
              "    <tr>\n",
              "      <th>4</th>\n",
              "      <td>260</td>\n",
              "      <td>91</td>\n",
              "      <td>2008-08-01T23:22:08Z</td>\n",
              "      <td>NaN</td>\n",
              "      <td>49</td>\n",
              "      <td>Adding scripting functionality to .NET applica...</td>\n",
              "      <td>&lt;p&gt;I have a little game written in C#. It uses...</td>\n",
              "    </tr>\n",
              "  </tbody>\n",
              "</table>\n",
              "</div>"
            ],
            "text/plain": [
              "   Q_Id  Q_OwnerUserId        Q_CreationDate          Q_ClosedDate  Q_Score  \\\n",
              "0    80             26  2008-08-01T13:57:07Z                   NaN       26   \n",
              "1    90             58  2008-08-01T14:41:24Z  2012-12-26T03:45:49Z      144   \n",
              "2   120             83  2008-08-01T15:50:08Z                   NaN       21   \n",
              "3   180        2089740  2008-08-01T18:42:19Z                   NaN       53   \n",
              "4   260             91  2008-08-01T23:22:08Z                   NaN       49   \n",
              "\n",
              "                                             Q_Title  \\\n",
              "0  SQLStatement.execute() - multiple queries in o...   \n",
              "1  Good branching and merging tutorials for Torto...   \n",
              "2                                  ASP.NET Site Maps   \n",
              "3                 Function for creating color wheels   \n",
              "4  Adding scripting functionality to .NET applica...   \n",
              "\n",
              "                                              Q_Body  \n",
              "0  <p>I've written a database generation script i...  \n",
              "1  <p>Are there any really good tutorials explain...  \n",
              "2  <p>Has anyone got experience creating <strong>...  \n",
              "3  <p>This is something I've pseudo-solved many t...  \n",
              "4  <p>I have a little game written in C#. It uses...  "
            ]
          },
          "metadata": {
            "tags": []
          },
          "execution_count": 108
        }
      ]
    },
    {
      "cell_type": "code",
      "metadata": {
        "id": "Pj4NpiFC589S",
        "outputId": "2c0e7fb1-dc39-4ba6-97ba-03fcae81160e"
      },
      "source": [
        "ans.head()"
      ],
      "execution_count": null,
      "outputs": [
        {
          "output_type": "execute_result",
          "data": {
            "text/html": [
              "<div>\n",
              "<style scoped>\n",
              "    .dataframe tbody tr th:only-of-type {\n",
              "        vertical-align: middle;\n",
              "    }\n",
              "\n",
              "    .dataframe tbody tr th {\n",
              "        vertical-align: top;\n",
              "    }\n",
              "\n",
              "    .dataframe thead th {\n",
              "        text-align: right;\n",
              "    }\n",
              "</style>\n",
              "<table border=\"1\" class=\"dataframe\">\n",
              "  <thead>\n",
              "    <tr style=\"text-align: right;\">\n",
              "      <th></th>\n",
              "      <th>Id</th>\n",
              "      <th>OwnerUserId</th>\n",
              "      <th>CreationDate</th>\n",
              "      <th>ParentId</th>\n",
              "      <th>Score</th>\n",
              "      <th>Body</th>\n",
              "    </tr>\n",
              "  </thead>\n",
              "  <tbody>\n",
              "    <tr>\n",
              "      <th>0</th>\n",
              "      <td>92</td>\n",
              "      <td>61</td>\n",
              "      <td>2008-08-01T14:45:37Z</td>\n",
              "      <td>90</td>\n",
              "      <td>13</td>\n",
              "      <td>&lt;p&gt;&lt;a href=\"http://svnbook.red-bean.com/\"&gt;Vers...</td>\n",
              "    </tr>\n",
              "    <tr>\n",
              "      <th>1</th>\n",
              "      <td>124</td>\n",
              "      <td>26</td>\n",
              "      <td>2008-08-01T16:09:47Z</td>\n",
              "      <td>80</td>\n",
              "      <td>12</td>\n",
              "      <td>&lt;p&gt;I wound up using this. It is a kind of a ha...</td>\n",
              "    </tr>\n",
              "    <tr>\n",
              "      <th>2</th>\n",
              "      <td>199</td>\n",
              "      <td>50</td>\n",
              "      <td>2008-08-01T19:36:46Z</td>\n",
              "      <td>180</td>\n",
              "      <td>1</td>\n",
              "      <td>&lt;p&gt;I've read somewhere the human eye can't dis...</td>\n",
              "    </tr>\n",
              "    <tr>\n",
              "      <th>3</th>\n",
              "      <td>269</td>\n",
              "      <td>91</td>\n",
              "      <td>2008-08-01T23:49:57Z</td>\n",
              "      <td>260</td>\n",
              "      <td>4</td>\n",
              "      <td>&lt;p&gt;Yes, I thought about that, but I soon figur...</td>\n",
              "    </tr>\n",
              "    <tr>\n",
              "      <th>4</th>\n",
              "      <td>307</td>\n",
              "      <td>49</td>\n",
              "      <td>2008-08-02T01:49:46Z</td>\n",
              "      <td>260</td>\n",
              "      <td>28</td>\n",
              "      <td>&lt;p&gt;&lt;a href=\"http://www.codeproject.com/Article...</td>\n",
              "    </tr>\n",
              "  </tbody>\n",
              "</table>\n",
              "</div>"
            ],
            "text/plain": [
              "    Id  OwnerUserId          CreationDate  ParentId  Score  \\\n",
              "0   92           61  2008-08-01T14:45:37Z        90     13   \n",
              "1  124           26  2008-08-01T16:09:47Z        80     12   \n",
              "2  199           50  2008-08-01T19:36:46Z       180      1   \n",
              "3  269           91  2008-08-01T23:49:57Z       260      4   \n",
              "4  307           49  2008-08-02T01:49:46Z       260     28   \n",
              "\n",
              "                                                Body  \n",
              "0  <p><a href=\"http://svnbook.red-bean.com/\">Vers...  \n",
              "1  <p>I wound up using this. It is a kind of a ha...  \n",
              "2  <p>I've read somewhere the human eye can't dis...  \n",
              "3  <p>Yes, I thought about that, but I soon figur...  \n",
              "4  <p><a href=\"http://www.codeproject.com/Article...  "
            ]
          },
          "metadata": {
            "tags": []
          },
          "execution_count": 109
        }
      ]
    },
    {
      "cell_type": "markdown",
      "metadata": {
        "id": "PADpJEw9AHfH"
      },
      "source": [
        "###  Renaming Answers columns with A identifier"
      ]
    },
    {
      "cell_type": "code",
      "metadata": {
        "id": "YZmblcCP589T"
      },
      "source": [
        "ans.rename(columns={'Id':'A_Id', 'OwnerUserId':'A_OwnerUserId', 'CreationDate':'A_CreationDate' }, inplace=True)\n",
        "ans.rename(columns={'ParentId':'Q_Id','Score':'A_Score', 'Body':'A_Body' }, inplace=True)"
      ],
      "execution_count": null,
      "outputs": []
    },
    {
      "cell_type": "code",
      "metadata": {
        "id": "d3RIP7xh589T",
        "outputId": "6e3de9c8-805b-4b29-d538-2c3faaabe6c8"
      },
      "source": [
        "ans.sample()"
      ],
      "execution_count": null,
      "outputs": [
        {
          "output_type": "execute_result",
          "data": {
            "text/html": [
              "<div>\n",
              "<style scoped>\n",
              "    .dataframe tbody tr th:only-of-type {\n",
              "        vertical-align: middle;\n",
              "    }\n",
              "\n",
              "    .dataframe tbody tr th {\n",
              "        vertical-align: top;\n",
              "    }\n",
              "\n",
              "    .dataframe thead th {\n",
              "        text-align: right;\n",
              "    }\n",
              "</style>\n",
              "<table border=\"1\" class=\"dataframe\">\n",
              "  <thead>\n",
              "    <tr style=\"text-align: right;\">\n",
              "      <th></th>\n",
              "      <th>A_Id</th>\n",
              "      <th>A_OwnerUserId</th>\n",
              "      <th>A_CreationDate</th>\n",
              "      <th>Q_Id</th>\n",
              "      <th>A_Score</th>\n",
              "      <th>A_Body</th>\n",
              "    </tr>\n",
              "  </thead>\n",
              "  <tbody>\n",
              "    <tr>\n",
              "      <th>1974864</th>\n",
              "      <td>39279852</td>\n",
              "      <td>4003419</td>\n",
              "      <td>2016-09-01T19:53:07Z</td>\n",
              "      <td>39279260</td>\n",
              "      <td>1</td>\n",
              "      <td>&lt;p&gt;Using a CASE to calculate the rule for each...</td>\n",
              "    </tr>\n",
              "  </tbody>\n",
              "</table>\n",
              "</div>"
            ],
            "text/plain": [
              "             A_Id  A_OwnerUserId        A_CreationDate      Q_Id  A_Score  \\\n",
              "1974864  39279852        4003419  2016-09-01T19:53:07Z  39279260        1   \n",
              "\n",
              "                                                    A_Body  \n",
              "1974864  <p>Using a CASE to calculate the rule for each...  "
            ]
          },
          "metadata": {
            "tags": []
          },
          "execution_count": 114
        }
      ]
    },
    {
      "cell_type": "code",
      "metadata": {
        "id": "FJCurL4A589T",
        "outputId": "f4a00d56-f3a3-4ede-d390-12333d67a266"
      },
      "source": [
        "qns.sample()"
      ],
      "execution_count": null,
      "outputs": [
        {
          "output_type": "execute_result",
          "data": {
            "text/html": [
              "<div>\n",
              "<style scoped>\n",
              "    .dataframe tbody tr th:only-of-type {\n",
              "        vertical-align: middle;\n",
              "    }\n",
              "\n",
              "    .dataframe tbody tr th {\n",
              "        vertical-align: top;\n",
              "    }\n",
              "\n",
              "    .dataframe thead th {\n",
              "        text-align: right;\n",
              "    }\n",
              "</style>\n",
              "<table border=\"1\" class=\"dataframe\">\n",
              "  <thead>\n",
              "    <tr style=\"text-align: right;\">\n",
              "      <th></th>\n",
              "      <th>Q_Id</th>\n",
              "      <th>Q_OwnerUserId</th>\n",
              "      <th>Q_CreationDate</th>\n",
              "      <th>Q_ClosedDate</th>\n",
              "      <th>Q_Score</th>\n",
              "      <th>Q_Title</th>\n",
              "      <th>Q_Body</th>\n",
              "    </tr>\n",
              "  </thead>\n",
              "  <tbody>\n",
              "    <tr>\n",
              "      <th>749860</th>\n",
              "      <td>25421400</td>\n",
              "      <td>3518947</td>\n",
              "      <td>2014-08-21T08:15:34Z</td>\n",
              "      <td>NaN</td>\n",
              "      <td>4</td>\n",
              "      <td>AngularJS error handling when resolving stuff ...</td>\n",
              "      <td>&lt;p&gt;I've been doing lots of research on how to ...</td>\n",
              "    </tr>\n",
              "  </tbody>\n",
              "</table>\n",
              "</div>"
            ],
            "text/plain": [
              "            Q_Id  Q_OwnerUserId        Q_CreationDate Q_ClosedDate  Q_Score  \\\n",
              "749860  25421400        3518947  2014-08-21T08:15:34Z          NaN        4   \n",
              "\n",
              "                                                  Q_Title  \\\n",
              "749860  AngularJS error handling when resolving stuff ...   \n",
              "\n",
              "                                                   Q_Body  \n",
              "749860  <p>I've been doing lots of research on how to ...  "
            ]
          },
          "metadata": {
            "tags": []
          },
          "execution_count": 113
        }
      ]
    },
    {
      "cell_type": "markdown",
      "metadata": {
        "id": "4UwjA4V1ASlT"
      },
      "source": [
        "### Cosolidating Tags as CSV values grouped by Question ID "
      ]
    },
    {
      "cell_type": "markdown",
      "metadata": {
        "id": "KohMr-BU589T"
      },
      "source": [
        "**Breaking up the below commented line to make sure processor is NOT taxed**\n",
        "\n",
        "Had initiatlly tested with tags.head(5000) and worked well but running on entire dataframe execution almost made jupyter unresponsive."
      ]
    },
    {
      "cell_type": "code",
      "metadata": {
        "id": "U-ZAkwJV589T"
      },
      "source": [
        "#tags.groupby(['Id'])['Tag'].apply(lambda Tag: ''.join(Tag.to_string(index=False))).str.replace('(\\\\n)', ',').reset_index()"
      ],
      "execution_count": null,
      "outputs": []
    },
    {
      "cell_type": "code",
      "metadata": {
        "id": "lXYSdnzK589T"
      },
      "source": [
        "tags2 = tags.groupby(['Id'])['Tag']"
      ],
      "execution_count": null,
      "outputs": []
    },
    {
      "cell_type": "code",
      "metadata": {
        "id": "zliKRZM7589U"
      },
      "source": [
        "tags3 = tags2.apply(lambda Tag: ''.join(Tag.to_string(index=False)))"
      ],
      "execution_count": null,
      "outputs": []
    },
    {
      "cell_type": "code",
      "metadata": {
        "id": "sSTJWQY0589U",
        "outputId": "e01d2d81-0b81-448a-9296-dddcadfbac57"
      },
      "source": [
        "tags3.str.replace('(\\\\n)', ',').reset_index()"
      ],
      "execution_count": null,
      "outputs": [
        {
          "output_type": "execute_result",
          "data": {
            "text/html": [
              "<div>\n",
              "<style scoped>\n",
              "    .dataframe tbody tr th:only-of-type {\n",
              "        vertical-align: middle;\n",
              "    }\n",
              "\n",
              "    .dataframe tbody tr th {\n",
              "        vertical-align: top;\n",
              "    }\n",
              "\n",
              "    .dataframe thead th {\n",
              "        text-align: right;\n",
              "    }\n",
              "</style>\n",
              "<table border=\"1\" class=\"dataframe\">\n",
              "  <thead>\n",
              "    <tr style=\"text-align: right;\">\n",
              "      <th></th>\n",
              "      <th>Id</th>\n",
              "      <th>Tag</th>\n",
              "    </tr>\n",
              "  </thead>\n",
              "  <tbody>\n",
              "    <tr>\n",
              "      <th>0</th>\n",
              "      <td>80</td>\n",
              "      <td>flex, actionscript-3,            air</td>\n",
              "    </tr>\n",
              "    <tr>\n",
              "      <th>1</th>\n",
              "      <td>90</td>\n",
              "      <td>svn,           tortoisesvn,...</td>\n",
              "    </tr>\n",
              "    <tr>\n",
              "      <th>2</th>\n",
              "      <td>120</td>\n",
              "      <td>sql, asp.net, sitemap</td>\n",
              "    </tr>\n",
              "    <tr>\n",
              "      <th>3</th>\n",
              "      <td>180</td>\n",
              "      <td>algorithm, language-agnostic,        ...</td>\n",
              "    </tr>\n",
              "    <tr>\n",
              "      <th>4</th>\n",
              "      <td>260</td>\n",
              "      <td>c#,                  .net,...</td>\n",
              "    </tr>\n",
              "    <tr>\n",
              "      <th>...</th>\n",
              "      <td>...</td>\n",
              "      <td>...</td>\n",
              "    </tr>\n",
              "    <tr>\n",
              "      <th>1264209</th>\n",
              "      <td>40143210</td>\n",
              "      <td>php, .htaccess</td>\n",
              "    </tr>\n",
              "    <tr>\n",
              "      <th>1264210</th>\n",
              "      <td>40143300</td>\n",
              "      <td>google-bigquery</td>\n",
              "    </tr>\n",
              "    <tr>\n",
              "      <th>1264211</th>\n",
              "      <td>40143340</td>\n",
              "      <td>android, android-studio</td>\n",
              "    </tr>\n",
              "    <tr>\n",
              "      <th>1264212</th>\n",
              "      <td>40143360</td>\n",
              "      <td>javascript,     vue.js</td>\n",
              "    </tr>\n",
              "    <tr>\n",
              "      <th>1264213</th>\n",
              "      <td>40143380</td>\n",
              "      <td>npm, mocha, babel</td>\n",
              "    </tr>\n",
              "  </tbody>\n",
              "</table>\n",
              "<p>1264214 rows × 2 columns</p>\n",
              "</div>"
            ],
            "text/plain": [
              "               Id                                                Tag\n",
              "0              80               flex, actionscript-3,            air\n",
              "1              90                     svn,           tortoisesvn,...\n",
              "2             120                              sql, asp.net, sitemap\n",
              "3             180           algorithm, language-agnostic,        ...\n",
              "4             260                      c#,                  .net,...\n",
              "...           ...                                                ...\n",
              "1264209  40143210                                     php, .htaccess\n",
              "1264210  40143300                                    google-bigquery\n",
              "1264211  40143340                            android, android-studio\n",
              "1264212  40143360                             javascript,     vue.js\n",
              "1264213  40143380                                  npm, mocha, babel\n",
              "\n",
              "[1264214 rows x 2 columns]"
            ]
          },
          "metadata": {
            "tags": []
          },
          "execution_count": 163
        }
      ]
    },
    {
      "cell_type": "code",
      "metadata": {
        "id": "2UpgoXpd589U"
      },
      "source": [
        "tags=tags3.str.replace('(\\\\n)', ',').reset_index()"
      ],
      "execution_count": null,
      "outputs": []
    },
    {
      "cell_type": "code",
      "metadata": {
        "id": "HsRLwHnF589U",
        "outputId": "b5691800-2c49-4427-eb2a-4d72c68a5b0e"
      },
      "source": [
        "tags"
      ],
      "execution_count": null,
      "outputs": [
        {
          "output_type": "execute_result",
          "data": {
            "text/html": [
              "<div>\n",
              "<style scoped>\n",
              "    .dataframe tbody tr th:only-of-type {\n",
              "        vertical-align: middle;\n",
              "    }\n",
              "\n",
              "    .dataframe tbody tr th {\n",
              "        vertical-align: top;\n",
              "    }\n",
              "\n",
              "    .dataframe thead th {\n",
              "        text-align: right;\n",
              "    }\n",
              "</style>\n",
              "<table border=\"1\" class=\"dataframe\">\n",
              "  <thead>\n",
              "    <tr style=\"text-align: right;\">\n",
              "      <th></th>\n",
              "      <th>Id</th>\n",
              "      <th>Tag</th>\n",
              "    </tr>\n",
              "  </thead>\n",
              "  <tbody>\n",
              "    <tr>\n",
              "      <th>0</th>\n",
              "      <td>80</td>\n",
              "      <td>flex, actionscript-3,            air</td>\n",
              "    </tr>\n",
              "    <tr>\n",
              "      <th>1</th>\n",
              "      <td>90</td>\n",
              "      <td>svn,           tortoisesvn,...</td>\n",
              "    </tr>\n",
              "    <tr>\n",
              "      <th>2</th>\n",
              "      <td>120</td>\n",
              "      <td>sql, asp.net, sitemap</td>\n",
              "    </tr>\n",
              "    <tr>\n",
              "      <th>3</th>\n",
              "      <td>180</td>\n",
              "      <td>algorithm, language-agnostic,        ...</td>\n",
              "    </tr>\n",
              "    <tr>\n",
              "      <th>4</th>\n",
              "      <td>260</td>\n",
              "      <td>c#,                  .net,...</td>\n",
              "    </tr>\n",
              "    <tr>\n",
              "      <th>...</th>\n",
              "      <td>...</td>\n",
              "      <td>...</td>\n",
              "    </tr>\n",
              "    <tr>\n",
              "      <th>1264209</th>\n",
              "      <td>40143210</td>\n",
              "      <td>php, .htaccess</td>\n",
              "    </tr>\n",
              "    <tr>\n",
              "      <th>1264210</th>\n",
              "      <td>40143300</td>\n",
              "      <td>google-bigquery</td>\n",
              "    </tr>\n",
              "    <tr>\n",
              "      <th>1264211</th>\n",
              "      <td>40143340</td>\n",
              "      <td>android, android-studio</td>\n",
              "    </tr>\n",
              "    <tr>\n",
              "      <th>1264212</th>\n",
              "      <td>40143360</td>\n",
              "      <td>javascript,     vue.js</td>\n",
              "    </tr>\n",
              "    <tr>\n",
              "      <th>1264213</th>\n",
              "      <td>40143380</td>\n",
              "      <td>npm, mocha, babel</td>\n",
              "    </tr>\n",
              "  </tbody>\n",
              "</table>\n",
              "<p>1264214 rows × 2 columns</p>\n",
              "</div>"
            ],
            "text/plain": [
              "               Id                                                Tag\n",
              "0              80               flex, actionscript-3,            air\n",
              "1              90                     svn,           tortoisesvn,...\n",
              "2             120                              sql, asp.net, sitemap\n",
              "3             180           algorithm, language-agnostic,        ...\n",
              "4             260                      c#,                  .net,...\n",
              "...           ...                                                ...\n",
              "1264209  40143210                                     php, .htaccess\n",
              "1264210  40143300                                    google-bigquery\n",
              "1264211  40143340                            android, android-studio\n",
              "1264212  40143360                             javascript,     vue.js\n",
              "1264213  40143380                                  npm, mocha, babel\n",
              "\n",
              "[1264214 rows x 2 columns]"
            ]
          },
          "metadata": {
            "tags": []
          },
          "execution_count": 176
        }
      ]
    },
    {
      "cell_type": "code",
      "metadata": {
        "id": "KkfbAJYs589U"
      },
      "source": [
        "tags.rename(columns={'Id':'Q_Id'}, inplace= True)"
      ],
      "execution_count": null,
      "outputs": []
    },
    {
      "cell_type": "code",
      "metadata": {
        "id": "eFB2c8SA589U",
        "outputId": "df2d9efc-f4cc-4c01-c08a-2728663b0c02"
      },
      "source": [
        "tags"
      ],
      "execution_count": null,
      "outputs": [
        {
          "output_type": "execute_result",
          "data": {
            "text/html": [
              "<div>\n",
              "<style scoped>\n",
              "    .dataframe tbody tr th:only-of-type {\n",
              "        vertical-align: middle;\n",
              "    }\n",
              "\n",
              "    .dataframe tbody tr th {\n",
              "        vertical-align: top;\n",
              "    }\n",
              "\n",
              "    .dataframe thead th {\n",
              "        text-align: right;\n",
              "    }\n",
              "</style>\n",
              "<table border=\"1\" class=\"dataframe\">\n",
              "  <thead>\n",
              "    <tr style=\"text-align: right;\">\n",
              "      <th></th>\n",
              "      <th>Q_Id</th>\n",
              "      <th>Tag</th>\n",
              "    </tr>\n",
              "  </thead>\n",
              "  <tbody>\n",
              "    <tr>\n",
              "      <th>0</th>\n",
              "      <td>80</td>\n",
              "      <td>flex, actionscript-3,            air</td>\n",
              "    </tr>\n",
              "    <tr>\n",
              "      <th>1</th>\n",
              "      <td>90</td>\n",
              "      <td>svn,           tortoisesvn,...</td>\n",
              "    </tr>\n",
              "    <tr>\n",
              "      <th>2</th>\n",
              "      <td>120</td>\n",
              "      <td>sql, asp.net, sitemap</td>\n",
              "    </tr>\n",
              "    <tr>\n",
              "      <th>3</th>\n",
              "      <td>180</td>\n",
              "      <td>algorithm, language-agnostic,        ...</td>\n",
              "    </tr>\n",
              "    <tr>\n",
              "      <th>4</th>\n",
              "      <td>260</td>\n",
              "      <td>c#,                  .net,...</td>\n",
              "    </tr>\n",
              "    <tr>\n",
              "      <th>...</th>\n",
              "      <td>...</td>\n",
              "      <td>...</td>\n",
              "    </tr>\n",
              "    <tr>\n",
              "      <th>1264209</th>\n",
              "      <td>40143210</td>\n",
              "      <td>php, .htaccess</td>\n",
              "    </tr>\n",
              "    <tr>\n",
              "      <th>1264210</th>\n",
              "      <td>40143300</td>\n",
              "      <td>google-bigquery</td>\n",
              "    </tr>\n",
              "    <tr>\n",
              "      <th>1264211</th>\n",
              "      <td>40143340</td>\n",
              "      <td>android, android-studio</td>\n",
              "    </tr>\n",
              "    <tr>\n",
              "      <th>1264212</th>\n",
              "      <td>40143360</td>\n",
              "      <td>javascript,     vue.js</td>\n",
              "    </tr>\n",
              "    <tr>\n",
              "      <th>1264213</th>\n",
              "      <td>40143380</td>\n",
              "      <td>npm, mocha, babel</td>\n",
              "    </tr>\n",
              "  </tbody>\n",
              "</table>\n",
              "<p>1264214 rows × 2 columns</p>\n",
              "</div>"
            ],
            "text/plain": [
              "             Q_Id                                                Tag\n",
              "0              80               flex, actionscript-3,            air\n",
              "1              90                     svn,           tortoisesvn,...\n",
              "2             120                              sql, asp.net, sitemap\n",
              "3             180           algorithm, language-agnostic,        ...\n",
              "4             260                      c#,                  .net,...\n",
              "...           ...                                                ...\n",
              "1264209  40143210                                     php, .htaccess\n",
              "1264210  40143300                                    google-bigquery\n",
              "1264211  40143340                            android, android-studio\n",
              "1264212  40143360                             javascript,     vue.js\n",
              "1264213  40143380                                  npm, mocha, babel\n",
              "\n",
              "[1264214 rows x 2 columns]"
            ]
          },
          "metadata": {
            "tags": []
          },
          "execution_count": 178
        }
      ]
    },
    {
      "cell_type": "code",
      "metadata": {
        "id": "0ECmZ7FW589V",
        "outputId": "b0f74a2b-0ac0-4d48-e469-f164a09edd16"
      },
      "source": [
        "users"
      ],
      "execution_count": null,
      "outputs": [
        {
          "output_type": "execute_result",
          "data": {
            "text/html": [
              "<div>\n",
              "<style scoped>\n",
              "    .dataframe tbody tr th:only-of-type {\n",
              "        vertical-align: middle;\n",
              "    }\n",
              "\n",
              "    .dataframe tbody tr th {\n",
              "        vertical-align: top;\n",
              "    }\n",
              "\n",
              "    .dataframe thead th {\n",
              "        text-align: right;\n",
              "    }\n",
              "</style>\n",
              "<table border=\"1\" class=\"dataframe\">\n",
              "  <thead>\n",
              "    <tr style=\"text-align: right;\">\n",
              "      <th></th>\n",
              "      <th>id</th>\n",
              "      <th>display_name</th>\n",
              "      <th>creation_date</th>\n",
              "      <th>last_access_date</th>\n",
              "      <th>reputation</th>\n",
              "      <th>up_votes</th>\n",
              "      <th>down_votes</th>\n",
              "      <th>views</th>\n",
              "    </tr>\n",
              "  </thead>\n",
              "  <tbody>\n",
              "    <tr>\n",
              "      <th>0</th>\n",
              "      <td>26</td>\n",
              "      <td>Shawn</td>\n",
              "      <td>2008-08-01 12:18:14.52 UTC</td>\n",
              "      <td>2018-04-11 04:40:35.66 UTC</td>\n",
              "      <td>11820</td>\n",
              "      <td>565</td>\n",
              "      <td>67</td>\n",
              "      <td>3547</td>\n",
              "    </tr>\n",
              "    <tr>\n",
              "      <th>27</th>\n",
              "      <td>1109</td>\n",
              "      <td>Theo</td>\n",
              "      <td>2008-08-12 12:16:58.61 UTC</td>\n",
              "      <td>2019-08-31 11:39:52.28 UTC</td>\n",
              "      <td>116072</td>\n",
              "      <td>457</td>\n",
              "      <td>136</td>\n",
              "      <td>6905</td>\n",
              "    </tr>\n",
              "    <tr>\n",
              "      <th>85</th>\n",
              "      <td>364174</td>\n",
              "      <td>stats</td>\n",
              "      <td>2010-06-11 03:34:57.137 UTC</td>\n",
              "      <td>2019-08-29 18:37:35.027 UTC</td>\n",
              "      <td>325</td>\n",
              "      <td>25</td>\n",
              "      <td>1</td>\n",
              "      <td>60</td>\n",
              "    </tr>\n",
              "    <tr>\n",
              "      <th>87</th>\n",
              "      <td>61</td>\n",
              "      <td>Bernard</td>\n",
              "      <td>2008-08-01 14:21:00.573 UTC</td>\n",
              "      <td>2019-08-30 07:11:58.297 UTC</td>\n",
              "      <td>22779</td>\n",
              "      <td>1321</td>\n",
              "      <td>219</td>\n",
              "      <td>1731</td>\n",
              "    </tr>\n",
              "    <tr>\n",
              "      <th>97</th>\n",
              "      <td>20709</td>\n",
              "      <td>Black Horus</td>\n",
              "      <td>2008-09-22 20:03:39.71 UTC</td>\n",
              "      <td>2019-09-01 01:17:38.133 UTC</td>\n",
              "      <td>978</td>\n",
              "      <td>73</td>\n",
              "      <td>2</td>\n",
              "      <td>96</td>\n",
              "    </tr>\n",
              "    <tr>\n",
              "      <th>...</th>\n",
              "      <td>...</td>\n",
              "      <td>...</td>\n",
              "      <td>...</td>\n",
              "      <td>...</td>\n",
              "      <td>...</td>\n",
              "      <td>...</td>\n",
              "      <td>...</td>\n",
              "      <td>...</td>\n",
              "    </tr>\n",
              "    <tr>\n",
              "      <th>1990475</th>\n",
              "      <td>4228492</td>\n",
              "      <td>Michael Spranger</td>\n",
              "      <td>2014-11-07 20:21:14.283 UTC</td>\n",
              "      <td>2019-08-28 18:01:29.56 UTC</td>\n",
              "      <td>415</td>\n",
              "      <td>112</td>\n",
              "      <td>2</td>\n",
              "      <td>17</td>\n",
              "    </tr>\n",
              "    <tr>\n",
              "      <th>1990476</th>\n",
              "      <td>6820506</td>\n",
              "      <td>Manuela</td>\n",
              "      <td>2016-09-12 00:19:17.83 UTC</td>\n",
              "      <td>2018-07-20 01:28:24.853 UTC</td>\n",
              "      <td>21</td>\n",
              "      <td>38</td>\n",
              "      <td>0</td>\n",
              "      <td>50</td>\n",
              "    </tr>\n",
              "    <tr>\n",
              "      <th>1990477</th>\n",
              "      <td>4464432</td>\n",
              "      <td>YTorii</td>\n",
              "      <td>2015-01-17 10:48:17.523 UTC</td>\n",
              "      <td>2019-08-31 13:51:47.413 UTC</td>\n",
              "      <td>336</td>\n",
              "      <td>67</td>\n",
              "      <td>1</td>\n",
              "      <td>13</td>\n",
              "    </tr>\n",
              "    <tr>\n",
              "      <th>1990478</th>\n",
              "      <td>4605946</td>\n",
              "      <td>space_voyager</td>\n",
              "      <td>2015-02-25 13:43:24.63 UTC</td>\n",
              "      <td>2019-07-13 23:55:47.607 UTC</td>\n",
              "      <td>884</td>\n",
              "      <td>53</td>\n",
              "      <td>1</td>\n",
              "      <td>191</td>\n",
              "    </tr>\n",
              "    <tr>\n",
              "      <th>1990479</th>\n",
              "      <td>6107989</td>\n",
              "      <td>Nicky HFE</td>\n",
              "      <td>2016-03-24 06:25:14.09 UTC</td>\n",
              "      <td>2019-08-21 13:40:34.197 UTC</td>\n",
              "      <td>108</td>\n",
              "      <td>0</td>\n",
              "      <td>0</td>\n",
              "      <td>30</td>\n",
              "    </tr>\n",
              "  </tbody>\n",
              "</table>\n",
              "<p>465415 rows × 8 columns</p>\n",
              "</div>"
            ],
            "text/plain": [
              "              id      display_name                creation_date  \\\n",
              "0             26             Shawn   2008-08-01 12:18:14.52 UTC   \n",
              "27          1109              Theo   2008-08-12 12:16:58.61 UTC   \n",
              "85        364174             stats  2010-06-11 03:34:57.137 UTC   \n",
              "87            61           Bernard  2008-08-01 14:21:00.573 UTC   \n",
              "97         20709       Black Horus   2008-09-22 20:03:39.71 UTC   \n",
              "...          ...               ...                          ...   \n",
              "1990475  4228492  Michael Spranger  2014-11-07 20:21:14.283 UTC   \n",
              "1990476  6820506           Manuela   2016-09-12 00:19:17.83 UTC   \n",
              "1990477  4464432            YTorii  2015-01-17 10:48:17.523 UTC   \n",
              "1990478  4605946     space_voyager   2015-02-25 13:43:24.63 UTC   \n",
              "1990479  6107989         Nicky HFE   2016-03-24 06:25:14.09 UTC   \n",
              "\n",
              "                    last_access_date  reputation  up_votes  down_votes  views  \n",
              "0         2018-04-11 04:40:35.66 UTC       11820       565          67   3547  \n",
              "27        2019-08-31 11:39:52.28 UTC      116072       457         136   6905  \n",
              "85       2019-08-29 18:37:35.027 UTC         325        25           1     60  \n",
              "87       2019-08-30 07:11:58.297 UTC       22779      1321         219   1731  \n",
              "97       2019-09-01 01:17:38.133 UTC         978        73           2     96  \n",
              "...                              ...         ...       ...         ...    ...  \n",
              "1990475   2019-08-28 18:01:29.56 UTC         415       112           2     17  \n",
              "1990476  2018-07-20 01:28:24.853 UTC          21        38           0     50  \n",
              "1990477  2019-08-31 13:51:47.413 UTC         336        67           1     13  \n",
              "1990478  2019-07-13 23:55:47.607 UTC         884        53           1    191  \n",
              "1990479  2019-08-21 13:40:34.197 UTC         108         0           0     30  \n",
              "\n",
              "[465415 rows x 8 columns]"
            ]
          },
          "metadata": {
            "tags": []
          },
          "execution_count": 179
        }
      ]
    },
    {
      "cell_type": "code",
      "metadata": {
        "id": "KU27HE2f589V",
        "outputId": "eeeda11c-6c32-4ff6-9b81-6d024e20eb94"
      },
      "source": [
        "ans.sample()"
      ],
      "execution_count": null,
      "outputs": [
        {
          "output_type": "execute_result",
          "data": {
            "text/html": [
              "<div>\n",
              "<style scoped>\n",
              "    .dataframe tbody tr th:only-of-type {\n",
              "        vertical-align: middle;\n",
              "    }\n",
              "\n",
              "    .dataframe tbody tr th {\n",
              "        vertical-align: top;\n",
              "    }\n",
              "\n",
              "    .dataframe thead th {\n",
              "        text-align: right;\n",
              "    }\n",
              "</style>\n",
              "<table border=\"1\" class=\"dataframe\">\n",
              "  <thead>\n",
              "    <tr style=\"text-align: right;\">\n",
              "      <th></th>\n",
              "      <th>A_Id</th>\n",
              "      <th>A_OwnerUserId</th>\n",
              "      <th>A_CreationDate</th>\n",
              "      <th>Q_Id</th>\n",
              "      <th>A_Score</th>\n",
              "      <th>A_Body</th>\n",
              "    </tr>\n",
              "  </thead>\n",
              "  <tbody>\n",
              "    <tr>\n",
              "      <th>9490</th>\n",
              "      <td>180345</td>\n",
              "      <td>14690</td>\n",
              "      <td>2008-10-07T20:48:49Z</td>\n",
              "      <td>180320</td>\n",
              "      <td>2</td>\n",
              "      <td>&lt;p&gt;Templates are type safe. With defines, you ...</td>\n",
              "    </tr>\n",
              "  </tbody>\n",
              "</table>\n",
              "</div>"
            ],
            "text/plain": [
              "        A_Id  A_OwnerUserId        A_CreationDate    Q_Id  A_Score  \\\n",
              "9490  180345          14690  2008-10-07T20:48:49Z  180320        2   \n",
              "\n",
              "                                                 A_Body  \n",
              "9490  <p>Templates are type safe. With defines, you ...  "
            ]
          },
          "metadata": {
            "tags": []
          },
          "execution_count": 180
        }
      ]
    },
    {
      "cell_type": "code",
      "metadata": {
        "id": "4YmZZU2P589V",
        "outputId": "88195273-f917-4b82-a32e-85d299aacded"
      },
      "source": [
        "qns.sample()"
      ],
      "execution_count": null,
      "outputs": [
        {
          "output_type": "execute_result",
          "data": {
            "text/html": [
              "<div>\n",
              "<style scoped>\n",
              "    .dataframe tbody tr th:only-of-type {\n",
              "        vertical-align: middle;\n",
              "    }\n",
              "\n",
              "    .dataframe tbody tr th {\n",
              "        vertical-align: top;\n",
              "    }\n",
              "\n",
              "    .dataframe thead th {\n",
              "        text-align: right;\n",
              "    }\n",
              "</style>\n",
              "<table border=\"1\" class=\"dataframe\">\n",
              "  <thead>\n",
              "    <tr style=\"text-align: right;\">\n",
              "      <th></th>\n",
              "      <th>Q_Id</th>\n",
              "      <th>Q_OwnerUserId</th>\n",
              "      <th>Q_CreationDate</th>\n",
              "      <th>Q_ClosedDate</th>\n",
              "      <th>Q_Score</th>\n",
              "      <th>Q_Title</th>\n",
              "      <th>Q_Body</th>\n",
              "    </tr>\n",
              "  </thead>\n",
              "  <tbody>\n",
              "    <tr>\n",
              "      <th>544954</th>\n",
              "      <td>18883970</td>\n",
              "      <td>929834</td>\n",
              "      <td>2013-09-18T23:25:02Z</td>\n",
              "      <td>NaN</td>\n",
              "      <td>0</td>\n",
              "      <td>toolkit:ListPicker is Null when trying to set ...</td>\n",
              "      <td>&lt;p&gt;Quite new to Windows Phone Applications.&lt;/p...</td>\n",
              "    </tr>\n",
              "  </tbody>\n",
              "</table>\n",
              "</div>"
            ],
            "text/plain": [
              "            Q_Id  Q_OwnerUserId        Q_CreationDate Q_ClosedDate  Q_Score  \\\n",
              "544954  18883970         929834  2013-09-18T23:25:02Z          NaN        0   \n",
              "\n",
              "                                                  Q_Title  \\\n",
              "544954  toolkit:ListPicker is Null when trying to set ...   \n",
              "\n",
              "                                                   Q_Body  \n",
              "544954  <p>Quite new to Windows Phone Applications.</p...  "
            ]
          },
          "metadata": {
            "tags": []
          },
          "execution_count": 181
        }
      ]
    },
    {
      "cell_type": "code",
      "metadata": {
        "id": "jGk5oJdP589V",
        "outputId": "20eb4ea9-9806-470d-b983-30ce6a5ec5cd"
      },
      "source": [
        "tags.sample()"
      ],
      "execution_count": null,
      "outputs": [
        {
          "output_type": "execute_result",
          "data": {
            "text/html": [
              "<div>\n",
              "<style scoped>\n",
              "    .dataframe tbody tr th:only-of-type {\n",
              "        vertical-align: middle;\n",
              "    }\n",
              "\n",
              "    .dataframe tbody tr th {\n",
              "        vertical-align: top;\n",
              "    }\n",
              "\n",
              "    .dataframe thead th {\n",
              "        text-align: right;\n",
              "    }\n",
              "</style>\n",
              "<table border=\"1\" class=\"dataframe\">\n",
              "  <thead>\n",
              "    <tr style=\"text-align: right;\">\n",
              "      <th></th>\n",
              "      <th>Q_Id</th>\n",
              "      <th>Tag</th>\n",
              "    </tr>\n",
              "  </thead>\n",
              "  <tbody>\n",
              "    <tr>\n",
              "      <th>483124</th>\n",
              "      <td>16872940</td>\n",
              "      <td>polygon, kineticjs,     tween</td>\n",
              "    </tr>\n",
              "  </tbody>\n",
              "</table>\n",
              "</div>"
            ],
            "text/plain": [
              "            Q_Id                               Tag\n",
              "483124  16872940     polygon, kineticjs,     tween"
            ]
          },
          "metadata": {
            "tags": []
          },
          "execution_count": 182
        }
      ]
    },
    {
      "cell_type": "code",
      "metadata": {
        "id": "0vim4HNN589V",
        "outputId": "ff25af0c-b47d-4ca8-a92c-a5582c906fe2"
      },
      "source": [
        "users.sample()"
      ],
      "execution_count": null,
      "outputs": [
        {
          "output_type": "execute_result",
          "data": {
            "text/html": [
              "<div>\n",
              "<style scoped>\n",
              "    .dataframe tbody tr th:only-of-type {\n",
              "        vertical-align: middle;\n",
              "    }\n",
              "\n",
              "    .dataframe tbody tr th {\n",
              "        vertical-align: top;\n",
              "    }\n",
              "\n",
              "    .dataframe thead th {\n",
              "        text-align: right;\n",
              "    }\n",
              "</style>\n",
              "<table border=\"1\" class=\"dataframe\">\n",
              "  <thead>\n",
              "    <tr style=\"text-align: right;\">\n",
              "      <th></th>\n",
              "      <th>id</th>\n",
              "      <th>display_name</th>\n",
              "      <th>creation_date</th>\n",
              "      <th>last_access_date</th>\n",
              "      <th>reputation</th>\n",
              "      <th>up_votes</th>\n",
              "      <th>down_votes</th>\n",
              "      <th>views</th>\n",
              "    </tr>\n",
              "  </thead>\n",
              "  <tbody>\n",
              "    <tr>\n",
              "      <th>1923005</th>\n",
              "      <td>2100779</td>\n",
              "      <td>RadoTonev</td>\n",
              "      <td>2013-02-22 20:10:30.017 UTC</td>\n",
              "      <td>2019-01-10 03:41:04.417 UTC</td>\n",
              "      <td>20</td>\n",
              "      <td>7</td>\n",
              "      <td>0</td>\n",
              "      <td>5</td>\n",
              "    </tr>\n",
              "  </tbody>\n",
              "</table>\n",
              "</div>"
            ],
            "text/plain": [
              "              id display_name                creation_date  \\\n",
              "1923005  2100779    RadoTonev  2013-02-22 20:10:30.017 UTC   \n",
              "\n",
              "                    last_access_date  reputation  up_votes  down_votes  views  \n",
              "1923005  2019-01-10 03:41:04.417 UTC          20         7           0      5  "
            ]
          },
          "metadata": {
            "tags": []
          },
          "execution_count": 184
        }
      ]
    },
    {
      "cell_type": "markdown",
      "metadata": {
        "id": "cdMlRz4hBYBh"
      },
      "source": [
        "## Merging Questions, Answers and Tags to get a consolidated DataFrame"
      ]
    },
    {
      "cell_type": "code",
      "metadata": {
        "id": "f2EJ5Pjn589W"
      },
      "source": [
        "qna = pd.merge(qns,ans,how='inner', on='Q_Id')"
      ],
      "execution_count": null,
      "outputs": []
    },
    {
      "cell_type": "code",
      "metadata": {
        "id": "hE1Xn7Ym589W"
      },
      "source": [
        "final_df = pd.merge(qna,tags,how='inner', on='Q_Id')"
      ],
      "execution_count": null,
      "outputs": []
    },
    {
      "cell_type": "code",
      "metadata": {
        "id": "1ys_mYLk589W",
        "outputId": "2ee62aeb-ec29-4dfe-d471-6295bef3f6d8"
      },
      "source": [
        "final_df.sample()"
      ],
      "execution_count": null,
      "outputs": [
        {
          "output_type": "execute_result",
          "data": {
            "text/html": [
              "<div>\n",
              "<style scoped>\n",
              "    .dataframe tbody tr th:only-of-type {\n",
              "        vertical-align: middle;\n",
              "    }\n",
              "\n",
              "    .dataframe tbody tr th {\n",
              "        vertical-align: top;\n",
              "    }\n",
              "\n",
              "    .dataframe thead th {\n",
              "        text-align: right;\n",
              "    }\n",
              "</style>\n",
              "<table border=\"1\" class=\"dataframe\">\n",
              "  <thead>\n",
              "    <tr style=\"text-align: right;\">\n",
              "      <th></th>\n",
              "      <th>Q_Id</th>\n",
              "      <th>Q_OwnerUserId</th>\n",
              "      <th>Q_CreationDate</th>\n",
              "      <th>Q_ClosedDate</th>\n",
              "      <th>Q_Score</th>\n",
              "      <th>Q_Title</th>\n",
              "      <th>Q_Body</th>\n",
              "      <th>A_Id</th>\n",
              "      <th>A_OwnerUserId</th>\n",
              "      <th>A_CreationDate</th>\n",
              "      <th>A_Score</th>\n",
              "      <th>A_Body</th>\n",
              "      <th>Tag</th>\n",
              "    </tr>\n",
              "  </thead>\n",
              "  <tbody>\n",
              "    <tr>\n",
              "      <th>1718628</th>\n",
              "      <td>33847500</td>\n",
              "      <td>1815321</td>\n",
              "      <td>2015-11-21T19:14:50Z</td>\n",
              "      <td>NaN</td>\n",
              "      <td>0</td>\n",
              "      <td>Deploy to HockeyApp fails</td>\n",
              "      <td>&lt;p&gt;I ran through &lt;a href=\"http://support.hocke...</td>\n",
              "      <td>35590684</td>\n",
              "      <td>5971500</td>\n",
              "      <td>2016-02-23T23:55:38Z</td>\n",
              "      <td>0</td>\n",
              "      <td>&lt;p&gt;did you get it to work using the extension?...</td>\n",
              "      <td>tfs, win-universal-app,  vs-tea...</td>\n",
              "    </tr>\n",
              "  </tbody>\n",
              "</table>\n",
              "</div>"
            ],
            "text/plain": [
              "             Q_Id  Q_OwnerUserId        Q_CreationDate Q_ClosedDate  Q_Score  \\\n",
              "1718628  33847500        1815321  2015-11-21T19:14:50Z          NaN        0   \n",
              "\n",
              "                           Q_Title  \\\n",
              "1718628  Deploy to HockeyApp fails   \n",
              "\n",
              "                                                    Q_Body      A_Id  \\\n",
              "1718628  <p>I ran through <a href=\"http://support.hocke...  35590684   \n",
              "\n",
              "         A_OwnerUserId        A_CreationDate  A_Score  \\\n",
              "1718628        5971500  2016-02-23T23:55:38Z        0   \n",
              "\n",
              "                                                    A_Body  \\\n",
              "1718628  <p>did you get it to work using the extension?...   \n",
              "\n",
              "                                                       Tag  \n",
              "1718628                 tfs, win-universal-app,  vs-tea...  "
            ]
          },
          "metadata": {
            "tags": []
          },
          "execution_count": 277
        }
      ]
    },
    {
      "cell_type": "code",
      "metadata": {
        "id": "cWJGbTNe589W",
        "outputId": "1d0f7994-2918-427f-a17e-927987e9823a"
      },
      "source": [
        "users.sample()"
      ],
      "execution_count": null,
      "outputs": [
        {
          "output_type": "execute_result",
          "data": {
            "text/html": [
              "<div>\n",
              "<style scoped>\n",
              "    .dataframe tbody tr th:only-of-type {\n",
              "        vertical-align: middle;\n",
              "    }\n",
              "\n",
              "    .dataframe tbody tr th {\n",
              "        vertical-align: top;\n",
              "    }\n",
              "\n",
              "    .dataframe thead th {\n",
              "        text-align: right;\n",
              "    }\n",
              "</style>\n",
              "<table border=\"1\" class=\"dataframe\">\n",
              "  <thead>\n",
              "    <tr style=\"text-align: right;\">\n",
              "      <th></th>\n",
              "      <th>id</th>\n",
              "      <th>display_name</th>\n",
              "      <th>creation_date</th>\n",
              "      <th>last_access_date</th>\n",
              "      <th>reputation</th>\n",
              "      <th>up_votes</th>\n",
              "      <th>down_votes</th>\n",
              "      <th>views</th>\n",
              "    </tr>\n",
              "  </thead>\n",
              "  <tbody>\n",
              "    <tr>\n",
              "      <th>1975219</th>\n",
              "      <td>2885941</td>\n",
              "      <td>Viktor Molokostov</td>\n",
              "      <td>2013-10-16 10:09:17.49 UTC</td>\n",
              "      <td>2019-08-23 12:50:04.853 UTC</td>\n",
              "      <td>284</td>\n",
              "      <td>210</td>\n",
              "      <td>0</td>\n",
              "      <td>27</td>\n",
              "    </tr>\n",
              "  </tbody>\n",
              "</table>\n",
              "</div>"
            ],
            "text/plain": [
              "              id       display_name               creation_date  \\\n",
              "1975219  2885941  Viktor Molokostov  2013-10-16 10:09:17.49 UTC   \n",
              "\n",
              "                    last_access_date  reputation  up_votes  down_votes  views  \n",
              "1975219  2019-08-23 12:50:04.853 UTC         284       210           0     27  "
            ]
          },
          "metadata": {
            "tags": []
          },
          "execution_count": 278
        }
      ]
    },
    {
      "cell_type": "code",
      "metadata": {
        "id": "OfUs4Fyb589W"
      },
      "source": [
        "tags1 = tags.head(5000)"
      ],
      "execution_count": null,
      "outputs": []
    },
    {
      "cell_type": "markdown",
      "metadata": {
        "id": "m6O-S9elBvrb"
      },
      "source": [
        "## Filtering the DataFrame to select only DataScience Tagges Queries/Answers"
      ]
    },
    {
      "cell_type": "markdown",
      "metadata": {
        "id": "3P-uIiInB9t-"
      },
      "source": [
        "ds_tags = Data Science Tags provided in the Assignment Objectives"
      ]
    },
    {
      "cell_type": "code",
      "metadata": {
        "id": "GYpHVj2_589W"
      },
      "source": [
        "ds_tags=['python', 'r', 'matlab', 'sas', 'excel', 'sql']"
      ],
      "execution_count": null,
      "outputs": []
    },
    {
      "cell_type": "code",
      "metadata": {
        "id": "2XlgKNto589X"
      },
      "source": [
        "final_df = final_df[final_df.Tag.astype(str).str.contains(pat=\"python|matlab|sas|excel|sql|r,\")]"
      ],
      "execution_count": null,
      "outputs": []
    },
    {
      "cell_type": "code",
      "metadata": {
        "id": "zekKoplR589X"
      },
      "source": [
        "final_df = final_df.reset_index(drop=True)"
      ],
      "execution_count": null,
      "outputs": []
    },
    {
      "cell_type": "code",
      "metadata": {
        "id": "v6D49CTN589X",
        "outputId": "9121b183-7458-4535-f8e2-9e0ad49f7099"
      },
      "source": [
        "final_df.sample()"
      ],
      "execution_count": null,
      "outputs": [
        {
          "output_type": "execute_result",
          "data": {
            "text/html": [
              "<div>\n",
              "<style scoped>\n",
              "    .dataframe tbody tr th:only-of-type {\n",
              "        vertical-align: middle;\n",
              "    }\n",
              "\n",
              "    .dataframe tbody tr th {\n",
              "        vertical-align: top;\n",
              "    }\n",
              "\n",
              "    .dataframe thead th {\n",
              "        text-align: right;\n",
              "    }\n",
              "</style>\n",
              "<table border=\"1\" class=\"dataframe\">\n",
              "  <thead>\n",
              "    <tr style=\"text-align: right;\">\n",
              "      <th></th>\n",
              "      <th>Q_Id</th>\n",
              "      <th>Q_OwnerUserId</th>\n",
              "      <th>Q_CreationDate</th>\n",
              "      <th>Q_ClosedDate</th>\n",
              "      <th>Q_Score</th>\n",
              "      <th>Q_Title</th>\n",
              "      <th>Q_Body</th>\n",
              "      <th>A_Id</th>\n",
              "      <th>A_OwnerUserId</th>\n",
              "      <th>A_CreationDate</th>\n",
              "      <th>A_Score</th>\n",
              "      <th>A_Body</th>\n",
              "      <th>Tag</th>\n",
              "    </tr>\n",
              "  </thead>\n",
              "  <tbody>\n",
              "    <tr>\n",
              "      <th>74374</th>\n",
              "      <td>6846580</td>\n",
              "      <td>14556</td>\n",
              "      <td>2011-07-27T15:01:45Z</td>\n",
              "      <td>NaN</td>\n",
              "      <td>6</td>\n",
              "      <td>How to bottom align two elements in a DIV elem...</td>\n",
              "      <td>&lt;p&gt;&lt;img src=\"http://i.stack.imgur.com/dG4ht.pn...</td>\n",
              "      <td>6846670</td>\n",
              "      <td>91612</td>\n",
              "      <td>2011-07-27T15:07:52Z</td>\n",
              "      <td>1</td>\n",
              "      <td>&lt;p&gt;This should work I think:&lt;/p&gt;\\n\\n&lt;p&gt;HTML  &lt;...</td>\n",
              "      <td>css,   table, browser,    html</td>\n",
              "    </tr>\n",
              "  </tbody>\n",
              "</table>\n",
              "</div>"
            ],
            "text/plain": [
              "          Q_Id  Q_OwnerUserId        Q_CreationDate Q_ClosedDate  Q_Score  \\\n",
              "74374  6846580          14556  2011-07-27T15:01:45Z          NaN        6   \n",
              "\n",
              "                                                 Q_Title  \\\n",
              "74374  How to bottom align two elements in a DIV elem...   \n",
              "\n",
              "                                                  Q_Body     A_Id  \\\n",
              "74374  <p><img src=\"http://i.stack.imgur.com/dG4ht.pn...  6846670   \n",
              "\n",
              "       A_OwnerUserId        A_CreationDate  A_Score  \\\n",
              "74374          91612  2011-07-27T15:07:52Z        1   \n",
              "\n",
              "                                                  A_Body  \\\n",
              "74374  <p>This should work I think:</p>\\n\\n<p>HTML  <...   \n",
              "\n",
              "                                       Tag  \n",
              "74374       css,   table, browser,    html  "
            ]
          },
          "metadata": {
            "tags": []
          },
          "execution_count": 283
        }
      ]
    },
    {
      "cell_type": "code",
      "metadata": {
        "id": "OShYS0Xl589X",
        "outputId": "7a84a0be-b3b8-4564-a1fb-074d10126783"
      },
      "source": [
        "users.sample()"
      ],
      "execution_count": null,
      "outputs": [
        {
          "output_type": "execute_result",
          "data": {
            "text/html": [
              "<div>\n",
              "<style scoped>\n",
              "    .dataframe tbody tr th:only-of-type {\n",
              "        vertical-align: middle;\n",
              "    }\n",
              "\n",
              "    .dataframe tbody tr th {\n",
              "        vertical-align: top;\n",
              "    }\n",
              "\n",
              "    .dataframe thead th {\n",
              "        text-align: right;\n",
              "    }\n",
              "</style>\n",
              "<table border=\"1\" class=\"dataframe\">\n",
              "  <thead>\n",
              "    <tr style=\"text-align: right;\">\n",
              "      <th></th>\n",
              "      <th>id</th>\n",
              "      <th>display_name</th>\n",
              "      <th>creation_date</th>\n",
              "      <th>last_access_date</th>\n",
              "      <th>reputation</th>\n",
              "      <th>up_votes</th>\n",
              "      <th>down_votes</th>\n",
              "      <th>views</th>\n",
              "    </tr>\n",
              "  </thead>\n",
              "  <tbody>\n",
              "    <tr>\n",
              "      <th>1917862</th>\n",
              "      <td>5872943</td>\n",
              "      <td>Brad Hoffman</td>\n",
              "      <td>2016-02-02 13:24:30.7 UTC</td>\n",
              "      <td>2019-08-31 14:16:44.413 UTC</td>\n",
              "      <td>44</td>\n",
              "      <td>1</td>\n",
              "      <td>0</td>\n",
              "      <td>12</td>\n",
              "    </tr>\n",
              "  </tbody>\n",
              "</table>\n",
              "</div>"
            ],
            "text/plain": [
              "              id  display_name              creation_date  \\\n",
              "1917862  5872943  Brad Hoffman  2016-02-02 13:24:30.7 UTC   \n",
              "\n",
              "                    last_access_date  reputation  up_votes  down_votes  views  \n",
              "1917862  2019-08-31 14:16:44.413 UTC          44         1           0     12  "
            ]
          },
          "metadata": {
            "tags": []
          },
          "execution_count": 273
        }
      ]
    },
    {
      "cell_type": "markdown",
      "metadata": {
        "id": "BXOYdeSOCIue"
      },
      "source": [
        "## Droping off unnessary columns"
      ]
    },
    {
      "cell_type": "code",
      "metadata": {
        "id": "uYNmqP4n589X"
      },
      "source": [
        "Cleaned_up_df = final_df[['Q_Id','Q_CreationDate','A_CreationDate','A_Id', 'A_OwnerUserId','A_Score','Tag']]"
      ],
      "execution_count": null,
      "outputs": []
    },
    {
      "cell_type": "code",
      "metadata": {
        "id": "CGvuUTnL589X",
        "outputId": "ea9902c2-5d45-4987-87b6-29e7622a29f8"
      },
      "source": [
        "Cleaned_up_df"
      ],
      "execution_count": null,
      "outputs": [
        {
          "output_type": "execute_result",
          "data": {
            "text/html": [
              "<div>\n",
              "<style scoped>\n",
              "    .dataframe tbody tr th:only-of-type {\n",
              "        vertical-align: middle;\n",
              "    }\n",
              "\n",
              "    .dataframe tbody tr th {\n",
              "        vertical-align: top;\n",
              "    }\n",
              "\n",
              "    .dataframe thead th {\n",
              "        text-align: right;\n",
              "    }\n",
              "</style>\n",
              "<table border=\"1\" class=\"dataframe\">\n",
              "  <thead>\n",
              "    <tr style=\"text-align: right;\">\n",
              "      <th></th>\n",
              "      <th>Q_Id</th>\n",
              "      <th>Q_CreationDate</th>\n",
              "      <th>A_CreationDate</th>\n",
              "      <th>A_Id</th>\n",
              "      <th>A_OwnerUserId</th>\n",
              "      <th>A_Score</th>\n",
              "      <th>Tag</th>\n",
              "    </tr>\n",
              "  </thead>\n",
              "  <tbody>\n",
              "    <tr>\n",
              "      <th>0</th>\n",
              "      <td>120</td>\n",
              "      <td>2008-08-01T15:50:08Z</td>\n",
              "      <td>2008-09-23T22:41:11Z</td>\n",
              "      <td>124363</td>\n",
              "      <td>12734</td>\n",
              "      <td>9</td>\n",
              "      <td>sql, asp.net, sitemap</td>\n",
              "    </tr>\n",
              "    <tr>\n",
              "      <th>1</th>\n",
              "      <td>580</td>\n",
              "      <td>2008-08-02T23:30:59Z</td>\n",
              "      <td>2008-08-02T23:40:04Z</td>\n",
              "      <td>585</td>\n",
              "      <td>149</td>\n",
              "      <td>13</td>\n",
              "      <td>sql-server,    sql-server-2005,      ...</td>\n",
              "    </tr>\n",
              "    <tr>\n",
              "      <th>2</th>\n",
              "      <td>580</td>\n",
              "      <td>2008-08-02T23:30:59Z</td>\n",
              "      <td>2008-08-02T23:51:09Z</td>\n",
              "      <td>586</td>\n",
              "      <td>34</td>\n",
              "      <td>17</td>\n",
              "      <td>sql-server,    sql-server-2005,      ...</td>\n",
              "    </tr>\n",
              "    <tr>\n",
              "      <th>3</th>\n",
              "      <td>580</td>\n",
              "      <td>2008-08-02T23:30:59Z</td>\n",
              "      <td>2008-08-03T00:22:03Z</td>\n",
              "      <td>590</td>\n",
              "      <td>116</td>\n",
              "      <td>2</td>\n",
              "      <td>sql-server,    sql-server-2005,      ...</td>\n",
              "    </tr>\n",
              "    <tr>\n",
              "      <th>4</th>\n",
              "      <td>580</td>\n",
              "      <td>2008-08-02T23:30:59Z</td>\n",
              "      <td>2008-08-03T00:37:03Z</td>\n",
              "      <td>591</td>\n",
              "      <td>111</td>\n",
              "      <td>3</td>\n",
              "      <td>sql-server,    sql-server-2005,      ...</td>\n",
              "    </tr>\n",
              "    <tr>\n",
              "      <th>...</th>\n",
              "      <td>...</td>\n",
              "      <td>...</td>\n",
              "      <td>...</td>\n",
              "      <td>...</td>\n",
              "      <td>...</td>\n",
              "      <td>...</td>\n",
              "      <td>...</td>\n",
              "    </tr>\n",
              "    <tr>\n",
              "      <th>388241</th>\n",
              "      <td>40142380</td>\n",
              "      <td>2016-10-19T22:13:40Z</td>\n",
              "      <td>2016-10-19T23:15:05Z</td>\n",
              "      <td>40142998</td>\n",
              "      <td>6942565</td>\n",
              "      <td>0</td>\n",
              "      <td>python,   unix,  split</td>\n",
              "    </tr>\n",
              "    <tr>\n",
              "      <th>388242</th>\n",
              "      <td>40142550</td>\n",
              "      <td>2016-10-19T22:28:58Z</td>\n",
              "      <td>2016-10-19T22:38:05Z</td>\n",
              "      <td>40142640</td>\n",
              "      <td>4104224</td>\n",
              "      <td>1</td>\n",
              "      <td>mysql,       sql, left-join</td>\n",
              "    </tr>\n",
              "    <tr>\n",
              "      <th>388243</th>\n",
              "      <td>40142860</td>\n",
              "      <td>2016-10-19T23:01:07Z</td>\n",
              "      <td>2016-10-19T23:14:50Z</td>\n",
              "      <td>40142994</td>\n",
              "      <td>1951885</td>\n",
              "      <td>0</td>\n",
              "      <td>excel, excel-formula</td>\n",
              "    </tr>\n",
              "    <tr>\n",
              "      <th>388244</th>\n",
              "      <td>40143190</td>\n",
              "      <td>2016-10-19T23:36:01Z</td>\n",
              "      <td>2016-10-19T23:38:17Z</td>\n",
              "      <td>40143212</td>\n",
              "      <td>1491895</td>\n",
              "      <td>5</td>\n",
              "      <td>python,      bash, multiline</td>\n",
              "    </tr>\n",
              "    <tr>\n",
              "      <th>388245</th>\n",
              "      <td>40143190</td>\n",
              "      <td>2016-10-19T23:36:01Z</td>\n",
              "      <td>2016-10-19T23:42:35Z</td>\n",
              "      <td>40143247</td>\n",
              "      <td>333403</td>\n",
              "      <td>0</td>\n",
              "      <td>python,      bash, multiline</td>\n",
              "    </tr>\n",
              "  </tbody>\n",
              "</table>\n",
              "<p>388246 rows × 7 columns</p>\n",
              "</div>"
            ],
            "text/plain": [
              "            Q_Id        Q_CreationDate        A_CreationDate      A_Id  \\\n",
              "0            120  2008-08-01T15:50:08Z  2008-09-23T22:41:11Z    124363   \n",
              "1            580  2008-08-02T23:30:59Z  2008-08-02T23:40:04Z       585   \n",
              "2            580  2008-08-02T23:30:59Z  2008-08-02T23:51:09Z       586   \n",
              "3            580  2008-08-02T23:30:59Z  2008-08-03T00:22:03Z       590   \n",
              "4            580  2008-08-02T23:30:59Z  2008-08-03T00:37:03Z       591   \n",
              "...          ...                   ...                   ...       ...   \n",
              "388241  40142380  2016-10-19T22:13:40Z  2016-10-19T23:15:05Z  40142998   \n",
              "388242  40142550  2016-10-19T22:28:58Z  2016-10-19T22:38:05Z  40142640   \n",
              "388243  40142860  2016-10-19T23:01:07Z  2016-10-19T23:14:50Z  40142994   \n",
              "388244  40143190  2016-10-19T23:36:01Z  2016-10-19T23:38:17Z  40143212   \n",
              "388245  40143190  2016-10-19T23:36:01Z  2016-10-19T23:42:35Z  40143247   \n",
              "\n",
              "        A_OwnerUserId  A_Score  \\\n",
              "0               12734        9   \n",
              "1                 149       13   \n",
              "2                  34       17   \n",
              "3                 116        2   \n",
              "4                 111        3   \n",
              "...               ...      ...   \n",
              "388241        6942565        0   \n",
              "388242        4104224        1   \n",
              "388243        1951885        0   \n",
              "388244        1491895        5   \n",
              "388245         333403        0   \n",
              "\n",
              "                                                      Tag  \n",
              "0                                   sql, asp.net, sitemap  \n",
              "1                sql-server,    sql-server-2005,      ...  \n",
              "2                sql-server,    sql-server-2005,      ...  \n",
              "3                sql-server,    sql-server-2005,      ...  \n",
              "4                sql-server,    sql-server-2005,      ...  \n",
              "...                                                   ...  \n",
              "388241                             python,   unix,  split  \n",
              "388242                        mysql,       sql, left-join  \n",
              "388243                               excel, excel-formula  \n",
              "388244                       python,      bash, multiline  \n",
              "388245                       python,      bash, multiline  \n",
              "\n",
              "[388246 rows x 7 columns]"
            ]
          },
          "metadata": {
            "tags": []
          },
          "execution_count": 290
        }
      ]
    },
    {
      "cell_type": "markdown",
      "metadata": {
        "id": "ZEldHSFd589Y"
      },
      "source": [
        "TO-DO \n",
        "- Check differnec in qdate and adate ( to know speed of answer)\n",
        "- Add reputation to each a-user id"
      ]
    },
    {
      "cell_type": "code",
      "metadata": {
        "id": "1bmPjabS589Y"
      },
      "source": [
        ""
      ],
      "execution_count": null,
      "outputs": []
    }
  ]
}