{
  "nbformat": 4,
  "nbformat_minor": 0,
  "metadata": {
    "kernelspec": {
      "display_name": "Python 3",
      "language": "python",
      "name": "python3"
    },
    "language_info": {
      "codemirror_mode": {
        "name": "ipython",
        "version": 3
      },
      "file_extension": ".py",
      "mimetype": "text/x-python",
      "name": "python",
      "nbconvert_exporter": "python",
      "pygments_lexer": "ipython3",
      "version": "3.7.2"
    },
    "colab": {
      "name": "SO-Assignment.ipynb",
      "provenance": [],
      "toc_visible": true,
      "include_colab_link": true
    }
  },
  "cells": [
    {
      "cell_type": "markdown",
      "metadata": {
        "id": "view-in-github",
        "colab_type": "text"
      },
      "source": [
        "<a href=\"https://colab.research.google.com/github/prajwalpai/Upgrad-Assignments/blob/main/SO_Assignment-complete.ipynb\" target=\"_parent\"><img src=\"https://colab.research.google.com/assets/colab-badge.svg\" alt=\"Open In Colab\"/></a>"
      ]
    },
    {
      "cell_type": "markdown",
      "metadata": {
        "id": "CvD1pNyt7DYp"
      },
      "source": [
        "# Stack Overflow EDA on cloud Assignment"
      ]
    },
    {
      "cell_type": "markdown",
      "metadata": {
        "id": "MkBoMxI8589G"
      },
      "source": [
        "## Import libs"
      ]
    },
    {
      "cell_type": "code",
      "metadata": {
        "id": "bcTQTOg4TFmU",
        "colab": {
          "base_uri": "https://localhost:8080/"
        },
        "outputId": "181d5281-8ea8-470c-df46-5c425dd07773"
      },
      "source": [
        "!pip3 install pymysql\n",
        "!pip3 install sqlalchemy\n",
        "!pip3 install mlxtend"
      ],
      "execution_count": 5,
      "outputs": [
        {
          "output_type": "stream",
          "text": [
            "Requirement already satisfied: pymysql in /usr/local/lib/python3.6/dist-packages (1.0.2)\n",
            "Requirement already satisfied: sqlalchemy in /usr/local/lib/python3.6/dist-packages (1.3.23)\n",
            "Requirement already satisfied: mlxtend in /usr/local/lib/python3.6/dist-packages (0.14.0)\n",
            "Requirement already satisfied: pandas>=0.17.1 in /usr/local/lib/python3.6/dist-packages (from mlxtend) (1.1.5)\n",
            "Requirement already satisfied: scipy>=0.17 in /usr/local/lib/python3.6/dist-packages (from mlxtend) (1.4.1)\n",
            "Requirement already satisfied: setuptools in /usr/local/lib/python3.6/dist-packages (from mlxtend) (53.0.0)\n",
            "Requirement already satisfied: scikit-learn>=0.18 in /usr/local/lib/python3.6/dist-packages (from mlxtend) (0.22.2.post1)\n",
            "Requirement already satisfied: numpy>=1.10.4 in /usr/local/lib/python3.6/dist-packages (from mlxtend) (1.19.5)\n",
            "Requirement already satisfied: matplotlib>=1.5.1 in /usr/local/lib/python3.6/dist-packages (from mlxtend) (3.2.2)\n",
            "Requirement already satisfied: python-dateutil>=2.7.3 in /usr/local/lib/python3.6/dist-packages (from pandas>=0.17.1->mlxtend) (2.8.1)\n",
            "Requirement already satisfied: pytz>=2017.2 in /usr/local/lib/python3.6/dist-packages (from pandas>=0.17.1->mlxtend) (2018.9)\n",
            "Requirement already satisfied: joblib>=0.11 in /usr/local/lib/python3.6/dist-packages (from scikit-learn>=0.18->mlxtend) (1.0.0)\n",
            "Requirement already satisfied: cycler>=0.10 in /usr/local/lib/python3.6/dist-packages (from matplotlib>=1.5.1->mlxtend) (0.10.0)\n",
            "Requirement already satisfied: pyparsing!=2.0.4,!=2.1.2,!=2.1.6,>=2.0.1 in /usr/local/lib/python3.6/dist-packages (from matplotlib>=1.5.1->mlxtend) (2.4.7)\n",
            "Requirement already satisfied: kiwisolver>=1.0.1 in /usr/local/lib/python3.6/dist-packages (from matplotlib>=1.5.1->mlxtend) (1.3.1)\n",
            "Requirement already satisfied: six>=1.5 in /usr/local/lib/python3.6/dist-packages (from python-dateutil>=2.7.3->pandas>=0.17.1->mlxtend) (1.15.0)\n"
          ],
          "name": "stdout"
        }
      ]
    },
    {
      "cell_type": "code",
      "metadata": {
        "id": "mdwubyvz589E"
      },
      "source": [
        "import pandas as pd\n",
        "import matplotlib.pyplot as plt\n",
        "import seaborn as sns\n",
        "from mlxtend.frequent_patterns import apriori, association_rules \n",
        "import pymysql\n",
        "from sqlalchemy import create_engine\n",
        "import warnings\n",
        "import datetime\n",
        "import numpy as np\n",
        "warnings.filterwarnings('ignore')"
      ],
      "execution_count": 6,
      "outputs": []
    },
    {
      "cell_type": "markdown",
      "metadata": {
        "id": "J2gV353I7SH5"
      },
      "source": [
        "## Read Data from AWS S3"
      ]
    },
    {
      "cell_type": "code",
      "metadata": {
        "id": "3u2-tvHG589H"
      },
      "source": [
        "qns = pd.read_csv(\"https://stack-overflow-casestudy-datasets.s3.amazonaws.com/Questions.csv\", encoding = \"latin1\")\n",
        "ans = pd.read_csv(\"https://stack-overflow-casestudy-datasets.s3.amazonaws.com/Answers.csv\", encoding = \"latin1\")\n",
        "tags = pd.read_csv(\"https://stack-overflow-casestudy-datasets.s3.amazonaws.com/Tags.csv\", encoding = \"latin1\")\n",
        "users = pd.read_csv(\"https://stack-overflow-casestudy-datasets.s3.amazonaws.com/Users.csv\" , encoding = \"latin1\")"
      ],
      "execution_count": 4,
      "outputs": []
    },
    {
      "cell_type": "markdown",
      "metadata": {
        "id": "rVC6uTwu589H"
      },
      "source": [
        "## Check Basic Info of data\n",
        "\n",
        " "
      ]
    },
    {
      "cell_type": "markdown",
      "metadata": {
        "id": "NggmZ5ua7tQP"
      },
      "source": [
        "### Check Shape"
      ]
    },
    {
      "cell_type": "code",
      "metadata": {
        "id": "SqzbGDDb589H",
        "colab": {
          "base_uri": "https://localhost:8080/"
        },
        "outputId": "8fe8a5ac-ed72-4ea2-bcc8-bf8ca2cc2213"
      },
      "source": [
        "qns.shape"
      ],
      "execution_count": 7,
      "outputs": [
        {
          "output_type": "execute_result",
          "data": {
            "text/plain": [
              "(1264216, 7)"
            ]
          },
          "metadata": {
            "tags": []
          },
          "execution_count": 7
        }
      ]
    },
    {
      "cell_type": "code",
      "metadata": {
        "id": "JAgIowea589I",
        "colab": {
          "base_uri": "https://localhost:8080/",
          "height": 0
        },
        "outputId": "c2654fe7-7304-4dd1-beb2-0574f6602d7c"
      },
      "source": [
        "qns.sample()"
      ],
      "execution_count": 8,
      "outputs": [
        {
          "output_type": "execute_result",
          "data": {
            "text/html": [
              "<div>\n",
              "<style scoped>\n",
              "    .dataframe tbody tr th:only-of-type {\n",
              "        vertical-align: middle;\n",
              "    }\n",
              "\n",
              "    .dataframe tbody tr th {\n",
              "        vertical-align: top;\n",
              "    }\n",
              "\n",
              "    .dataframe thead th {\n",
              "        text-align: right;\n",
              "    }\n",
              "</style>\n",
              "<table border=\"1\" class=\"dataframe\">\n",
              "  <thead>\n",
              "    <tr style=\"text-align: right;\">\n",
              "      <th></th>\n",
              "      <th>Id</th>\n",
              "      <th>OwnerUserId</th>\n",
              "      <th>CreationDate</th>\n",
              "      <th>ClosedDate</th>\n",
              "      <th>Score</th>\n",
              "      <th>Title</th>\n",
              "      <th>Body</th>\n",
              "    </tr>\n",
              "  </thead>\n",
              "  <tbody>\n",
              "    <tr>\n",
              "      <th>334041</th>\n",
              "      <td>12007100</td>\n",
              "      <td>645070.0</td>\n",
              "      <td>2012-08-17T13:48:53Z</td>\n",
              "      <td>NaN</td>\n",
              "      <td>2</td>\n",
              "      <td>Declaring variables in CTEs SQL Server 2008</td>\n",
              "      <td>&lt;p&gt;How can I implement something like the foll...</td>\n",
              "    </tr>\n",
              "  </tbody>\n",
              "</table>\n",
              "</div>"
            ],
            "text/plain": [
              "              Id  ...                                               Body\n",
              "334041  12007100  ...  <p>How can I implement something like the foll...\n",
              "\n",
              "[1 rows x 7 columns]"
            ]
          },
          "metadata": {
            "tags": []
          },
          "execution_count": 8
        }
      ]
    },
    {
      "cell_type": "code",
      "metadata": {
        "id": "c2Es0TJR589J",
        "colab": {
          "base_uri": "https://localhost:8080/"
        },
        "outputId": "b56a536a-76d0-44c9-a3cd-9a5a7d29be61"
      },
      "source": [
        "ans.shape"
      ],
      "execution_count": 9,
      "outputs": [
        {
          "output_type": "execute_result",
          "data": {
            "text/plain": [
              "(2014516, 6)"
            ]
          },
          "metadata": {
            "tags": []
          },
          "execution_count": 9
        }
      ]
    },
    {
      "cell_type": "code",
      "metadata": {
        "id": "-XrLCWj3589J",
        "colab": {
          "base_uri": "https://localhost:8080/",
          "height": 0
        },
        "outputId": "ce4b76ca-7b97-4740-fae2-ea6424689a87"
      },
      "source": [
        "ans.sample()"
      ],
      "execution_count": 10,
      "outputs": [
        {
          "output_type": "execute_result",
          "data": {
            "text/html": [
              "<div>\n",
              "<style scoped>\n",
              "    .dataframe tbody tr th:only-of-type {\n",
              "        vertical-align: middle;\n",
              "    }\n",
              "\n",
              "    .dataframe tbody tr th {\n",
              "        vertical-align: top;\n",
              "    }\n",
              "\n",
              "    .dataframe thead th {\n",
              "        text-align: right;\n",
              "    }\n",
              "</style>\n",
              "<table border=\"1\" class=\"dataframe\">\n",
              "  <thead>\n",
              "    <tr style=\"text-align: right;\">\n",
              "      <th></th>\n",
              "      <th>Id</th>\n",
              "      <th>OwnerUserId</th>\n",
              "      <th>CreationDate</th>\n",
              "      <th>ParentId</th>\n",
              "      <th>Score</th>\n",
              "      <th>Body</th>\n",
              "    </tr>\n",
              "  </thead>\n",
              "  <tbody>\n",
              "    <tr>\n",
              "      <th>665468</th>\n",
              "      <td>11872053</td>\n",
              "      <td>1487063.0</td>\n",
              "      <td>2012-08-08T19:47:06Z</td>\n",
              "      <td>11871340</td>\n",
              "      <td>1</td>\n",
              "      <td>&lt;p&gt;Basically just ripping off rdelmar's commen...</td>\n",
              "    </tr>\n",
              "  </tbody>\n",
              "</table>\n",
              "</div>"
            ],
            "text/plain": [
              "              Id  ...                                               Body\n",
              "665468  11872053  ...  <p>Basically just ripping off rdelmar's commen...\n",
              "\n",
              "[1 rows x 6 columns]"
            ]
          },
          "metadata": {
            "tags": []
          },
          "execution_count": 10
        }
      ]
    },
    {
      "cell_type": "code",
      "metadata": {
        "id": "fOxkP59D589J",
        "colab": {
          "base_uri": "https://localhost:8080/"
        },
        "outputId": "92165f60-7c47-42ba-ac21-a7b21721b0e5"
      },
      "source": [
        "tags.shape"
      ],
      "execution_count": 11,
      "outputs": [
        {
          "output_type": "execute_result",
          "data": {
            "text/plain": [
              "(3750994, 2)"
            ]
          },
          "metadata": {
            "tags": []
          },
          "execution_count": 11
        }
      ]
    },
    {
      "cell_type": "code",
      "metadata": {
        "id": "GTZYYYzS589K",
        "colab": {
          "base_uri": "https://localhost:8080/",
          "height": 0
        },
        "outputId": "b8cc617e-4591-4c4b-90dd-7d86772602b4"
      },
      "source": [
        "tags.sample()"
      ],
      "execution_count": 12,
      "outputs": [
        {
          "output_type": "execute_result",
          "data": {
            "text/html": [
              "<div>\n",
              "<style scoped>\n",
              "    .dataframe tbody tr th:only-of-type {\n",
              "        vertical-align: middle;\n",
              "    }\n",
              "\n",
              "    .dataframe tbody tr th {\n",
              "        vertical-align: top;\n",
              "    }\n",
              "\n",
              "    .dataframe thead th {\n",
              "        text-align: right;\n",
              "    }\n",
              "</style>\n",
              "<table border=\"1\" class=\"dataframe\">\n",
              "  <thead>\n",
              "    <tr style=\"text-align: right;\">\n",
              "      <th></th>\n",
              "      <th>Id</th>\n",
              "      <th>Tag</th>\n",
              "    </tr>\n",
              "  </thead>\n",
              "  <tbody>\n",
              "    <tr>\n",
              "      <th>219878</th>\n",
              "      <td>3361490</td>\n",
              "      <td>codeigniter</td>\n",
              "    </tr>\n",
              "  </tbody>\n",
              "</table>\n",
              "</div>"
            ],
            "text/plain": [
              "             Id          Tag\n",
              "219878  3361490  codeigniter"
            ]
          },
          "metadata": {
            "tags": []
          },
          "execution_count": 12
        }
      ]
    },
    {
      "cell_type": "code",
      "metadata": {
        "id": "e8cr3O4F589K",
        "colab": {
          "base_uri": "https://localhost:8080/"
        },
        "outputId": "9300c09b-b925-4ef5-d1ee-3ad50dd52a00"
      },
      "source": [
        "users.shape"
      ],
      "execution_count": 13,
      "outputs": [
        {
          "output_type": "execute_result",
          "data": {
            "text/plain": [
              "(1990480, 9)"
            ]
          },
          "metadata": {
            "tags": []
          },
          "execution_count": 13
        }
      ]
    },
    {
      "cell_type": "markdown",
      "metadata": {
        "id": "Fswtrtk47xAt"
      },
      "source": [
        "### Check Sample "
      ]
    },
    {
      "cell_type": "code",
      "metadata": {
        "id": "1v52zEEX589K",
        "colab": {
          "base_uri": "https://localhost:8080/",
          "height": 0
        },
        "outputId": "b45b27d6-4e11-452e-e01f-e0d81916541b"
      },
      "source": [
        "users.sample()"
      ],
      "execution_count": 14,
      "outputs": [
        {
          "output_type": "execute_result",
          "data": {
            "text/html": [
              "<div>\n",
              "<style scoped>\n",
              "    .dataframe tbody tr th:only-of-type {\n",
              "        vertical-align: middle;\n",
              "    }\n",
              "\n",
              "    .dataframe tbody tr th {\n",
              "        vertical-align: top;\n",
              "    }\n",
              "\n",
              "    .dataframe thead th {\n",
              "        text-align: right;\n",
              "    }\n",
              "</style>\n",
              "<table border=\"1\" class=\"dataframe\">\n",
              "  <thead>\n",
              "    <tr style=\"text-align: right;\">\n",
              "      <th></th>\n",
              "      <th>Unnamed: 0</th>\n",
              "      <th>id</th>\n",
              "      <th>display_name</th>\n",
              "      <th>creation_date</th>\n",
              "      <th>last_access_date</th>\n",
              "      <th>reputation</th>\n",
              "      <th>up_votes</th>\n",
              "      <th>down_votes</th>\n",
              "      <th>views</th>\n",
              "    </tr>\n",
              "  </thead>\n",
              "  <tbody>\n",
              "    <tr>\n",
              "      <th>180326</th>\n",
              "      <td>180326</td>\n",
              "      <td>2029</td>\n",
              "      <td>Oppositional</td>\n",
              "      <td>2008-08-19 21:21:52.143 UTC</td>\n",
              "      <td>2019-08-31 06:24:13.213 UTC</td>\n",
              "      <td>9283</td>\n",
              "      <td>355</td>\n",
              "      <td>7</td>\n",
              "      <td>811</td>\n",
              "    </tr>\n",
              "  </tbody>\n",
              "</table>\n",
              "</div>"
            ],
            "text/plain": [
              "        Unnamed: 0    id  display_name  ... up_votes down_votes  views\n",
              "180326      180326  2029  Oppositional  ...      355          7    811\n",
              "\n",
              "[1 rows x 9 columns]"
            ]
          },
          "metadata": {
            "tags": []
          },
          "execution_count": 14
        }
      ]
    },
    {
      "cell_type": "markdown",
      "metadata": {
        "id": "x4JFdxLP589L"
      },
      "source": [
        "## Cleanup Data\n"
      ]
    },
    {
      "cell_type": "markdown",
      "metadata": {
        "id": "Z8X2OiCl7-w3"
      },
      "source": [
        "### Remove Null"
      ]
    },
    {
      "cell_type": "markdown",
      "metadata": {
        "id": "5-c8qR9f8Emo"
      },
      "source": [
        "#### Remove null OwnerUserId in qns"
      ]
    },
    {
      "cell_type": "code",
      "metadata": {
        "id": "a6wc9rfJ589L"
      },
      "source": [
        "qns = qns[~qns['OwnerUserId'].isnull()]"
      ],
      "execution_count": 15,
      "outputs": []
    },
    {
      "cell_type": "code",
      "metadata": {
        "id": "9w1d5cfp589L",
        "colab": {
          "base_uri": "https://localhost:8080/"
        },
        "outputId": "1b06dd20-faea-4ee7-e8e5-bf68cf1ec146"
      },
      "source": [
        "qns.isnull().sum()"
      ],
      "execution_count": 16,
      "outputs": [
        {
          "output_type": "execute_result",
          "data": {
            "text/plain": [
              "Id                    0\n",
              "OwnerUserId           0\n",
              "CreationDate          0\n",
              "ClosedDate      1194522\n",
              "Score                 0\n",
              "Title                 0\n",
              "Body                  0\n",
              "dtype: int64"
            ]
          },
          "metadata": {
            "tags": []
          },
          "execution_count": 16
        }
      ]
    },
    {
      "cell_type": "markdown",
      "metadata": {
        "id": "eMD24FvK8MGK"
      },
      "source": [
        "#### Remove null OwnerUserId in ans"
      ]
    },
    {
      "cell_type": "code",
      "metadata": {
        "id": "lqoRRueI589L"
      },
      "source": [
        "ans = ans[~ans['OwnerUserId'].isnull()]"
      ],
      "execution_count": 17,
      "outputs": []
    },
    {
      "cell_type": "code",
      "metadata": {
        "id": "D84chG77589M",
        "colab": {
          "base_uri": "https://localhost:8080/"
        },
        "outputId": "602518fe-b835-4f11-878f-7211eb8bb65c"
      },
      "source": [
        "ans.isnull().sum()"
      ],
      "execution_count": 18,
      "outputs": [
        {
          "output_type": "execute_result",
          "data": {
            "text/plain": [
              "Id              0\n",
              "OwnerUserId     0\n",
              "CreationDate    0\n",
              "ParentId        0\n",
              "Score           0\n",
              "Body            0\n",
              "dtype: int64"
            ]
          },
          "metadata": {
            "tags": []
          },
          "execution_count": 18
        }
      ]
    },
    {
      "cell_type": "markdown",
      "metadata": {
        "id": "AF7t4ZdB8SwM"
      },
      "source": [
        "#### Remove null Tags in tags"
      ]
    },
    {
      "cell_type": "code",
      "metadata": {
        "id": "fG7UNqzk589M"
      },
      "source": [
        "tags = tags[~tags['Tag'].isnull()]"
      ],
      "execution_count": 19,
      "outputs": []
    },
    {
      "cell_type": "code",
      "metadata": {
        "id": "09S2_-uh589M",
        "colab": {
          "base_uri": "https://localhost:8080/"
        },
        "outputId": "84244452-13ea-4587-f517-bae4ce207188"
      },
      "source": [
        "tags.isnull().sum()"
      ],
      "execution_count": 20,
      "outputs": [
        {
          "output_type": "execute_result",
          "data": {
            "text/plain": [
              "Id     0\n",
              "Tag    0\n",
              "dtype: int64"
            ]
          },
          "metadata": {
            "tags": []
          },
          "execution_count": 20
        }
      ]
    },
    {
      "cell_type": "code",
      "metadata": {
        "id": "Wt26J-8x589M",
        "colab": {
          "base_uri": "https://localhost:8080/"
        },
        "outputId": "569dbb70-17a9-4f5b-b588-d7856459bd28"
      },
      "source": [
        "users.isnull().sum()"
      ],
      "execution_count": 21,
      "outputs": [
        {
          "output_type": "execute_result",
          "data": {
            "text/plain": [
              "Unnamed: 0            0\n",
              "id                    0\n",
              "display_name        136\n",
              "creation_date         0\n",
              "last_access_date      0\n",
              "reputation            0\n",
              "up_votes              0\n",
              "down_votes            0\n",
              "views                 0\n",
              "dtype: int64"
            ]
          },
          "metadata": {
            "tags": []
          },
          "execution_count": 21
        }
      ]
    },
    {
      "cell_type": "markdown",
      "metadata": {
        "id": "rwMP6DMP8o39"
      },
      "source": [
        "#### Remove null display_name in users"
      ]
    },
    {
      "cell_type": "code",
      "metadata": {
        "id": "guQiL751589N"
      },
      "source": [
        "users = users[~users['display_name'].isnull()]"
      ],
      "execution_count": 22,
      "outputs": []
    },
    {
      "cell_type": "code",
      "metadata": {
        "id": "Yrz438Qj589N",
        "colab": {
          "base_uri": "https://localhost:8080/"
        },
        "outputId": "f29f2de5-38b4-4ad9-c219-7b56789a1981"
      },
      "source": [
        "users['id'].value_counts()"
      ],
      "execution_count": 23,
      "outputs": [
        {
          "output_type": "execute_result",
          "data": {
            "text/plain": [
              "22656      3270\n",
              "1144035    3009\n",
              "29407      2144\n",
              "548225     1924\n",
              "115145     1813\n",
              "           ... \n",
              "5588787       1\n",
              "4138147       1\n",
              "1417000       1\n",
              "1427235       1\n",
              "4098          1\n",
              "Name: id, Length: 465436, dtype: int64"
            ]
          },
          "metadata": {
            "tags": []
          },
          "execution_count": 23
        }
      ]
    },
    {
      "cell_type": "markdown",
      "metadata": {
        "id": "vtKXhpM79INq"
      },
      "source": [
        "### Remove unnecessary Data"
      ]
    },
    {
      "cell_type": "markdown",
      "metadata": {
        "id": "Y95nqWds9NcA"
      },
      "source": [
        "#### Remove \"Unnamed: 0\" column from users"
      ]
    },
    {
      "cell_type": "code",
      "metadata": {
        "id": "5WqU5f__589N"
      },
      "source": [
        "users.drop('Unnamed: 0', axis=1, inplace= True)"
      ],
      "execution_count": 24,
      "outputs": []
    },
    {
      "cell_type": "markdown",
      "metadata": {
        "id": "zLT1A37f9VpR"
      },
      "source": [
        "#### Remove the duplicate rows from users"
      ]
    },
    {
      "cell_type": "code",
      "metadata": {
        "id": "3aLrZiWP589N"
      },
      "source": [
        "users.drop_duplicates(inplace = True)"
      ],
      "execution_count": 25,
      "outputs": []
    },
    {
      "cell_type": "code",
      "metadata": {
        "id": "RnIQUh_s589N",
        "colab": {
          "base_uri": "https://localhost:8080/"
        },
        "outputId": "62ceb64a-7dca-4662-ab3c-24ac68db6206"
      },
      "source": [
        "users.isnull().sum()"
      ],
      "execution_count": 26,
      "outputs": [
        {
          "output_type": "execute_result",
          "data": {
            "text/plain": [
              "id                  0\n",
              "display_name        0\n",
              "creation_date       0\n",
              "last_access_date    0\n",
              "reputation          0\n",
              "up_votes            0\n",
              "down_votes          0\n",
              "views               0\n",
              "dtype: int64"
            ]
          },
          "metadata": {
            "tags": []
          },
          "execution_count": 26
        }
      ]
    },
    {
      "cell_type": "code",
      "metadata": {
        "id": "gFiIc87-589N",
        "colab": {
          "base_uri": "https://localhost:8080/",
          "height": 0
        },
        "outputId": "3da1574e-851c-4b8f-9db1-85d678e8e511"
      },
      "source": [
        "users"
      ],
      "execution_count": 27,
      "outputs": [
        {
          "output_type": "execute_result",
          "data": {
            "text/html": [
              "<div>\n",
              "<style scoped>\n",
              "    .dataframe tbody tr th:only-of-type {\n",
              "        vertical-align: middle;\n",
              "    }\n",
              "\n",
              "    .dataframe tbody tr th {\n",
              "        vertical-align: top;\n",
              "    }\n",
              "\n",
              "    .dataframe thead th {\n",
              "        text-align: right;\n",
              "    }\n",
              "</style>\n",
              "<table border=\"1\" class=\"dataframe\">\n",
              "  <thead>\n",
              "    <tr style=\"text-align: right;\">\n",
              "      <th></th>\n",
              "      <th>id</th>\n",
              "      <th>display_name</th>\n",
              "      <th>creation_date</th>\n",
              "      <th>last_access_date</th>\n",
              "      <th>reputation</th>\n",
              "      <th>up_votes</th>\n",
              "      <th>down_votes</th>\n",
              "      <th>views</th>\n",
              "    </tr>\n",
              "  </thead>\n",
              "  <tbody>\n",
              "    <tr>\n",
              "      <th>0</th>\n",
              "      <td>26</td>\n",
              "      <td>Shawn</td>\n",
              "      <td>2008-08-01 12:18:14.52 UTC</td>\n",
              "      <td>2018-04-11 04:40:35.66 UTC</td>\n",
              "      <td>11820</td>\n",
              "      <td>565</td>\n",
              "      <td>67</td>\n",
              "      <td>3547</td>\n",
              "    </tr>\n",
              "    <tr>\n",
              "      <th>27</th>\n",
              "      <td>1109</td>\n",
              "      <td>Theo</td>\n",
              "      <td>2008-08-12 12:16:58.61 UTC</td>\n",
              "      <td>2019-08-31 11:39:52.28 UTC</td>\n",
              "      <td>116072</td>\n",
              "      <td>457</td>\n",
              "      <td>136</td>\n",
              "      <td>6905</td>\n",
              "    </tr>\n",
              "    <tr>\n",
              "      <th>85</th>\n",
              "      <td>364174</td>\n",
              "      <td>stats</td>\n",
              "      <td>2010-06-11 03:34:57.137 UTC</td>\n",
              "      <td>2019-08-29 18:37:35.027 UTC</td>\n",
              "      <td>325</td>\n",
              "      <td>25</td>\n",
              "      <td>1</td>\n",
              "      <td>60</td>\n",
              "    </tr>\n",
              "    <tr>\n",
              "      <th>87</th>\n",
              "      <td>61</td>\n",
              "      <td>Bernard</td>\n",
              "      <td>2008-08-01 14:21:00.573 UTC</td>\n",
              "      <td>2019-08-30 07:11:58.297 UTC</td>\n",
              "      <td>22779</td>\n",
              "      <td>1321</td>\n",
              "      <td>219</td>\n",
              "      <td>1731</td>\n",
              "    </tr>\n",
              "    <tr>\n",
              "      <th>97</th>\n",
              "      <td>20709</td>\n",
              "      <td>Black Horus</td>\n",
              "      <td>2008-09-22 20:03:39.71 UTC</td>\n",
              "      <td>2019-09-01 01:17:38.133 UTC</td>\n",
              "      <td>978</td>\n",
              "      <td>73</td>\n",
              "      <td>2</td>\n",
              "      <td>96</td>\n",
              "    </tr>\n",
              "    <tr>\n",
              "      <th>...</th>\n",
              "      <td>...</td>\n",
              "      <td>...</td>\n",
              "      <td>...</td>\n",
              "      <td>...</td>\n",
              "      <td>...</td>\n",
              "      <td>...</td>\n",
              "      <td>...</td>\n",
              "      <td>...</td>\n",
              "    </tr>\n",
              "    <tr>\n",
              "      <th>1990475</th>\n",
              "      <td>4228492</td>\n",
              "      <td>Michael Spranger</td>\n",
              "      <td>2014-11-07 20:21:14.283 UTC</td>\n",
              "      <td>2019-08-28 18:01:29.56 UTC</td>\n",
              "      <td>415</td>\n",
              "      <td>112</td>\n",
              "      <td>2</td>\n",
              "      <td>17</td>\n",
              "    </tr>\n",
              "    <tr>\n",
              "      <th>1990476</th>\n",
              "      <td>6820506</td>\n",
              "      <td>Manuela</td>\n",
              "      <td>2016-09-12 00:19:17.83 UTC</td>\n",
              "      <td>2018-07-20 01:28:24.853 UTC</td>\n",
              "      <td>21</td>\n",
              "      <td>38</td>\n",
              "      <td>0</td>\n",
              "      <td>50</td>\n",
              "    </tr>\n",
              "    <tr>\n",
              "      <th>1990477</th>\n",
              "      <td>4464432</td>\n",
              "      <td>YTorii</td>\n",
              "      <td>2015-01-17 10:48:17.523 UTC</td>\n",
              "      <td>2019-08-31 13:51:47.413 UTC</td>\n",
              "      <td>336</td>\n",
              "      <td>67</td>\n",
              "      <td>1</td>\n",
              "      <td>13</td>\n",
              "    </tr>\n",
              "    <tr>\n",
              "      <th>1990478</th>\n",
              "      <td>4605946</td>\n",
              "      <td>space_voyager</td>\n",
              "      <td>2015-02-25 13:43:24.63 UTC</td>\n",
              "      <td>2019-07-13 23:55:47.607 UTC</td>\n",
              "      <td>884</td>\n",
              "      <td>53</td>\n",
              "      <td>1</td>\n",
              "      <td>191</td>\n",
              "    </tr>\n",
              "    <tr>\n",
              "      <th>1990479</th>\n",
              "      <td>6107989</td>\n",
              "      <td>Nicky HFE</td>\n",
              "      <td>2016-03-24 06:25:14.09 UTC</td>\n",
              "      <td>2019-08-21 13:40:34.197 UTC</td>\n",
              "      <td>108</td>\n",
              "      <td>0</td>\n",
              "      <td>0</td>\n",
              "      <td>30</td>\n",
              "    </tr>\n",
              "  </tbody>\n",
              "</table>\n",
              "<p>465436 rows × 8 columns</p>\n",
              "</div>"
            ],
            "text/plain": [
              "              id      display_name  ... down_votes views\n",
              "0             26             Shawn  ...         67  3547\n",
              "27          1109              Theo  ...        136  6905\n",
              "85        364174             stats  ...          1    60\n",
              "87            61           Bernard  ...        219  1731\n",
              "97         20709       Black Horus  ...          2    96\n",
              "...          ...               ...  ...        ...   ...\n",
              "1990475  4228492  Michael Spranger  ...          2    17\n",
              "1990476  6820506           Manuela  ...          0    50\n",
              "1990477  4464432            YTorii  ...          1    13\n",
              "1990478  4605946     space_voyager  ...          1   191\n",
              "1990479  6107989         Nicky HFE  ...          0    30\n",
              "\n",
              "[465436 rows x 8 columns]"
            ]
          },
          "metadata": {
            "tags": []
          },
          "execution_count": 27
        }
      ]
    },
    {
      "cell_type": "markdown",
      "metadata": {
        "id": "UTEIgimiDKDf"
      },
      "source": [
        "#### Remove the duplicate rows from Qns ( Same Questions)"
      ]
    },
    {
      "cell_type": "code",
      "metadata": {
        "id": "36Xuy-A1Dj0s"
      },
      "source": [
        "qns.drop_duplicates(inplace = True)"
      ],
      "execution_count": 28,
      "outputs": []
    },
    {
      "cell_type": "markdown",
      "metadata": {
        "id": "gPu1hhBc9vAb"
      },
      "source": [
        "### Standardise Numbers"
      ]
    },
    {
      "cell_type": "code",
      "metadata": {
        "id": "H8oG2RUU589O",
        "colab": {
          "base_uri": "https://localhost:8080/",
          "height": 0
        },
        "outputId": "448ef255-e02a-4872-f7dd-d35ef9e10b8e"
      },
      "source": [
        "qns.head()"
      ],
      "execution_count": 29,
      "outputs": [
        {
          "output_type": "execute_result",
          "data": {
            "text/html": [
              "<div>\n",
              "<style scoped>\n",
              "    .dataframe tbody tr th:only-of-type {\n",
              "        vertical-align: middle;\n",
              "    }\n",
              "\n",
              "    .dataframe tbody tr th {\n",
              "        vertical-align: top;\n",
              "    }\n",
              "\n",
              "    .dataframe thead th {\n",
              "        text-align: right;\n",
              "    }\n",
              "</style>\n",
              "<table border=\"1\" class=\"dataframe\">\n",
              "  <thead>\n",
              "    <tr style=\"text-align: right;\">\n",
              "      <th></th>\n",
              "      <th>Id</th>\n",
              "      <th>OwnerUserId</th>\n",
              "      <th>CreationDate</th>\n",
              "      <th>ClosedDate</th>\n",
              "      <th>Score</th>\n",
              "      <th>Title</th>\n",
              "      <th>Body</th>\n",
              "    </tr>\n",
              "  </thead>\n",
              "  <tbody>\n",
              "    <tr>\n",
              "      <th>0</th>\n",
              "      <td>80</td>\n",
              "      <td>26.0</td>\n",
              "      <td>2008-08-01T13:57:07Z</td>\n",
              "      <td>NaN</td>\n",
              "      <td>26</td>\n",
              "      <td>SQLStatement.execute() - multiple queries in o...</td>\n",
              "      <td>&lt;p&gt;I've written a database generation script i...</td>\n",
              "    </tr>\n",
              "    <tr>\n",
              "      <th>1</th>\n",
              "      <td>90</td>\n",
              "      <td>58.0</td>\n",
              "      <td>2008-08-01T14:41:24Z</td>\n",
              "      <td>2012-12-26T03:45:49Z</td>\n",
              "      <td>144</td>\n",
              "      <td>Good branching and merging tutorials for Torto...</td>\n",
              "      <td>&lt;p&gt;Are there any really good tutorials explain...</td>\n",
              "    </tr>\n",
              "    <tr>\n",
              "      <th>2</th>\n",
              "      <td>120</td>\n",
              "      <td>83.0</td>\n",
              "      <td>2008-08-01T15:50:08Z</td>\n",
              "      <td>NaN</td>\n",
              "      <td>21</td>\n",
              "      <td>ASP.NET Site Maps</td>\n",
              "      <td>&lt;p&gt;Has anyone got experience creating &lt;strong&gt;...</td>\n",
              "    </tr>\n",
              "    <tr>\n",
              "      <th>3</th>\n",
              "      <td>180</td>\n",
              "      <td>2089740.0</td>\n",
              "      <td>2008-08-01T18:42:19Z</td>\n",
              "      <td>NaN</td>\n",
              "      <td>53</td>\n",
              "      <td>Function for creating color wheels</td>\n",
              "      <td>&lt;p&gt;This is something I've pseudo-solved many t...</td>\n",
              "    </tr>\n",
              "    <tr>\n",
              "      <th>4</th>\n",
              "      <td>260</td>\n",
              "      <td>91.0</td>\n",
              "      <td>2008-08-01T23:22:08Z</td>\n",
              "      <td>NaN</td>\n",
              "      <td>49</td>\n",
              "      <td>Adding scripting functionality to .NET applica...</td>\n",
              "      <td>&lt;p&gt;I have a little game written in C#. It uses...</td>\n",
              "    </tr>\n",
              "  </tbody>\n",
              "</table>\n",
              "</div>"
            ],
            "text/plain": [
              "    Id  ...                                               Body\n",
              "0   80  ...  <p>I've written a database generation script i...\n",
              "1   90  ...  <p>Are there any really good tutorials explain...\n",
              "2  120  ...  <p>Has anyone got experience creating <strong>...\n",
              "3  180  ...  <p>This is something I've pseudo-solved many t...\n",
              "4  260  ...  <p>I have a little game written in C#. It uses...\n",
              "\n",
              "[5 rows x 7 columns]"
            ]
          },
          "metadata": {
            "tags": []
          },
          "execution_count": 29
        }
      ]
    },
    {
      "cell_type": "markdown",
      "metadata": {
        "id": "ziWCCsE798QT"
      },
      "source": [
        "#### Making OwnerUserId an integer"
      ]
    },
    {
      "cell_type": "code",
      "metadata": {
        "id": "nxdTTuFQ589O"
      },
      "source": [
        "qns['OwnerUserId'] = qns['OwnerUserId'].astype(int)"
      ],
      "execution_count": 30,
      "outputs": []
    },
    {
      "cell_type": "code",
      "metadata": {
        "id": "m6mMsjJb589O"
      },
      "source": [
        "ans['OwnerUserId'] = ans['OwnerUserId'].astype(int)"
      ],
      "execution_count": 31,
      "outputs": []
    },
    {
      "cell_type": "code",
      "metadata": {
        "id": "CSJU4Oz_589O",
        "colab": {
          "base_uri": "https://localhost:8080/",
          "height": 0
        },
        "outputId": "167d4a30-15f9-4f7a-ce4c-09e678305db0"
      },
      "source": [
        "qns.head()"
      ],
      "execution_count": 32,
      "outputs": [
        {
          "output_type": "execute_result",
          "data": {
            "text/html": [
              "<div>\n",
              "<style scoped>\n",
              "    .dataframe tbody tr th:only-of-type {\n",
              "        vertical-align: middle;\n",
              "    }\n",
              "\n",
              "    .dataframe tbody tr th {\n",
              "        vertical-align: top;\n",
              "    }\n",
              "\n",
              "    .dataframe thead th {\n",
              "        text-align: right;\n",
              "    }\n",
              "</style>\n",
              "<table border=\"1\" class=\"dataframe\">\n",
              "  <thead>\n",
              "    <tr style=\"text-align: right;\">\n",
              "      <th></th>\n",
              "      <th>Id</th>\n",
              "      <th>OwnerUserId</th>\n",
              "      <th>CreationDate</th>\n",
              "      <th>ClosedDate</th>\n",
              "      <th>Score</th>\n",
              "      <th>Title</th>\n",
              "      <th>Body</th>\n",
              "    </tr>\n",
              "  </thead>\n",
              "  <tbody>\n",
              "    <tr>\n",
              "      <th>0</th>\n",
              "      <td>80</td>\n",
              "      <td>26</td>\n",
              "      <td>2008-08-01T13:57:07Z</td>\n",
              "      <td>NaN</td>\n",
              "      <td>26</td>\n",
              "      <td>SQLStatement.execute() - multiple queries in o...</td>\n",
              "      <td>&lt;p&gt;I've written a database generation script i...</td>\n",
              "    </tr>\n",
              "    <tr>\n",
              "      <th>1</th>\n",
              "      <td>90</td>\n",
              "      <td>58</td>\n",
              "      <td>2008-08-01T14:41:24Z</td>\n",
              "      <td>2012-12-26T03:45:49Z</td>\n",
              "      <td>144</td>\n",
              "      <td>Good branching and merging tutorials for Torto...</td>\n",
              "      <td>&lt;p&gt;Are there any really good tutorials explain...</td>\n",
              "    </tr>\n",
              "    <tr>\n",
              "      <th>2</th>\n",
              "      <td>120</td>\n",
              "      <td>83</td>\n",
              "      <td>2008-08-01T15:50:08Z</td>\n",
              "      <td>NaN</td>\n",
              "      <td>21</td>\n",
              "      <td>ASP.NET Site Maps</td>\n",
              "      <td>&lt;p&gt;Has anyone got experience creating &lt;strong&gt;...</td>\n",
              "    </tr>\n",
              "    <tr>\n",
              "      <th>3</th>\n",
              "      <td>180</td>\n",
              "      <td>2089740</td>\n",
              "      <td>2008-08-01T18:42:19Z</td>\n",
              "      <td>NaN</td>\n",
              "      <td>53</td>\n",
              "      <td>Function for creating color wheels</td>\n",
              "      <td>&lt;p&gt;This is something I've pseudo-solved many t...</td>\n",
              "    </tr>\n",
              "    <tr>\n",
              "      <th>4</th>\n",
              "      <td>260</td>\n",
              "      <td>91</td>\n",
              "      <td>2008-08-01T23:22:08Z</td>\n",
              "      <td>NaN</td>\n",
              "      <td>49</td>\n",
              "      <td>Adding scripting functionality to .NET applica...</td>\n",
              "      <td>&lt;p&gt;I have a little game written in C#. It uses...</td>\n",
              "    </tr>\n",
              "  </tbody>\n",
              "</table>\n",
              "</div>"
            ],
            "text/plain": [
              "    Id  ...                                               Body\n",
              "0   80  ...  <p>I've written a database generation script i...\n",
              "1   90  ...  <p>Are there any really good tutorials explain...\n",
              "2  120  ...  <p>Has anyone got experience creating <strong>...\n",
              "3  180  ...  <p>This is something I've pseudo-solved many t...\n",
              "4  260  ...  <p>I have a little game written in C#. It uses...\n",
              "\n",
              "[5 rows x 7 columns]"
            ]
          },
          "metadata": {
            "tags": []
          },
          "execution_count": 32
        }
      ]
    },
    {
      "cell_type": "code",
      "metadata": {
        "id": "eMKGhVBo589O",
        "colab": {
          "base_uri": "https://localhost:8080/",
          "height": 0
        },
        "outputId": "0bfea19e-e1f8-447e-fdc0-21235c56b9d5"
      },
      "source": [
        "ans.head()"
      ],
      "execution_count": 33,
      "outputs": [
        {
          "output_type": "execute_result",
          "data": {
            "text/html": [
              "<div>\n",
              "<style scoped>\n",
              "    .dataframe tbody tr th:only-of-type {\n",
              "        vertical-align: middle;\n",
              "    }\n",
              "\n",
              "    .dataframe tbody tr th {\n",
              "        vertical-align: top;\n",
              "    }\n",
              "\n",
              "    .dataframe thead th {\n",
              "        text-align: right;\n",
              "    }\n",
              "</style>\n",
              "<table border=\"1\" class=\"dataframe\">\n",
              "  <thead>\n",
              "    <tr style=\"text-align: right;\">\n",
              "      <th></th>\n",
              "      <th>Id</th>\n",
              "      <th>OwnerUserId</th>\n",
              "      <th>CreationDate</th>\n",
              "      <th>ParentId</th>\n",
              "      <th>Score</th>\n",
              "      <th>Body</th>\n",
              "    </tr>\n",
              "  </thead>\n",
              "  <tbody>\n",
              "    <tr>\n",
              "      <th>0</th>\n",
              "      <td>92</td>\n",
              "      <td>61</td>\n",
              "      <td>2008-08-01T14:45:37Z</td>\n",
              "      <td>90</td>\n",
              "      <td>13</td>\n",
              "      <td>&lt;p&gt;&lt;a href=\"http://svnbook.red-bean.com/\"&gt;Vers...</td>\n",
              "    </tr>\n",
              "    <tr>\n",
              "      <th>1</th>\n",
              "      <td>124</td>\n",
              "      <td>26</td>\n",
              "      <td>2008-08-01T16:09:47Z</td>\n",
              "      <td>80</td>\n",
              "      <td>12</td>\n",
              "      <td>&lt;p&gt;I wound up using this. It is a kind of a ha...</td>\n",
              "    </tr>\n",
              "    <tr>\n",
              "      <th>2</th>\n",
              "      <td>199</td>\n",
              "      <td>50</td>\n",
              "      <td>2008-08-01T19:36:46Z</td>\n",
              "      <td>180</td>\n",
              "      <td>1</td>\n",
              "      <td>&lt;p&gt;I've read somewhere the human eye can't dis...</td>\n",
              "    </tr>\n",
              "    <tr>\n",
              "      <th>3</th>\n",
              "      <td>269</td>\n",
              "      <td>91</td>\n",
              "      <td>2008-08-01T23:49:57Z</td>\n",
              "      <td>260</td>\n",
              "      <td>4</td>\n",
              "      <td>&lt;p&gt;Yes, I thought about that, but I soon figur...</td>\n",
              "    </tr>\n",
              "    <tr>\n",
              "      <th>4</th>\n",
              "      <td>307</td>\n",
              "      <td>49</td>\n",
              "      <td>2008-08-02T01:49:46Z</td>\n",
              "      <td>260</td>\n",
              "      <td>28</td>\n",
              "      <td>&lt;p&gt;&lt;a href=\"http://www.codeproject.com/Article...</td>\n",
              "    </tr>\n",
              "  </tbody>\n",
              "</table>\n",
              "</div>"
            ],
            "text/plain": [
              "    Id  OwnerUserId  ... Score                                               Body\n",
              "0   92           61  ...    13  <p><a href=\"http://svnbook.red-bean.com/\">Vers...\n",
              "1  124           26  ...    12  <p>I wound up using this. It is a kind of a ha...\n",
              "2  199           50  ...     1  <p>I've read somewhere the human eye can't dis...\n",
              "3  269           91  ...     4  <p>Yes, I thought about that, but I soon figur...\n",
              "4  307           49  ...    28  <p><a href=\"http://www.codeproject.com/Article...\n",
              "\n",
              "[5 rows x 6 columns]"
            ]
          },
          "metadata": {
            "tags": []
          },
          "execution_count": 33
        }
      ]
    },
    {
      "cell_type": "code",
      "metadata": {
        "id": "rT5Qp_zh589P",
        "colab": {
          "base_uri": "https://localhost:8080/"
        },
        "outputId": "2be03c7c-9b63-4d4a-da91-abf4ed9c894d"
      },
      "source": [
        "qns.info()"
      ],
      "execution_count": 34,
      "outputs": [
        {
          "output_type": "stream",
          "text": [
            "<class 'pandas.core.frame.DataFrame'>\n",
            "Int64Index: 1249762 entries, 0 to 1264215\n",
            "Data columns (total 7 columns):\n",
            " #   Column        Non-Null Count    Dtype \n",
            "---  ------        --------------    ----- \n",
            " 0   Id            1249762 non-null  int64 \n",
            " 1   OwnerUserId   1249762 non-null  int64 \n",
            " 2   CreationDate  1249762 non-null  object\n",
            " 3   ClosedDate    55240 non-null    object\n",
            " 4   Score         1249762 non-null  int64 \n",
            " 5   Title         1249762 non-null  object\n",
            " 6   Body          1249762 non-null  object\n",
            "dtypes: int64(3), object(4)\n",
            "memory usage: 76.3+ MB\n"
          ],
          "name": "stdout"
        }
      ]
    },
    {
      "cell_type": "code",
      "metadata": {
        "id": "bs2W0nGQ589P",
        "colab": {
          "base_uri": "https://localhost:8080/"
        },
        "outputId": "d9cd47d5-d63f-41d7-8a80-a988728c2c42"
      },
      "source": [
        "tags.shape"
      ],
      "execution_count": 35,
      "outputs": [
        {
          "output_type": "execute_result",
          "data": {
            "text/plain": [
              "(3749881, 2)"
            ]
          },
          "metadata": {
            "tags": []
          },
          "execution_count": 35
        }
      ]
    },
    {
      "cell_type": "markdown",
      "metadata": {
        "id": "Vvxiwc37fBJe"
      },
      "source": [
        "#### Change the Dates Columns type to DateType."
      ]
    },
    {
      "cell_type": "code",
      "metadata": {
        "id": "JxsVBjgMfNrT"
      },
      "source": [
        "qns['CreationDate'] = pd.to_datetime(qns['CreationDate'])\n",
        "ans['CreationDate'] = pd.to_datetime(ans['CreationDate'])"
      ],
      "execution_count": 36,
      "outputs": []
    },
    {
      "cell_type": "markdown",
      "metadata": {
        "id": "0m7qLvat589P"
      },
      "source": [
        "## Handling outliers "
      ]
    },
    {
      "cell_type": "markdown",
      "metadata": {
        "id": "hHuzxlSi-FUo"
      },
      "source": [
        "### Outliers in Score in Questions/qns"
      ]
    },
    {
      "cell_type": "code",
      "metadata": {
        "id": "rIKp2Hkx589P",
        "colab": {
          "base_uri": "https://localhost:8080/",
          "height": 0
        },
        "outputId": "f54c6c30-2a79-4a1f-dad8-25b979781b9c"
      },
      "source": [
        "sns.boxplot(qns.Score)"
      ],
      "execution_count": 37,
      "outputs": [
        {
          "output_type": "execute_result",
          "data": {
            "text/plain": [
              "<matplotlib.axes._subplots.AxesSubplot at 0x7fd21cd5c1d0>"
            ]
          },
          "metadata": {
            "tags": []
          },
          "execution_count": 37
        },
        {
          "output_type": "display_data",
          "data": {
            "image/png": "[encoded data removed]",
            "text/plain": [
              "<Figure size 432x288 with 1 Axes>"
            ]
          },
          "metadata": {
            "tags": [],
            "needs_background": "light"
          }
        }
      ]
    },
    {
      "cell_type": "code",
      "metadata": {
        "id": "ZW0bg_ks589P"
      },
      "source": [
        "qns = qns[qns.Score < 1200]"
      ],
      "execution_count": 38,
      "outputs": []
    },
    {
      "cell_type": "code",
      "metadata": {
        "id": "YFWaUoPr589Q",
        "colab": {
          "base_uri": "https://localhost:8080/",
          "height": 0
        },
        "outputId": "4fe4a763-2293-4d3e-dbc4-13b3d584f2be"
      },
      "source": [
        "sns.boxplot(qns.Score)"
      ],
      "execution_count": 39,
      "outputs": [
        {
          "output_type": "execute_result",
          "data": {
            "text/plain": [
              "<matplotlib.axes._subplots.AxesSubplot at 0x7fd21c8d8908>"
            ]
          },
          "metadata": {
            "tags": []
          },
          "execution_count": 39
        },
        {
          "output_type": "display_data",
          "data": {
            "image/png": "[encoded data removed]",
            "text/plain": [
              "<Figure size 432x288 with 1 Axes>"
            ]
          },
          "metadata": {
            "tags": [],
            "needs_background": "light"
          }
        }
      ]
    },
    {
      "cell_type": "code",
      "metadata": {
        "id": "0oBzAl_A589Q",
        "colab": {
          "base_uri": "https://localhost:8080/"
        },
        "outputId": "964ff6f0-9312-4b56-fdae-ffd6eb9cd151"
      },
      "source": [
        "qns.Score.describe()"
      ],
      "execution_count": 40,
      "outputs": [
        {
          "output_type": "execute_result",
          "data": {
            "text/plain": [
              "count    1.249744e+06\n",
              "mean     1.741049e+00\n",
              "std      1.070463e+01\n",
              "min     -7.300000e+01\n",
              "25%      0.000000e+00\n",
              "50%      0.000000e+00\n",
              "75%      1.000000e+00\n",
              "max      1.147000e+03\n",
              "Name: Score, dtype: float64"
            ]
          },
          "metadata": {
            "tags": []
          },
          "execution_count": 40
        }
      ]
    },
    {
      "cell_type": "markdown",
      "metadata": {
        "id": "63NfayI3-OIY"
      },
      "source": [
        "### Outliers in Score in Answers/ans"
      ]
    },
    {
      "cell_type": "code",
      "metadata": {
        "id": "a8x3LP-a589Q",
        "colab": {
          "base_uri": "https://localhost:8080/",
          "height": 0
        },
        "outputId": "4c51b7aa-94da-4be1-fdda-875649ef216e"
      },
      "source": [
        "sns.boxplot(ans.Score)"
      ],
      "execution_count": 41,
      "outputs": [
        {
          "output_type": "execute_result",
          "data": {
            "text/plain": [
              "<matplotlib.axes._subplots.AxesSubplot at 0x7fd21be72be0>"
            ]
          },
          "metadata": {
            "tags": []
          },
          "execution_count": 41
        },
        {
          "output_type": "display_data",
          "data": {
            "image/png": "[encoded data removed]",
            "text/plain": [
              "<Figure size 432x288 with 1 Axes>"
            ]
          },
          "metadata": {
            "tags": [],
            "needs_background": "light"
          }
        }
      ]
    },
    {
      "cell_type": "code",
      "metadata": {
        "id": "gl-Uteqf589Q"
      },
      "source": [
        "ans = ans[ans.Score < 1100]"
      ],
      "execution_count": 42,
      "outputs": []
    },
    {
      "cell_type": "code",
      "metadata": {
        "id": "IFdTiyfj589Q",
        "colab": {
          "base_uri": "https://localhost:8080/",
          "height": 0
        },
        "outputId": "f83f829c-29fb-409f-e51f-adb5ce6c651f"
      },
      "source": [
        "sns.boxplot(ans.Score)"
      ],
      "execution_count": 43,
      "outputs": [
        {
          "output_type": "execute_result",
          "data": {
            "text/plain": [
              "<matplotlib.axes._subplots.AxesSubplot at 0x7fd21be38fd0>"
            ]
          },
          "metadata": {
            "tags": []
          },
          "execution_count": 43
        },
        {
          "output_type": "display_data",
          "data": {
            "image/png": "[encoded data removed]",
            "text/plain": [
              "<Figure size 432x288 with 1 Axes>"
            ]
          },
          "metadata": {
            "tags": [],
            "needs_background": "light"
          }
        }
      ]
    },
    {
      "cell_type": "code",
      "metadata": {
        "id": "VSUJTOaH589R",
        "colab": {
          "base_uri": "https://localhost:8080/"
        },
        "outputId": "5a3d498f-eab6-4696-ae26-6359988b7903"
      },
      "source": [
        "ans.Score.describe()"
      ],
      "execution_count": 44,
      "outputs": [
        {
          "output_type": "execute_result",
          "data": {
            "text/plain": [
              "count    2.001268e+06\n",
              "mean     2.434043e+00\n",
              "std      1.221149e+01\n",
              "min     -4.200000e+01\n",
              "25%      0.000000e+00\n",
              "50%      1.000000e+00\n",
              "75%      2.000000e+00\n",
              "max      1.095000e+03\n",
              "Name: Score, dtype: float64"
            ]
          },
          "metadata": {
            "tags": []
          },
          "execution_count": 44
        }
      ]
    },
    {
      "cell_type": "markdown",
      "metadata": {
        "id": "VXQujRAA-U0O"
      },
      "source": [
        "### Outliers in reputation in Users/users"
      ]
    },
    {
      "cell_type": "code",
      "metadata": {
        "id": "kgi3uQ4K589R",
        "colab": {
          "base_uri": "https://localhost:8080/",
          "height": 0
        },
        "outputId": "8aea2662-6c6b-412d-c9e9-09ae7512b10b"
      },
      "source": [
        "sns.boxplot(users.reputation)"
      ],
      "execution_count": 45,
      "outputs": [
        {
          "output_type": "execute_result",
          "data": {
            "text/plain": [
              "<matplotlib.axes._subplots.AxesSubplot at 0x7fd21bdd1e48>"
            ]
          },
          "metadata": {
            "tags": []
          },
          "execution_count": 45
        },
        {
          "output_type": "display_data",
          "data": {
            "image/png": "[encoded data removed]",
            "text/plain": [
              "<Figure size 432x288 with 1 Axes>"
            ]
          },
          "metadata": {
            "tags": [],
            "needs_background": "light"
          }
        }
      ]
    },
    {
      "cell_type": "code",
      "metadata": {
        "id": "wEnEJvgT589R"
      },
      "source": [
        "users = users[users.reputation < 600000]"
      ],
      "execution_count": 46,
      "outputs": []
    },
    {
      "cell_type": "code",
      "metadata": {
        "id": "Y7dbCGJy589R",
        "colab": {
          "base_uri": "https://localhost:8080/",
          "height": 0
        },
        "outputId": "272b1806-055b-4ca7-e7d7-0b3cf82129ea"
      },
      "source": [
        "sns.boxplot(users.reputation)"
      ],
      "execution_count": 47,
      "outputs": [
        {
          "output_type": "execute_result",
          "data": {
            "text/plain": [
              "<matplotlib.axes._subplots.AxesSubplot at 0x7fd21bd60710>"
            ]
          },
          "metadata": {
            "tags": []
          },
          "execution_count": 47
        },
        {
          "output_type": "display_data",
          "data": {
            "image/png": "[encoded data removed]",
            "text/plain": [
              "<Figure size 432x288 with 1 Axes>"
            ]
          },
          "metadata": {
            "tags": [],
            "needs_background": "light"
          }
        }
      ]
    },
    {
      "cell_type": "code",
      "metadata": {
        "id": "-gOHsjv5589R",
        "colab": {
          "base_uri": "https://localhost:8080/",
          "height": 0
        },
        "outputId": "80102fb8-e6e9-4e5f-f8a7-725ae540bd60"
      },
      "source": [
        "users"
      ],
      "execution_count": 48,
      "outputs": [
        {
          "output_type": "execute_result",
          "data": {
            "text/html": [
              "<div>\n",
              "<style scoped>\n",
              "    .dataframe tbody tr th:only-of-type {\n",
              "        vertical-align: middle;\n",
              "    }\n",
              "\n",
              "    .dataframe tbody tr th {\n",
              "        vertical-align: top;\n",
              "    }\n",
              "\n",
              "    .dataframe thead th {\n",
              "        text-align: right;\n",
              "    }\n",
              "</style>\n",
              "<table border=\"1\" class=\"dataframe\">\n",
              "  <thead>\n",
              "    <tr style=\"text-align: right;\">\n",
              "      <th></th>\n",
              "      <th>id</th>\n",
              "      <th>display_name</th>\n",
              "      <th>creation_date</th>\n",
              "      <th>last_access_date</th>\n",
              "      <th>reputation</th>\n",
              "      <th>up_votes</th>\n",
              "      <th>down_votes</th>\n",
              "      <th>views</th>\n",
              "    </tr>\n",
              "  </thead>\n",
              "  <tbody>\n",
              "    <tr>\n",
              "      <th>0</th>\n",
              "      <td>26</td>\n",
              "      <td>Shawn</td>\n",
              "      <td>2008-08-01 12:18:14.52 UTC</td>\n",
              "      <td>2018-04-11 04:40:35.66 UTC</td>\n",
              "      <td>11820</td>\n",
              "      <td>565</td>\n",
              "      <td>67</td>\n",
              "      <td>3547</td>\n",
              "    </tr>\n",
              "    <tr>\n",
              "      <th>27</th>\n",
              "      <td>1109</td>\n",
              "      <td>Theo</td>\n",
              "      <td>2008-08-12 12:16:58.61 UTC</td>\n",
              "      <td>2019-08-31 11:39:52.28 UTC</td>\n",
              "      <td>116072</td>\n",
              "      <td>457</td>\n",
              "      <td>136</td>\n",
              "      <td>6905</td>\n",
              "    </tr>\n",
              "    <tr>\n",
              "      <th>85</th>\n",
              "      <td>364174</td>\n",
              "      <td>stats</td>\n",
              "      <td>2010-06-11 03:34:57.137 UTC</td>\n",
              "      <td>2019-08-29 18:37:35.027 UTC</td>\n",
              "      <td>325</td>\n",
              "      <td>25</td>\n",
              "      <td>1</td>\n",
              "      <td>60</td>\n",
              "    </tr>\n",
              "    <tr>\n",
              "      <th>87</th>\n",
              "      <td>61</td>\n",
              "      <td>Bernard</td>\n",
              "      <td>2008-08-01 14:21:00.573 UTC</td>\n",
              "      <td>2019-08-30 07:11:58.297 UTC</td>\n",
              "      <td>22779</td>\n",
              "      <td>1321</td>\n",
              "      <td>219</td>\n",
              "      <td>1731</td>\n",
              "    </tr>\n",
              "    <tr>\n",
              "      <th>97</th>\n",
              "      <td>20709</td>\n",
              "      <td>Black Horus</td>\n",
              "      <td>2008-09-22 20:03:39.71 UTC</td>\n",
              "      <td>2019-09-01 01:17:38.133 UTC</td>\n",
              "      <td>978</td>\n",
              "      <td>73</td>\n",
              "      <td>2</td>\n",
              "      <td>96</td>\n",
              "    </tr>\n",
              "    <tr>\n",
              "      <th>...</th>\n",
              "      <td>...</td>\n",
              "      <td>...</td>\n",
              "      <td>...</td>\n",
              "      <td>...</td>\n",
              "      <td>...</td>\n",
              "      <td>...</td>\n",
              "      <td>...</td>\n",
              "      <td>...</td>\n",
              "    </tr>\n",
              "    <tr>\n",
              "      <th>1990475</th>\n",
              "      <td>4228492</td>\n",
              "      <td>Michael Spranger</td>\n",
              "      <td>2014-11-07 20:21:14.283 UTC</td>\n",
              "      <td>2019-08-28 18:01:29.56 UTC</td>\n",
              "      <td>415</td>\n",
              "      <td>112</td>\n",
              "      <td>2</td>\n",
              "      <td>17</td>\n",
              "    </tr>\n",
              "    <tr>\n",
              "      <th>1990476</th>\n",
              "      <td>6820506</td>\n",
              "      <td>Manuela</td>\n",
              "      <td>2016-09-12 00:19:17.83 UTC</td>\n",
              "      <td>2018-07-20 01:28:24.853 UTC</td>\n",
              "      <td>21</td>\n",
              "      <td>38</td>\n",
              "      <td>0</td>\n",
              "      <td>50</td>\n",
              "    </tr>\n",
              "    <tr>\n",
              "      <th>1990477</th>\n",
              "      <td>4464432</td>\n",
              "      <td>YTorii</td>\n",
              "      <td>2015-01-17 10:48:17.523 UTC</td>\n",
              "      <td>2019-08-31 13:51:47.413 UTC</td>\n",
              "      <td>336</td>\n",
              "      <td>67</td>\n",
              "      <td>1</td>\n",
              "      <td>13</td>\n",
              "    </tr>\n",
              "    <tr>\n",
              "      <th>1990478</th>\n",
              "      <td>4605946</td>\n",
              "      <td>space_voyager</td>\n",
              "      <td>2015-02-25 13:43:24.63 UTC</td>\n",
              "      <td>2019-07-13 23:55:47.607 UTC</td>\n",
              "      <td>884</td>\n",
              "      <td>53</td>\n",
              "      <td>1</td>\n",
              "      <td>191</td>\n",
              "    </tr>\n",
              "    <tr>\n",
              "      <th>1990479</th>\n",
              "      <td>6107989</td>\n",
              "      <td>Nicky HFE</td>\n",
              "      <td>2016-03-24 06:25:14.09 UTC</td>\n",
              "      <td>2019-08-21 13:40:34.197 UTC</td>\n",
              "      <td>108</td>\n",
              "      <td>0</td>\n",
              "      <td>0</td>\n",
              "      <td>30</td>\n",
              "    </tr>\n",
              "  </tbody>\n",
              "</table>\n",
              "<p>465415 rows × 8 columns</p>\n",
              "</div>"
            ],
            "text/plain": [
              "              id      display_name  ... down_votes views\n",
              "0             26             Shawn  ...         67  3547\n",
              "27          1109              Theo  ...        136  6905\n",
              "85        364174             stats  ...          1    60\n",
              "87            61           Bernard  ...        219  1731\n",
              "97         20709       Black Horus  ...          2    96\n",
              "...          ...               ...  ...        ...   ...\n",
              "1990475  4228492  Michael Spranger  ...          2    17\n",
              "1990476  6820506           Manuela  ...          0    50\n",
              "1990477  4464432            YTorii  ...          1    13\n",
              "1990478  4605946     space_voyager  ...          1   191\n",
              "1990479  6107989         Nicky HFE  ...          0    30\n",
              "\n",
              "[465415 rows x 8 columns]"
            ]
          },
          "metadata": {
            "tags": []
          },
          "execution_count": 48
        }
      ]
    },
    {
      "cell_type": "markdown",
      "metadata": {
        "id": "SbKxoFXg589S"
      },
      "source": [
        "## Prepping Join/Merge \n"
      ]
    },
    {
      "cell_type": "code",
      "metadata": {
        "id": "R6j60OJ4589S",
        "colab": {
          "base_uri": "https://localhost:8080/",
          "height": 0
        },
        "outputId": "61b4a227-d6f6-420a-b2a1-6507ba351def"
      },
      "source": [
        "qns.head()"
      ],
      "execution_count": 49,
      "outputs": [
        {
          "output_type": "execute_result",
          "data": {
            "text/html": [
              "<div>\n",
              "<style scoped>\n",
              "    .dataframe tbody tr th:only-of-type {\n",
              "        vertical-align: middle;\n",
              "    }\n",
              "\n",
              "    .dataframe tbody tr th {\n",
              "        vertical-align: top;\n",
              "    }\n",
              "\n",
              "    .dataframe thead th {\n",
              "        text-align: right;\n",
              "    }\n",
              "</style>\n",
              "<table border=\"1\" class=\"dataframe\">\n",
              "  <thead>\n",
              "    <tr style=\"text-align: right;\">\n",
              "      <th></th>\n",
              "      <th>Id</th>\n",
              "      <th>OwnerUserId</th>\n",
              "      <th>CreationDate</th>\n",
              "      <th>ClosedDate</th>\n",
              "      <th>Score</th>\n",
              "      <th>Title</th>\n",
              "      <th>Body</th>\n",
              "    </tr>\n",
              "  </thead>\n",
              "  <tbody>\n",
              "    <tr>\n",
              "      <th>0</th>\n",
              "      <td>80</td>\n",
              "      <td>26</td>\n",
              "      <td>2008-08-01 13:57:07+00:00</td>\n",
              "      <td>NaN</td>\n",
              "      <td>26</td>\n",
              "      <td>SQLStatement.execute() - multiple queries in o...</td>\n",
              "      <td>&lt;p&gt;I've written a database generation script i...</td>\n",
              "    </tr>\n",
              "    <tr>\n",
              "      <th>1</th>\n",
              "      <td>90</td>\n",
              "      <td>58</td>\n",
              "      <td>2008-08-01 14:41:24+00:00</td>\n",
              "      <td>2012-12-26T03:45:49Z</td>\n",
              "      <td>144</td>\n",
              "      <td>Good branching and merging tutorials for Torto...</td>\n",
              "      <td>&lt;p&gt;Are there any really good tutorials explain...</td>\n",
              "    </tr>\n",
              "    <tr>\n",
              "      <th>2</th>\n",
              "      <td>120</td>\n",
              "      <td>83</td>\n",
              "      <td>2008-08-01 15:50:08+00:00</td>\n",
              "      <td>NaN</td>\n",
              "      <td>21</td>\n",
              "      <td>ASP.NET Site Maps</td>\n",
              "      <td>&lt;p&gt;Has anyone got experience creating &lt;strong&gt;...</td>\n",
              "    </tr>\n",
              "    <tr>\n",
              "      <th>3</th>\n",
              "      <td>180</td>\n",
              "      <td>2089740</td>\n",
              "      <td>2008-08-01 18:42:19+00:00</td>\n",
              "      <td>NaN</td>\n",
              "      <td>53</td>\n",
              "      <td>Function for creating color wheels</td>\n",
              "      <td>&lt;p&gt;This is something I've pseudo-solved many t...</td>\n",
              "    </tr>\n",
              "    <tr>\n",
              "      <th>4</th>\n",
              "      <td>260</td>\n",
              "      <td>91</td>\n",
              "      <td>2008-08-01 23:22:08+00:00</td>\n",
              "      <td>NaN</td>\n",
              "      <td>49</td>\n",
              "      <td>Adding scripting functionality to .NET applica...</td>\n",
              "      <td>&lt;p&gt;I have a little game written in C#. It uses...</td>\n",
              "    </tr>\n",
              "  </tbody>\n",
              "</table>\n",
              "</div>"
            ],
            "text/plain": [
              "    Id  ...                                               Body\n",
              "0   80  ...  <p>I've written a database generation script i...\n",
              "1   90  ...  <p>Are there any really good tutorials explain...\n",
              "2  120  ...  <p>Has anyone got experience creating <strong>...\n",
              "3  180  ...  <p>This is something I've pseudo-solved many t...\n",
              "4  260  ...  <p>I have a little game written in C#. It uses...\n",
              "\n",
              "[5 rows x 7 columns]"
            ]
          },
          "metadata": {
            "tags": []
          },
          "execution_count": 49
        }
      ]
    },
    {
      "cell_type": "code",
      "metadata": {
        "id": "EaodYmIJ589S"
      },
      "source": [
        "qns.rename(columns={'Id':'Q_Id', 'OwnerUserId':'Q_OwnerUserId', 'CreationDate':'Q_CreationDate','ClosedDate':'Q_ClosedDate' }, inplace=True)\n",
        "qns.rename(columns={'Score':'Q_Score', 'Title':'Q_Title', 'Body':'Q_Body' }, inplace=True)"
      ],
      "execution_count": 50,
      "outputs": []
    },
    {
      "cell_type": "markdown",
      "metadata": {
        "id": "DLUCoNj5_8BI"
      },
      "source": [
        "### Renaming Questions columns with Q identifier"
      ]
    },
    {
      "cell_type": "code",
      "metadata": {
        "id": "Grsi9jJQ589S",
        "colab": {
          "base_uri": "https://localhost:8080/",
          "height": 0
        },
        "outputId": "f866168a-6f89-4350-e35a-11d9373ca9ea"
      },
      "source": [
        "qns.head()"
      ],
      "execution_count": 51,
      "outputs": [
        {
          "output_type": "execute_result",
          "data": {
            "text/html": [
              "<div>\n",
              "<style scoped>\n",
              "    .dataframe tbody tr th:only-of-type {\n",
              "        vertical-align: middle;\n",
              "    }\n",
              "\n",
              "    .dataframe tbody tr th {\n",
              "        vertical-align: top;\n",
              "    }\n",
              "\n",
              "    .dataframe thead th {\n",
              "        text-align: right;\n",
              "    }\n",
              "</style>\n",
              "<table border=\"1\" class=\"dataframe\">\n",
              "  <thead>\n",
              "    <tr style=\"text-align: right;\">\n",
              "      <th></th>\n",
              "      <th>Q_Id</th>\n",
              "      <th>Q_OwnerUserId</th>\n",
              "      <th>Q_CreationDate</th>\n",
              "      <th>Q_ClosedDate</th>\n",
              "      <th>Q_Score</th>\n",
              "      <th>Q_Title</th>\n",
              "      <th>Q_Body</th>\n",
              "    </tr>\n",
              "  </thead>\n",
              "  <tbody>\n",
              "    <tr>\n",
              "      <th>0</th>\n",
              "      <td>80</td>\n",
              "      <td>26</td>\n",
              "      <td>2008-08-01 13:57:07+00:00</td>\n",
              "      <td>NaN</td>\n",
              "      <td>26</td>\n",
              "      <td>SQLStatement.execute() - multiple queries in o...</td>\n",
              "      <td>&lt;p&gt;I've written a database generation script i...</td>\n",
              "    </tr>\n",
              "    <tr>\n",
              "      <th>1</th>\n",
              "      <td>90</td>\n",
              "      <td>58</td>\n",
              "      <td>2008-08-01 14:41:24+00:00</td>\n",
              "      <td>2012-12-26T03:45:49Z</td>\n",
              "      <td>144</td>\n",
              "      <td>Good branching and merging tutorials for Torto...</td>\n",
              "      <td>&lt;p&gt;Are there any really good tutorials explain...</td>\n",
              "    </tr>\n",
              "    <tr>\n",
              "      <th>2</th>\n",
              "      <td>120</td>\n",
              "      <td>83</td>\n",
              "      <td>2008-08-01 15:50:08+00:00</td>\n",
              "      <td>NaN</td>\n",
              "      <td>21</td>\n",
              "      <td>ASP.NET Site Maps</td>\n",
              "      <td>&lt;p&gt;Has anyone got experience creating &lt;strong&gt;...</td>\n",
              "    </tr>\n",
              "    <tr>\n",
              "      <th>3</th>\n",
              "      <td>180</td>\n",
              "      <td>2089740</td>\n",
              "      <td>2008-08-01 18:42:19+00:00</td>\n",
              "      <td>NaN</td>\n",
              "      <td>53</td>\n",
              "      <td>Function for creating color wheels</td>\n",
              "      <td>&lt;p&gt;This is something I've pseudo-solved many t...</td>\n",
              "    </tr>\n",
              "    <tr>\n",
              "      <th>4</th>\n",
              "      <td>260</td>\n",
              "      <td>91</td>\n",
              "      <td>2008-08-01 23:22:08+00:00</td>\n",
              "      <td>NaN</td>\n",
              "      <td>49</td>\n",
              "      <td>Adding scripting functionality to .NET applica...</td>\n",
              "      <td>&lt;p&gt;I have a little game written in C#. It uses...</td>\n",
              "    </tr>\n",
              "  </tbody>\n",
              "</table>\n",
              "</div>"
            ],
            "text/plain": [
              "   Q_Id  ...                                             Q_Body\n",
              "0    80  ...  <p>I've written a database generation script i...\n",
              "1    90  ...  <p>Are there any really good tutorials explain...\n",
              "2   120  ...  <p>Has anyone got experience creating <strong>...\n",
              "3   180  ...  <p>This is something I've pseudo-solved many t...\n",
              "4   260  ...  <p>I have a little game written in C#. It uses...\n",
              "\n",
              "[5 rows x 7 columns]"
            ]
          },
          "metadata": {
            "tags": []
          },
          "execution_count": 51
        }
      ]
    },
    {
      "cell_type": "code",
      "metadata": {
        "id": "Pj4NpiFC589S",
        "colab": {
          "base_uri": "https://localhost:8080/",
          "height": 0
        },
        "outputId": "47e2b60b-a634-4ab0-f8e0-70ae8c33f957"
      },
      "source": [
        "ans.head()"
      ],
      "execution_count": 52,
      "outputs": [
        {
          "output_type": "execute_result",
          "data": {
            "text/html": [
              "<div>\n",
              "<style scoped>\n",
              "    .dataframe tbody tr th:only-of-type {\n",
              "        vertical-align: middle;\n",
              "    }\n",
              "\n",
              "    .dataframe tbody tr th {\n",
              "        vertical-align: top;\n",
              "    }\n",
              "\n",
              "    .dataframe thead th {\n",
              "        text-align: right;\n",
              "    }\n",
              "</style>\n",
              "<table border=\"1\" class=\"dataframe\">\n",
              "  <thead>\n",
              "    <tr style=\"text-align: right;\">\n",
              "      <th></th>\n",
              "      <th>Id</th>\n",
              "      <th>OwnerUserId</th>\n",
              "      <th>CreationDate</th>\n",
              "      <th>ParentId</th>\n",
              "      <th>Score</th>\n",
              "      <th>Body</th>\n",
              "    </tr>\n",
              "  </thead>\n",
              "  <tbody>\n",
              "    <tr>\n",
              "      <th>0</th>\n",
              "      <td>92</td>\n",
              "      <td>61</td>\n",
              "      <td>2008-08-01 14:45:37+00:00</td>\n",
              "      <td>90</td>\n",
              "      <td>13</td>\n",
              "      <td>&lt;p&gt;&lt;a href=\"http://svnbook.red-bean.com/\"&gt;Vers...</td>\n",
              "    </tr>\n",
              "    <tr>\n",
              "      <th>1</th>\n",
              "      <td>124</td>\n",
              "      <td>26</td>\n",
              "      <td>2008-08-01 16:09:47+00:00</td>\n",
              "      <td>80</td>\n",
              "      <td>12</td>\n",
              "      <td>&lt;p&gt;I wound up using this. It is a kind of a ha...</td>\n",
              "    </tr>\n",
              "    <tr>\n",
              "      <th>2</th>\n",
              "      <td>199</td>\n",
              "      <td>50</td>\n",
              "      <td>2008-08-01 19:36:46+00:00</td>\n",
              "      <td>180</td>\n",
              "      <td>1</td>\n",
              "      <td>&lt;p&gt;I've read somewhere the human eye can't dis...</td>\n",
              "    </tr>\n",
              "    <tr>\n",
              "      <th>3</th>\n",
              "      <td>269</td>\n",
              "      <td>91</td>\n",
              "      <td>2008-08-01 23:49:57+00:00</td>\n",
              "      <td>260</td>\n",
              "      <td>4</td>\n",
              "      <td>&lt;p&gt;Yes, I thought about that, but I soon figur...</td>\n",
              "    </tr>\n",
              "    <tr>\n",
              "      <th>4</th>\n",
              "      <td>307</td>\n",
              "      <td>49</td>\n",
              "      <td>2008-08-02 01:49:46+00:00</td>\n",
              "      <td>260</td>\n",
              "      <td>28</td>\n",
              "      <td>&lt;p&gt;&lt;a href=\"http://www.codeproject.com/Article...</td>\n",
              "    </tr>\n",
              "  </tbody>\n",
              "</table>\n",
              "</div>"
            ],
            "text/plain": [
              "    Id  OwnerUserId  ... Score                                               Body\n",
              "0   92           61  ...    13  <p><a href=\"http://svnbook.red-bean.com/\">Vers...\n",
              "1  124           26  ...    12  <p>I wound up using this. It is a kind of a ha...\n",
              "2  199           50  ...     1  <p>I've read somewhere the human eye can't dis...\n",
              "3  269           91  ...     4  <p>Yes, I thought about that, but I soon figur...\n",
              "4  307           49  ...    28  <p><a href=\"http://www.codeproject.com/Article...\n",
              "\n",
              "[5 rows x 6 columns]"
            ]
          },
          "metadata": {
            "tags": []
          },
          "execution_count": 52
        }
      ]
    },
    {
      "cell_type": "markdown",
      "metadata": {
        "id": "PADpJEw9AHfH"
      },
      "source": [
        "###  Renaming Answers columns with A identifier"
      ]
    },
    {
      "cell_type": "code",
      "metadata": {
        "id": "YZmblcCP589T"
      },
      "source": [
        "ans.rename(columns={'Id':'A_Id', 'OwnerUserId':'A_OwnerUserId', 'CreationDate':'A_CreationDate' }, inplace=True)\n",
        "ans.rename(columns={'ParentId':'Q_Id','Score':'A_Score', 'Body':'A_Body' }, inplace=True)"
      ],
      "execution_count": 53,
      "outputs": []
    },
    {
      "cell_type": "code",
      "metadata": {
        "id": "d3RIP7xh589T",
        "colab": {
          "base_uri": "https://localhost:8080/",
          "height": 0
        },
        "outputId": "3f4c27fb-4efd-4ad7-c6b2-239dd3882524"
      },
      "source": [
        "ans.sample()"
      ],
      "execution_count": 54,
      "outputs": [
        {
          "output_type": "execute_result",
          "data": {
            "text/html": [
              "<div>\n",
              "<style scoped>\n",
              "    .dataframe tbody tr th:only-of-type {\n",
              "        vertical-align: middle;\n",
              "    }\n",
              "\n",
              "    .dataframe tbody tr th {\n",
              "        vertical-align: top;\n",
              "    }\n",
              "\n",
              "    .dataframe thead th {\n",
              "        text-align: right;\n",
              "    }\n",
              "</style>\n",
              "<table border=\"1\" class=\"dataframe\">\n",
              "  <thead>\n",
              "    <tr style=\"text-align: right;\">\n",
              "      <th></th>\n",
              "      <th>A_Id</th>\n",
              "      <th>A_OwnerUserId</th>\n",
              "      <th>A_CreationDate</th>\n",
              "      <th>Q_Id</th>\n",
              "      <th>A_Score</th>\n",
              "      <th>A_Body</th>\n",
              "    </tr>\n",
              "  </thead>\n",
              "  <tbody>\n",
              "    <tr>\n",
              "      <th>1294479</th>\n",
              "      <td>24617680</td>\n",
              "      <td>3768656</td>\n",
              "      <td>2014-07-07 18:48:05+00:00</td>\n",
              "      <td>24582320</td>\n",
              "      <td>2</td>\n",
              "      <td>&lt;p&gt;try &lt;/p&gt;\\n\\n&lt;pre&gt;&lt;code&gt;nx.is_connected(G)\\n...</td>\n",
              "    </tr>\n",
              "  </tbody>\n",
              "</table>\n",
              "</div>"
            ],
            "text/plain": [
              "             A_Id  ...                                             A_Body\n",
              "1294479  24617680  ...  <p>try </p>\\n\\n<pre><code>nx.is_connected(G)\\n...\n",
              "\n",
              "[1 rows x 6 columns]"
            ]
          },
          "metadata": {
            "tags": []
          },
          "execution_count": 54
        }
      ]
    },
    {
      "cell_type": "code",
      "metadata": {
        "id": "FJCurL4A589T",
        "colab": {
          "base_uri": "https://localhost:8080/",
          "height": 0
        },
        "outputId": "7b924b23-6247-4d31-eef8-af6543289950"
      },
      "source": [
        "qns.sample()"
      ],
      "execution_count": 55,
      "outputs": [
        {
          "output_type": "execute_result",
          "data": {
            "text/html": [
              "<div>\n",
              "<style scoped>\n",
              "    .dataframe tbody tr th:only-of-type {\n",
              "        vertical-align: middle;\n",
              "    }\n",
              "\n",
              "    .dataframe tbody tr th {\n",
              "        vertical-align: top;\n",
              "    }\n",
              "\n",
              "    .dataframe thead th {\n",
              "        text-align: right;\n",
              "    }\n",
              "</style>\n",
              "<table border=\"1\" class=\"dataframe\">\n",
              "  <thead>\n",
              "    <tr style=\"text-align: right;\">\n",
              "      <th></th>\n",
              "      <th>Q_Id</th>\n",
              "      <th>Q_OwnerUserId</th>\n",
              "      <th>Q_CreationDate</th>\n",
              "      <th>Q_ClosedDate</th>\n",
              "      <th>Q_Score</th>\n",
              "      <th>Q_Title</th>\n",
              "      <th>Q_Body</th>\n",
              "    </tr>\n",
              "  </thead>\n",
              "  <tbody>\n",
              "    <tr>\n",
              "      <th>748069</th>\n",
              "      <td>25364930</td>\n",
              "      <td>2459565</td>\n",
              "      <td>2014-08-18 13:47:50+00:00</td>\n",
              "      <td>NaN</td>\n",
              "      <td>0</td>\n",
              "      <td>Display output result in another page in PHP</td>\n",
              "      <td>&lt;p&gt;I have a Tour Search application where user...</td>\n",
              "    </tr>\n",
              "  </tbody>\n",
              "</table>\n",
              "</div>"
            ],
            "text/plain": [
              "            Q_Id  ...                                             Q_Body\n",
              "748069  25364930  ...  <p>I have a Tour Search application where user...\n",
              "\n",
              "[1 rows x 7 columns]"
            ]
          },
          "metadata": {
            "tags": []
          },
          "execution_count": 55
        }
      ]
    },
    {
      "cell_type": "markdown",
      "metadata": {
        "id": "4UwjA4V1ASlT"
      },
      "source": [
        "### Cosolidating Tags as CSV values grouped by Question ID "
      ]
    },
    {
      "cell_type": "markdown",
      "metadata": {
        "id": "KohMr-BU589T"
      },
      "source": [
        "**Breaking up the below commented line to make sure processor is NOT taxed**\n",
        "\n",
        "Had initiatlly tested with tags.head(5000) and worked well but running on entire dataframe execution almost made jupyter unresponsive."
      ]
    },
    {
      "cell_type": "code",
      "metadata": {
        "id": "U-ZAkwJV589T"
      },
      "source": [
        "#tags.groupby(['Id'])['Tag'].apply(lambda Tag: ''.join(Tag.to_string(index=False))).str.replace('(\\\\n)', ',').reset_index()"
      ],
      "execution_count": 56,
      "outputs": []
    },
    {
      "cell_type": "code",
      "metadata": {
        "id": "lXYSdnzK589T"
      },
      "source": [
        "tags2 = tags.groupby(['Id'])['Tag']"
      ],
      "execution_count": 57,
      "outputs": []
    },
    {
      "cell_type": "code",
      "metadata": {
        "id": "zliKRZM7589U"
      },
      "source": [
        "tags3 = tags2.apply(lambda Tag: ''.join(Tag.to_string(index=False)))"
      ],
      "execution_count": 58,
      "outputs": []
    },
    {
      "cell_type": "code",
      "metadata": {
        "id": "sSTJWQY0589U",
        "colab": {
          "base_uri": "https://localhost:8080/",
          "height": 0
        },
        "outputId": "e2ea62a6-e594-4921-cd8d-77f5eef8b123"
      },
      "source": [
        "tags3.str.replace('(\\\\n)', ',').reset_index()"
      ],
      "execution_count": 59,
      "outputs": [
        {
          "output_type": "execute_result",
          "data": {
            "text/html": [
              "<div>\n",
              "<style scoped>\n",
              "    .dataframe tbody tr th:only-of-type {\n",
              "        vertical-align: middle;\n",
              "    }\n",
              "\n",
              "    .dataframe tbody tr th {\n",
              "        vertical-align: top;\n",
              "    }\n",
              "\n",
              "    .dataframe thead th {\n",
              "        text-align: right;\n",
              "    }\n",
              "</style>\n",
              "<table border=\"1\" class=\"dataframe\">\n",
              "  <thead>\n",
              "    <tr style=\"text-align: right;\">\n",
              "      <th></th>\n",
              "      <th>Id</th>\n",
              "      <th>Tag</th>\n",
              "    </tr>\n",
              "  </thead>\n",
              "  <tbody>\n",
              "    <tr>\n",
              "      <th>0</th>\n",
              "      <td>80</td>\n",
              "      <td>flex, actionscript-3,            air</td>\n",
              "    </tr>\n",
              "    <tr>\n",
              "      <th>1</th>\n",
              "      <td>90</td>\n",
              "      <td>svn,           tortoisesvn,...</td>\n",
              "    </tr>\n",
              "    <tr>\n",
              "      <th>2</th>\n",
              "      <td>120</td>\n",
              "      <td>sql, asp.net, sitemap</td>\n",
              "    </tr>\n",
              "    <tr>\n",
              "      <th>3</th>\n",
              "      <td>180</td>\n",
              "      <td>algorithm, language-agnostic,        ...</td>\n",
              "    </tr>\n",
              "    <tr>\n",
              "      <th>4</th>\n",
              "      <td>260</td>\n",
              "      <td>c#,                  .net,...</td>\n",
              "    </tr>\n",
              "    <tr>\n",
              "      <th>...</th>\n",
              "      <td>...</td>\n",
              "      <td>...</td>\n",
              "    </tr>\n",
              "    <tr>\n",
              "      <th>1264209</th>\n",
              "      <td>40143210</td>\n",
              "      <td>php, .htaccess</td>\n",
              "    </tr>\n",
              "    <tr>\n",
              "      <th>1264210</th>\n",
              "      <td>40143300</td>\n",
              "      <td>google-bigquery</td>\n",
              "    </tr>\n",
              "    <tr>\n",
              "      <th>1264211</th>\n",
              "      <td>40143340</td>\n",
              "      <td>android, android-studio</td>\n",
              "    </tr>\n",
              "    <tr>\n",
              "      <th>1264212</th>\n",
              "      <td>40143360</td>\n",
              "      <td>javascript,     vue.js</td>\n",
              "    </tr>\n",
              "    <tr>\n",
              "      <th>1264213</th>\n",
              "      <td>40143380</td>\n",
              "      <td>npm, mocha, babel</td>\n",
              "    </tr>\n",
              "  </tbody>\n",
              "</table>\n",
              "<p>1264214 rows × 2 columns</p>\n",
              "</div>"
            ],
            "text/plain": [
              "               Id                                                Tag\n",
              "0              80               flex, actionscript-3,            air\n",
              "1              90                     svn,           tortoisesvn,...\n",
              "2             120                              sql, asp.net, sitemap\n",
              "3             180           algorithm, language-agnostic,        ...\n",
              "4             260                      c#,                  .net,...\n",
              "...           ...                                                ...\n",
              "1264209  40143210                                     php, .htaccess\n",
              "1264210  40143300                                    google-bigquery\n",
              "1264211  40143340                            android, android-studio\n",
              "1264212  40143360                             javascript,     vue.js\n",
              "1264213  40143380                                  npm, mocha, babel\n",
              "\n",
              "[1264214 rows x 2 columns]"
            ]
          },
          "metadata": {
            "tags": []
          },
          "execution_count": 59
        }
      ]
    },
    {
      "cell_type": "code",
      "metadata": {
        "id": "2UpgoXpd589U"
      },
      "source": [
        "tags=tags3.str.replace('(\\\\n)', ',').reset_index()"
      ],
      "execution_count": 60,
      "outputs": []
    },
    {
      "cell_type": "code",
      "metadata": {
        "id": "HsRLwHnF589U",
        "colab": {
          "base_uri": "https://localhost:8080/",
          "height": 0
        },
        "outputId": "f183875d-cb2e-49a8-9080-da413971db86"
      },
      "source": [
        "tags"
      ],
      "execution_count": 61,
      "outputs": [
        {
          "output_type": "execute_result",
          "data": {
            "text/html": [
              "<div>\n",
              "<style scoped>\n",
              "    .dataframe tbody tr th:only-of-type {\n",
              "        vertical-align: middle;\n",
              "    }\n",
              "\n",
              "    .dataframe tbody tr th {\n",
              "        vertical-align: top;\n",
              "    }\n",
              "\n",
              "    .dataframe thead th {\n",
              "        text-align: right;\n",
              "    }\n",
              "</style>\n",
              "<table border=\"1\" class=\"dataframe\">\n",
              "  <thead>\n",
              "    <tr style=\"text-align: right;\">\n",
              "      <th></th>\n",
              "      <th>Id</th>\n",
              "      <th>Tag</th>\n",
              "    </tr>\n",
              "  </thead>\n",
              "  <tbody>\n",
              "    <tr>\n",
              "      <th>0</th>\n",
              "      <td>80</td>\n",
              "      <td>flex, actionscript-3,            air</td>\n",
              "    </tr>\n",
              "    <tr>\n",
              "      <th>1</th>\n",
              "      <td>90</td>\n",
              "      <td>svn,           tortoisesvn,...</td>\n",
              "    </tr>\n",
              "    <tr>\n",
              "      <th>2</th>\n",
              "      <td>120</td>\n",
              "      <td>sql, asp.net, sitemap</td>\n",
              "    </tr>\n",
              "    <tr>\n",
              "      <th>3</th>\n",
              "      <td>180</td>\n",
              "      <td>algorithm, language-agnostic,        ...</td>\n",
              "    </tr>\n",
              "    <tr>\n",
              "      <th>4</th>\n",
              "      <td>260</td>\n",
              "      <td>c#,                  .net,...</td>\n",
              "    </tr>\n",
              "    <tr>\n",
              "      <th>...</th>\n",
              "      <td>...</td>\n",
              "      <td>...</td>\n",
              "    </tr>\n",
              "    <tr>\n",
              "      <th>1264209</th>\n",
              "      <td>40143210</td>\n",
              "      <td>php, .htaccess</td>\n",
              "    </tr>\n",
              "    <tr>\n",
              "      <th>1264210</th>\n",
              "      <td>40143300</td>\n",
              "      <td>google-bigquery</td>\n",
              "    </tr>\n",
              "    <tr>\n",
              "      <th>1264211</th>\n",
              "      <td>40143340</td>\n",
              "      <td>android, android-studio</td>\n",
              "    </tr>\n",
              "    <tr>\n",
              "      <th>1264212</th>\n",
              "      <td>40143360</td>\n",
              "      <td>javascript,     vue.js</td>\n",
              "    </tr>\n",
              "    <tr>\n",
              "      <th>1264213</th>\n",
              "      <td>40143380</td>\n",
              "      <td>npm, mocha, babel</td>\n",
              "    </tr>\n",
              "  </tbody>\n",
              "</table>\n",
              "<p>1264214 rows × 2 columns</p>\n",
              "</div>"
            ],
            "text/plain": [
              "               Id                                                Tag\n",
              "0              80               flex, actionscript-3,            air\n",
              "1              90                     svn,           tortoisesvn,...\n",
              "2             120                              sql, asp.net, sitemap\n",
              "3             180           algorithm, language-agnostic,        ...\n",
              "4             260                      c#,                  .net,...\n",
              "...           ...                                                ...\n",
              "1264209  40143210                                     php, .htaccess\n",
              "1264210  40143300                                    google-bigquery\n",
              "1264211  40143340                            android, android-studio\n",
              "1264212  40143360                             javascript,     vue.js\n",
              "1264213  40143380                                  npm, mocha, babel\n",
              "\n",
              "[1264214 rows x 2 columns]"
            ]
          },
          "metadata": {
            "tags": []
          },
          "execution_count": 61
        }
      ]
    },
    {
      "cell_type": "code",
      "metadata": {
        "id": "KkfbAJYs589U"
      },
      "source": [
        "tags.rename(columns={'Id':'Q_Id'}, inplace= True)"
      ],
      "execution_count": 62,
      "outputs": []
    },
    {
      "cell_type": "code",
      "metadata": {
        "id": "eFB2c8SA589U",
        "colab": {
          "base_uri": "https://localhost:8080/",
          "height": 0
        },
        "outputId": "4df807ce-74e7-4a47-877f-8f3602b382a5"
      },
      "source": [
        "tags"
      ],
      "execution_count": 63,
      "outputs": [
        {
          "output_type": "execute_result",
          "data": {
            "text/html": [
              "<div>\n",
              "<style scoped>\n",
              "    .dataframe tbody tr th:only-of-type {\n",
              "        vertical-align: middle;\n",
              "    }\n",
              "\n",
              "    .dataframe tbody tr th {\n",
              "        vertical-align: top;\n",
              "    }\n",
              "\n",
              "    .dataframe thead th {\n",
              "        text-align: right;\n",
              "    }\n",
              "</style>\n",
              "<table border=\"1\" class=\"dataframe\">\n",
              "  <thead>\n",
              "    <tr style=\"text-align: right;\">\n",
              "      <th></th>\n",
              "      <th>Q_Id</th>\n",
              "      <th>Tag</th>\n",
              "    </tr>\n",
              "  </thead>\n",
              "  <tbody>\n",
              "    <tr>\n",
              "      <th>0</th>\n",
              "      <td>80</td>\n",
              "      <td>flex, actionscript-3,            air</td>\n",
              "    </tr>\n",
              "    <tr>\n",
              "      <th>1</th>\n",
              "      <td>90</td>\n",
              "      <td>svn,           tortoisesvn,...</td>\n",
              "    </tr>\n",
              "    <tr>\n",
              "      <th>2</th>\n",
              "      <td>120</td>\n",
              "      <td>sql, asp.net, sitemap</td>\n",
              "    </tr>\n",
              "    <tr>\n",
              "      <th>3</th>\n",
              "      <td>180</td>\n",
              "      <td>algorithm, language-agnostic,        ...</td>\n",
              "    </tr>\n",
              "    <tr>\n",
              "      <th>4</th>\n",
              "      <td>260</td>\n",
              "      <td>c#,                  .net,...</td>\n",
              "    </tr>\n",
              "    <tr>\n",
              "      <th>...</th>\n",
              "      <td>...</td>\n",
              "      <td>...</td>\n",
              "    </tr>\n",
              "    <tr>\n",
              "      <th>1264209</th>\n",
              "      <td>40143210</td>\n",
              "      <td>php, .htaccess</td>\n",
              "    </tr>\n",
              "    <tr>\n",
              "      <th>1264210</th>\n",
              "      <td>40143300</td>\n",
              "      <td>google-bigquery</td>\n",
              "    </tr>\n",
              "    <tr>\n",
              "      <th>1264211</th>\n",
              "      <td>40143340</td>\n",
              "      <td>android, android-studio</td>\n",
              "    </tr>\n",
              "    <tr>\n",
              "      <th>1264212</th>\n",
              "      <td>40143360</td>\n",
              "      <td>javascript,     vue.js</td>\n",
              "    </tr>\n",
              "    <tr>\n",
              "      <th>1264213</th>\n",
              "      <td>40143380</td>\n",
              "      <td>npm, mocha, babel</td>\n",
              "    </tr>\n",
              "  </tbody>\n",
              "</table>\n",
              "<p>1264214 rows × 2 columns</p>\n",
              "</div>"
            ],
            "text/plain": [
              "             Q_Id                                                Tag\n",
              "0              80               flex, actionscript-3,            air\n",
              "1              90                     svn,           tortoisesvn,...\n",
              "2             120                              sql, asp.net, sitemap\n",
              "3             180           algorithm, language-agnostic,        ...\n",
              "4             260                      c#,                  .net,...\n",
              "...           ...                                                ...\n",
              "1264209  40143210                                     php, .htaccess\n",
              "1264210  40143300                                    google-bigquery\n",
              "1264211  40143340                            android, android-studio\n",
              "1264212  40143360                             javascript,     vue.js\n",
              "1264213  40143380                                  npm, mocha, babel\n",
              "\n",
              "[1264214 rows x 2 columns]"
            ]
          },
          "metadata": {
            "tags": []
          },
          "execution_count": 63
        }
      ]
    },
    {
      "cell_type": "code",
      "metadata": {
        "id": "0ECmZ7FW589V",
        "colab": {
          "base_uri": "https://localhost:8080/",
          "height": 0
        },
        "outputId": "5b741db4-b76c-4e38-a3a9-bfb004d688fd"
      },
      "source": [
        "users"
      ],
      "execution_count": 64,
      "outputs": [
        {
          "output_type": "execute_result",
          "data": {
            "text/html": [
              "<div>\n",
              "<style scoped>\n",
              "    .dataframe tbody tr th:only-of-type {\n",
              "        vertical-align: middle;\n",
              "    }\n",
              "\n",
              "    .dataframe tbody tr th {\n",
              "        vertical-align: top;\n",
              "    }\n",
              "\n",
              "    .dataframe thead th {\n",
              "        text-align: right;\n",
              "    }\n",
              "</style>\n",
              "<table border=\"1\" class=\"dataframe\">\n",
              "  <thead>\n",
              "    <tr style=\"text-align: right;\">\n",
              "      <th></th>\n",
              "      <th>id</th>\n",
              "      <th>display_name</th>\n",
              "      <th>creation_date</th>\n",
              "      <th>last_access_date</th>\n",
              "      <th>reputation</th>\n",
              "      <th>up_votes</th>\n",
              "      <th>down_votes</th>\n",
              "      <th>views</th>\n",
              "    </tr>\n",
              "  </thead>\n",
              "  <tbody>\n",
              "    <tr>\n",
              "      <th>0</th>\n",
              "      <td>26</td>\n",
              "      <td>Shawn</td>\n",
              "      <td>2008-08-01 12:18:14.52 UTC</td>\n",
              "      <td>2018-04-11 04:40:35.66 UTC</td>\n",
              "      <td>11820</td>\n",
              "      <td>565</td>\n",
              "      <td>67</td>\n",
              "      <td>3547</td>\n",
              "    </tr>\n",
              "    <tr>\n",
              "      <th>27</th>\n",
              "      <td>1109</td>\n",
              "      <td>Theo</td>\n",
              "      <td>2008-08-12 12:16:58.61 UTC</td>\n",
              "      <td>2019-08-31 11:39:52.28 UTC</td>\n",
              "      <td>116072</td>\n",
              "      <td>457</td>\n",
              "      <td>136</td>\n",
              "      <td>6905</td>\n",
              "    </tr>\n",
              "    <tr>\n",
              "      <th>85</th>\n",
              "      <td>364174</td>\n",
              "      <td>stats</td>\n",
              "      <td>2010-06-11 03:34:57.137 UTC</td>\n",
              "      <td>2019-08-29 18:37:35.027 UTC</td>\n",
              "      <td>325</td>\n",
              "      <td>25</td>\n",
              "      <td>1</td>\n",
              "      <td>60</td>\n",
              "    </tr>\n",
              "    <tr>\n",
              "      <th>87</th>\n",
              "      <td>61</td>\n",
              "      <td>Bernard</td>\n",
              "      <td>2008-08-01 14:21:00.573 UTC</td>\n",
              "      <td>2019-08-30 07:11:58.297 UTC</td>\n",
              "      <td>22779</td>\n",
              "      <td>1321</td>\n",
              "      <td>219</td>\n",
              "      <td>1731</td>\n",
              "    </tr>\n",
              "    <tr>\n",
              "      <th>97</th>\n",
              "      <td>20709</td>\n",
              "      <td>Black Horus</td>\n",
              "      <td>2008-09-22 20:03:39.71 UTC</td>\n",
              "      <td>2019-09-01 01:17:38.133 UTC</td>\n",
              "      <td>978</td>\n",
              "      <td>73</td>\n",
              "      <td>2</td>\n",
              "      <td>96</td>\n",
              "    </tr>\n",
              "    <tr>\n",
              "      <th>...</th>\n",
              "      <td>...</td>\n",
              "      <td>...</td>\n",
              "      <td>...</td>\n",
              "      <td>...</td>\n",
              "      <td>...</td>\n",
              "      <td>...</td>\n",
              "      <td>...</td>\n",
              "      <td>...</td>\n",
              "    </tr>\n",
              "    <tr>\n",
              "      <th>1990475</th>\n",
              "      <td>4228492</td>\n",
              "      <td>Michael Spranger</td>\n",
              "      <td>2014-11-07 20:21:14.283 UTC</td>\n",
              "      <td>2019-08-28 18:01:29.56 UTC</td>\n",
              "      <td>415</td>\n",
              "      <td>112</td>\n",
              "      <td>2</td>\n",
              "      <td>17</td>\n",
              "    </tr>\n",
              "    <tr>\n",
              "      <th>1990476</th>\n",
              "      <td>6820506</td>\n",
              "      <td>Manuela</td>\n",
              "      <td>2016-09-12 00:19:17.83 UTC</td>\n",
              "      <td>2018-07-20 01:28:24.853 UTC</td>\n",
              "      <td>21</td>\n",
              "      <td>38</td>\n",
              "      <td>0</td>\n",
              "      <td>50</td>\n",
              "    </tr>\n",
              "    <tr>\n",
              "      <th>1990477</th>\n",
              "      <td>4464432</td>\n",
              "      <td>YTorii</td>\n",
              "      <td>2015-01-17 10:48:17.523 UTC</td>\n",
              "      <td>2019-08-31 13:51:47.413 UTC</td>\n",
              "      <td>336</td>\n",
              "      <td>67</td>\n",
              "      <td>1</td>\n",
              "      <td>13</td>\n",
              "    </tr>\n",
              "    <tr>\n",
              "      <th>1990478</th>\n",
              "      <td>4605946</td>\n",
              "      <td>space_voyager</td>\n",
              "      <td>2015-02-25 13:43:24.63 UTC</td>\n",
              "      <td>2019-07-13 23:55:47.607 UTC</td>\n",
              "      <td>884</td>\n",
              "      <td>53</td>\n",
              "      <td>1</td>\n",
              "      <td>191</td>\n",
              "    </tr>\n",
              "    <tr>\n",
              "      <th>1990479</th>\n",
              "      <td>6107989</td>\n",
              "      <td>Nicky HFE</td>\n",
              "      <td>2016-03-24 06:25:14.09 UTC</td>\n",
              "      <td>2019-08-21 13:40:34.197 UTC</td>\n",
              "      <td>108</td>\n",
              "      <td>0</td>\n",
              "      <td>0</td>\n",
              "      <td>30</td>\n",
              "    </tr>\n",
              "  </tbody>\n",
              "</table>\n",
              "<p>465415 rows × 8 columns</p>\n",
              "</div>"
            ],
            "text/plain": [
              "              id      display_name  ... down_votes views\n",
              "0             26             Shawn  ...         67  3547\n",
              "27          1109              Theo  ...        136  6905\n",
              "85        364174             stats  ...          1    60\n",
              "87            61           Bernard  ...        219  1731\n",
              "97         20709       Black Horus  ...          2    96\n",
              "...          ...               ...  ...        ...   ...\n",
              "1990475  4228492  Michael Spranger  ...          2    17\n",
              "1990476  6820506           Manuela  ...          0    50\n",
              "1990477  4464432            YTorii  ...          1    13\n",
              "1990478  4605946     space_voyager  ...          1   191\n",
              "1990479  6107989         Nicky HFE  ...          0    30\n",
              "\n",
              "[465415 rows x 8 columns]"
            ]
          },
          "metadata": {
            "tags": []
          },
          "execution_count": 64
        }
      ]
    },
    {
      "cell_type": "code",
      "metadata": {
        "id": "KU27HE2f589V",
        "colab": {
          "base_uri": "https://localhost:8080/",
          "height": 0
        },
        "outputId": "0c73a4d8-ff77-4ff2-e4dc-66cd7ad07f52"
      },
      "source": [
        "ans.sample()"
      ],
      "execution_count": 65,
      "outputs": [
        {
          "output_type": "execute_result",
          "data": {
            "text/html": [
              "<div>\n",
              "<style scoped>\n",
              "    .dataframe tbody tr th:only-of-type {\n",
              "        vertical-align: middle;\n",
              "    }\n",
              "\n",
              "    .dataframe tbody tr th {\n",
              "        vertical-align: top;\n",
              "    }\n",
              "\n",
              "    .dataframe thead th {\n",
              "        text-align: right;\n",
              "    }\n",
              "</style>\n",
              "<table border=\"1\" class=\"dataframe\">\n",
              "  <thead>\n",
              "    <tr style=\"text-align: right;\">\n",
              "      <th></th>\n",
              "      <th>A_Id</th>\n",
              "      <th>A_OwnerUserId</th>\n",
              "      <th>A_CreationDate</th>\n",
              "      <th>Q_Id</th>\n",
              "      <th>A_Score</th>\n",
              "      <th>A_Body</th>\n",
              "    </tr>\n",
              "  </thead>\n",
              "  <tbody>\n",
              "    <tr>\n",
              "      <th>531587</th>\n",
              "      <td>9364799</td>\n",
              "      <td>452307</td>\n",
              "      <td>2012-02-20 16:40:10+00:00</td>\n",
              "      <td>9364720</td>\n",
              "      <td>7</td>\n",
              "      <td>&lt;p&gt;Your program violates the One Definition Ru...</td>\n",
              "    </tr>\n",
              "  </tbody>\n",
              "</table>\n",
              "</div>"
            ],
            "text/plain": [
              "           A_Id  ...                                             A_Body\n",
              "531587  9364799  ...  <p>Your program violates the One Definition Ru...\n",
              "\n",
              "[1 rows x 6 columns]"
            ]
          },
          "metadata": {
            "tags": []
          },
          "execution_count": 65
        }
      ]
    },
    {
      "cell_type": "code",
      "metadata": {
        "id": "4YmZZU2P589V",
        "colab": {
          "base_uri": "https://localhost:8080/",
          "height": 0
        },
        "outputId": "613df2b6-766f-4c62-fdae-effb993575d8"
      },
      "source": [
        "qns.sample()"
      ],
      "execution_count": 66,
      "outputs": [
        {
          "output_type": "execute_result",
          "data": {
            "text/html": [
              "<div>\n",
              "<style scoped>\n",
              "    .dataframe tbody tr th:only-of-type {\n",
              "        vertical-align: middle;\n",
              "    }\n",
              "\n",
              "    .dataframe tbody tr th {\n",
              "        vertical-align: top;\n",
              "    }\n",
              "\n",
              "    .dataframe thead th {\n",
              "        text-align: right;\n",
              "    }\n",
              "</style>\n",
              "<table border=\"1\" class=\"dataframe\">\n",
              "  <thead>\n",
              "    <tr style=\"text-align: right;\">\n",
              "      <th></th>\n",
              "      <th>Q_Id</th>\n",
              "      <th>Q_OwnerUserId</th>\n",
              "      <th>Q_CreationDate</th>\n",
              "      <th>Q_ClosedDate</th>\n",
              "      <th>Q_Score</th>\n",
              "      <th>Q_Title</th>\n",
              "      <th>Q_Body</th>\n",
              "    </tr>\n",
              "  </thead>\n",
              "  <tbody>\n",
              "    <tr>\n",
              "      <th>274341</th>\n",
              "      <td>10081070</td>\n",
              "      <td>1015190</td>\n",
              "      <td>2012-04-09 23:17:37+00:00</td>\n",
              "      <td>NaN</td>\n",
              "      <td>1</td>\n",
              "      <td>Group numbers by numerical order in ruby</td>\n",
              "      <td>&lt;p&gt;I need to group numbers that are in numeric...</td>\n",
              "    </tr>\n",
              "  </tbody>\n",
              "</table>\n",
              "</div>"
            ],
            "text/plain": [
              "            Q_Id  ...                                             Q_Body\n",
              "274341  10081070  ...  <p>I need to group numbers that are in numeric...\n",
              "\n",
              "[1 rows x 7 columns]"
            ]
          },
          "metadata": {
            "tags": []
          },
          "execution_count": 66
        }
      ]
    },
    {
      "cell_type": "code",
      "metadata": {
        "id": "jGk5oJdP589V",
        "colab": {
          "base_uri": "https://localhost:8080/",
          "height": 0
        },
        "outputId": "d268cfb7-4114-4234-a26a-0fa905c77c1a"
      },
      "source": [
        "tags.sample()"
      ],
      "execution_count": 67,
      "outputs": [
        {
          "output_type": "execute_result",
          "data": {
            "text/html": [
              "<div>\n",
              "<style scoped>\n",
              "    .dataframe tbody tr th:only-of-type {\n",
              "        vertical-align: middle;\n",
              "    }\n",
              "\n",
              "    .dataframe tbody tr th {\n",
              "        vertical-align: top;\n",
              "    }\n",
              "\n",
              "    .dataframe thead th {\n",
              "        text-align: right;\n",
              "    }\n",
              "</style>\n",
              "<table border=\"1\" class=\"dataframe\">\n",
              "  <thead>\n",
              "    <tr style=\"text-align: right;\">\n",
              "      <th></th>\n",
              "      <th>Q_Id</th>\n",
              "      <th>Tag</th>\n",
              "    </tr>\n",
              "  </thead>\n",
              "  <tbody>\n",
              "    <tr>\n",
              "      <th>806220</th>\n",
              "      <td>27188200</td>\n",
              "      <td>php, zend-framework2,    view-hel...</td>\n",
              "    </tr>\n",
              "  </tbody>\n",
              "</table>\n",
              "</div>"
            ],
            "text/plain": [
              "            Q_Id                                                Tag\n",
              "806220  27188200               php, zend-framework2,    view-hel..."
            ]
          },
          "metadata": {
            "tags": []
          },
          "execution_count": 67
        }
      ]
    },
    {
      "cell_type": "code",
      "metadata": {
        "id": "0vim4HNN589V",
        "colab": {
          "base_uri": "https://localhost:8080/",
          "height": 0
        },
        "outputId": "1d71b123-7a14-4069-a9f7-6894175278a3"
      },
      "source": [
        "users.sample()"
      ],
      "execution_count": 68,
      "outputs": [
        {
          "output_type": "execute_result",
          "data": {
            "text/html": [
              "<div>\n",
              "<style scoped>\n",
              "    .dataframe tbody tr th:only-of-type {\n",
              "        vertical-align: middle;\n",
              "    }\n",
              "\n",
              "    .dataframe tbody tr th {\n",
              "        vertical-align: top;\n",
              "    }\n",
              "\n",
              "    .dataframe thead th {\n",
              "        text-align: right;\n",
              "    }\n",
              "</style>\n",
              "<table border=\"1\" class=\"dataframe\">\n",
              "  <thead>\n",
              "    <tr style=\"text-align: right;\">\n",
              "      <th></th>\n",
              "      <th>id</th>\n",
              "      <th>display_name</th>\n",
              "      <th>creation_date</th>\n",
              "      <th>last_access_date</th>\n",
              "      <th>reputation</th>\n",
              "      <th>up_votes</th>\n",
              "      <th>down_votes</th>\n",
              "      <th>views</th>\n",
              "    </tr>\n",
              "  </thead>\n",
              "  <tbody>\n",
              "    <tr>\n",
              "      <th>128744</th>\n",
              "      <td>805659</td>\n",
              "      <td>japreiss</td>\n",
              "      <td>2011-06-19 19:27:33.137 UTC</td>\n",
              "      <td>2019-08-29 08:26:42.887 UTC</td>\n",
              "      <td>8163</td>\n",
              "      <td>372</td>\n",
              "      <td>23</td>\n",
              "      <td>497</td>\n",
              "    </tr>\n",
              "  </tbody>\n",
              "</table>\n",
              "</div>"
            ],
            "text/plain": [
              "            id display_name  ... down_votes views\n",
              "128744  805659     japreiss  ...         23   497\n",
              "\n",
              "[1 rows x 8 columns]"
            ]
          },
          "metadata": {
            "tags": []
          },
          "execution_count": 68
        }
      ]
    },
    {
      "cell_type": "markdown",
      "metadata": {
        "id": "cdMlRz4hBYBh"
      },
      "source": [
        "## Merging Questions, Answers and Tags to get a consolidated DataFrame"
      ]
    },
    {
      "cell_type": "code",
      "metadata": {
        "id": "f2EJ5Pjn589W"
      },
      "source": [
        "qna = pd.merge(qns,ans,how='inner', on='Q_Id')"
      ],
      "execution_count": 69,
      "outputs": []
    },
    {
      "cell_type": "code",
      "metadata": {
        "id": "hE1Xn7Ym589W"
      },
      "source": [
        "final_df = pd.merge(qna,tags,how='inner', on='Q_Id')"
      ],
      "execution_count": 70,
      "outputs": []
    },
    {
      "cell_type": "code",
      "metadata": {
        "id": "1ys_mYLk589W",
        "colab": {
          "base_uri": "https://localhost:8080/",
          "height": 0
        },
        "outputId": "7c06aaf6-0854-4032-d6cc-5c3b678c776f"
      },
      "source": [
        "final_df.sample()"
      ],
      "execution_count": 71,
      "outputs": [
        {
          "output_type": "execute_result",
          "data": {
            "text/html": [
              "<div>\n",
              "<style scoped>\n",
              "    .dataframe tbody tr th:only-of-type {\n",
              "        vertical-align: middle;\n",
              "    }\n",
              "\n",
              "    .dataframe tbody tr th {\n",
              "        vertical-align: top;\n",
              "    }\n",
              "\n",
              "    .dataframe thead th {\n",
              "        text-align: right;\n",
              "    }\n",
              "</style>\n",
              "<table border=\"1\" class=\"dataframe\">\n",
              "  <thead>\n",
              "    <tr style=\"text-align: right;\">\n",
              "      <th></th>\n",
              "      <th>Q_Id</th>\n",
              "      <th>Q_OwnerUserId</th>\n",
              "      <th>Q_CreationDate</th>\n",
              "      <th>Q_ClosedDate</th>\n",
              "      <th>Q_Score</th>\n",
              "      <th>Q_Title</th>\n",
              "      <th>Q_Body</th>\n",
              "      <th>A_Id</th>\n",
              "      <th>A_OwnerUserId</th>\n",
              "      <th>A_CreationDate</th>\n",
              "      <th>A_Score</th>\n",
              "      <th>A_Body</th>\n",
              "      <th>Tag</th>\n",
              "    </tr>\n",
              "  </thead>\n",
              "  <tbody>\n",
              "    <tr>\n",
              "      <th>1020526</th>\n",
              "      <td>18032710</td>\n",
              "      <td>2643635</td>\n",
              "      <td>2013-08-03 12:09:07+00:00</td>\n",
              "      <td>NaN</td>\n",
              "      <td>0</td>\n",
              "      <td>Make two &lt;div&gt;s overlap?</td>\n",
              "      <td>&lt;p&gt;I'm having a problem getting my container t...</td>\n",
              "      <td>18033135</td>\n",
              "      <td>550927</td>\n",
              "      <td>2013-08-03 13:00:54+00:00</td>\n",
              "      <td>0</td>\n",
              "      <td>&lt;p&gt;I think you want to create menu like this &lt;...</td>\n",
              "      <td>css, html</td>\n",
              "    </tr>\n",
              "  </tbody>\n",
              "</table>\n",
              "</div>"
            ],
            "text/plain": [
              "             Q_Id  ...          Tag\n",
              "1020526  18032710  ...    css, html\n",
              "\n",
              "[1 rows x 13 columns]"
            ]
          },
          "metadata": {
            "tags": []
          },
          "execution_count": 71
        }
      ]
    },
    {
      "cell_type": "code",
      "metadata": {
        "id": "cWJGbTNe589W",
        "colab": {
          "base_uri": "https://localhost:8080/",
          "height": 0
        },
        "outputId": "18581a75-8c24-40c5-98bc-5d90963787a0"
      },
      "source": [
        "users.sample()"
      ],
      "execution_count": 72,
      "outputs": [
        {
          "output_type": "execute_result",
          "data": {
            "text/html": [
              "<div>\n",
              "<style scoped>\n",
              "    .dataframe tbody tr th:only-of-type {\n",
              "        vertical-align: middle;\n",
              "    }\n",
              "\n",
              "    .dataframe tbody tr th {\n",
              "        vertical-align: top;\n",
              "    }\n",
              "\n",
              "    .dataframe thead th {\n",
              "        text-align: right;\n",
              "    }\n",
              "</style>\n",
              "<table border=\"1\" class=\"dataframe\">\n",
              "  <thead>\n",
              "    <tr style=\"text-align: right;\">\n",
              "      <th></th>\n",
              "      <th>id</th>\n",
              "      <th>display_name</th>\n",
              "      <th>creation_date</th>\n",
              "      <th>last_access_date</th>\n",
              "      <th>reputation</th>\n",
              "      <th>up_votes</th>\n",
              "      <th>down_votes</th>\n",
              "      <th>views</th>\n",
              "    </tr>\n",
              "  </thead>\n",
              "  <tbody>\n",
              "    <tr>\n",
              "      <th>726390</th>\n",
              "      <td>98313</td>\n",
              "      <td>LukeN</td>\n",
              "      <td>2009-04-30 07:09:06.033 UTC</td>\n",
              "      <td>2019-07-25 04:39:38.507 UTC</td>\n",
              "      <td>1239</td>\n",
              "      <td>171</td>\n",
              "      <td>7</td>\n",
              "      <td>119</td>\n",
              "    </tr>\n",
              "  </tbody>\n",
              "</table>\n",
              "</div>"
            ],
            "text/plain": [
              "           id display_name  ... down_votes views\n",
              "726390  98313        LukeN  ...          7   119\n",
              "\n",
              "[1 rows x 8 columns]"
            ]
          },
          "metadata": {
            "tags": []
          },
          "execution_count": 72
        }
      ]
    },
    {
      "cell_type": "code",
      "metadata": {
        "id": "OfUs4Fyb589W"
      },
      "source": [
        "tags1 = tags.head(5000)"
      ],
      "execution_count": 73,
      "outputs": []
    },
    {
      "cell_type": "markdown",
      "metadata": {
        "id": "m6O-S9elBvrb"
      },
      "source": [
        "## Filtering the DataFrame to select only DataScience Tagges Queries/Answers"
      ]
    },
    {
      "cell_type": "markdown",
      "metadata": {
        "id": "3P-uIiInB9t-"
      },
      "source": [
        "ds_tags = Data Science Tags provided in the Assignment Objectives"
      ]
    },
    {
      "cell_type": "code",
      "metadata": {
        "id": "GYpHVj2_589W"
      },
      "source": [
        "ds_tags=['python', 'r', 'matlab', 'sas', 'excel', 'sql']"
      ],
      "execution_count": 74,
      "outputs": []
    },
    {
      "cell_type": "code",
      "metadata": {
        "id": "2XlgKNto589X"
      },
      "source": [
        "final_df = final_df[final_df.Tag.astype(str).str.contains(pat=\"python|matlab|sas|excel|sql|r,\")]"
      ],
      "execution_count": 75,
      "outputs": []
    },
    {
      "cell_type": "code",
      "metadata": {
        "id": "zekKoplR589X"
      },
      "source": [
        "final_df = final_df.reset_index(drop=True)"
      ],
      "execution_count": 76,
      "outputs": []
    },
    {
      "cell_type": "code",
      "metadata": {
        "id": "v6D49CTN589X",
        "colab": {
          "base_uri": "https://localhost:8080/",
          "height": 0
        },
        "outputId": "b96da56c-3d4f-4a71-c8ae-4e999539490a"
      },
      "source": [
        "final_df.sample()"
      ],
      "execution_count": 77,
      "outputs": [
        {
          "output_type": "execute_result",
          "data": {
            "text/html": [
              "<div>\n",
              "<style scoped>\n",
              "    .dataframe tbody tr th:only-of-type {\n",
              "        vertical-align: middle;\n",
              "    }\n",
              "\n",
              "    .dataframe tbody tr th {\n",
              "        vertical-align: top;\n",
              "    }\n",
              "\n",
              "    .dataframe thead th {\n",
              "        text-align: right;\n",
              "    }\n",
              "</style>\n",
              "<table border=\"1\" class=\"dataframe\">\n",
              "  <thead>\n",
              "    <tr style=\"text-align: right;\">\n",
              "      <th></th>\n",
              "      <th>Q_Id</th>\n",
              "      <th>Q_OwnerUserId</th>\n",
              "      <th>Q_CreationDate</th>\n",
              "      <th>Q_ClosedDate</th>\n",
              "      <th>Q_Score</th>\n",
              "      <th>Q_Title</th>\n",
              "      <th>Q_Body</th>\n",
              "      <th>A_Id</th>\n",
              "      <th>A_OwnerUserId</th>\n",
              "      <th>A_CreationDate</th>\n",
              "      <th>A_Score</th>\n",
              "      <th>A_Body</th>\n",
              "      <th>Tag</th>\n",
              "    </tr>\n",
              "  </thead>\n",
              "  <tbody>\n",
              "    <tr>\n",
              "      <th>181474</th>\n",
              "      <td>17905350</td>\n",
              "      <td>2626968</td>\n",
              "      <td>2013-07-28 05:38:04+00:00</td>\n",
              "      <td>NaN</td>\n",
              "      <td>51</td>\n",
              "      <td>Running an ipython notebook non-interactively</td>\n",
              "      <td>&lt;p&gt;Does anyone know if it is possible to run a...</td>\n",
              "      <td>17913858</td>\n",
              "      <td>137794</td>\n",
              "      <td>2013-07-28 23:04:51+00:00</td>\n",
              "      <td>47</td>\n",
              "      <td>&lt;p&gt;Yes it is possible, and easy, it will (most...</td>\n",
              "      <td>ipython, ipython-notebook</td>\n",
              "    </tr>\n",
              "  </tbody>\n",
              "</table>\n",
              "</div>"
            ],
            "text/plain": [
              "            Q_Id  ...                                  Tag\n",
              "181474  17905350  ...            ipython, ipython-notebook\n",
              "\n",
              "[1 rows x 13 columns]"
            ]
          },
          "metadata": {
            "tags": []
          },
          "execution_count": 77
        }
      ]
    },
    {
      "cell_type": "code",
      "metadata": {
        "id": "OShYS0Xl589X",
        "colab": {
          "base_uri": "https://localhost:8080/",
          "height": 0
        },
        "outputId": "b54dc847-6626-4479-b47d-d6767c3019f8"
      },
      "source": [
        "users.sample()"
      ],
      "execution_count": 78,
      "outputs": [
        {
          "output_type": "execute_result",
          "data": {
            "text/html": [
              "<div>\n",
              "<style scoped>\n",
              "    .dataframe tbody tr th:only-of-type {\n",
              "        vertical-align: middle;\n",
              "    }\n",
              "\n",
              "    .dataframe tbody tr th {\n",
              "        vertical-align: top;\n",
              "    }\n",
              "\n",
              "    .dataframe thead th {\n",
              "        text-align: right;\n",
              "    }\n",
              "</style>\n",
              "<table border=\"1\" class=\"dataframe\">\n",
              "  <thead>\n",
              "    <tr style=\"text-align: right;\">\n",
              "      <th></th>\n",
              "      <th>id</th>\n",
              "      <th>display_name</th>\n",
              "      <th>creation_date</th>\n",
              "      <th>last_access_date</th>\n",
              "      <th>reputation</th>\n",
              "      <th>up_votes</th>\n",
              "      <th>down_votes</th>\n",
              "      <th>views</th>\n",
              "    </tr>\n",
              "  </thead>\n",
              "  <tbody>\n",
              "    <tr>\n",
              "      <th>1905673</th>\n",
              "      <td>5757288</td>\n",
              "      <td>Ihor Vahanov</td>\n",
              "      <td>2016-01-07 11:45:11.97 UTC</td>\n",
              "      <td>2016-01-08 11:57:14.97 UTC</td>\n",
              "      <td>1</td>\n",
              "      <td>0</td>\n",
              "      <td>0</td>\n",
              "      <td>0</td>\n",
              "    </tr>\n",
              "  </tbody>\n",
              "</table>\n",
              "</div>"
            ],
            "text/plain": [
              "              id  display_name  ... down_votes views\n",
              "1905673  5757288  Ihor Vahanov  ...          0     0\n",
              "\n",
              "[1 rows x 8 columns]"
            ]
          },
          "metadata": {
            "tags": []
          },
          "execution_count": 78
        }
      ]
    },
    {
      "cell_type": "markdown",
      "metadata": {
        "id": "BXOYdeSOCIue"
      },
      "source": [
        "## Droping off unnessary columns"
      ]
    },
    {
      "cell_type": "code",
      "metadata": {
        "id": "uYNmqP4n589X"
      },
      "source": [
        "Cleaned_up_df = final_df[['Q_Id','Q_CreationDate','A_CreationDate','A_Id', 'A_OwnerUserId','A_Score','Tag']]"
      ],
      "execution_count": 79,
      "outputs": []
    },
    {
      "cell_type": "code",
      "metadata": {
        "id": "CGvuUTnL589X",
        "colab": {
          "base_uri": "https://localhost:8080/",
          "height": 0
        },
        "outputId": "8e631967-eb00-40ac-93e5-15692f126343"
      },
      "source": [
        "Cleaned_up_df"
      ],
      "execution_count": 80,
      "outputs": [
        {
          "output_type": "execute_result",
          "data": {
            "text/html": [
              "<div>\n",
              "<style scoped>\n",
              "    .dataframe tbody tr th:only-of-type {\n",
              "        vertical-align: middle;\n",
              "    }\n",
              "\n",
              "    .dataframe tbody tr th {\n",
              "        vertical-align: top;\n",
              "    }\n",
              "\n",
              "    .dataframe thead th {\n",
              "        text-align: right;\n",
              "    }\n",
              "</style>\n",
              "<table border=\"1\" class=\"dataframe\">\n",
              "  <thead>\n",
              "    <tr style=\"text-align: right;\">\n",
              "      <th></th>\n",
              "      <th>Q_Id</th>\n",
              "      <th>Q_CreationDate</th>\n",
              "      <th>A_CreationDate</th>\n",
              "      <th>A_Id</th>\n",
              "      <th>A_OwnerUserId</th>\n",
              "      <th>A_Score</th>\n",
              "      <th>Tag</th>\n",
              "    </tr>\n",
              "  </thead>\n",
              "  <tbody>\n",
              "    <tr>\n",
              "      <th>0</th>\n",
              "      <td>120</td>\n",
              "      <td>2008-08-01 15:50:08+00:00</td>\n",
              "      <td>2008-09-23 22:41:11+00:00</td>\n",
              "      <td>124363</td>\n",
              "      <td>12734</td>\n",
              "      <td>9</td>\n",
              "      <td>sql, asp.net, sitemap</td>\n",
              "    </tr>\n",
              "    <tr>\n",
              "      <th>1</th>\n",
              "      <td>580</td>\n",
              "      <td>2008-08-02 23:30:59+00:00</td>\n",
              "      <td>2008-08-02 23:40:04+00:00</td>\n",
              "      <td>585</td>\n",
              "      <td>149</td>\n",
              "      <td>13</td>\n",
              "      <td>sql-server,    sql-server-2005,      ...</td>\n",
              "    </tr>\n",
              "    <tr>\n",
              "      <th>2</th>\n",
              "      <td>580</td>\n",
              "      <td>2008-08-02 23:30:59+00:00</td>\n",
              "      <td>2008-08-02 23:51:09+00:00</td>\n",
              "      <td>586</td>\n",
              "      <td>34</td>\n",
              "      <td>17</td>\n",
              "      <td>sql-server,    sql-server-2005,      ...</td>\n",
              "    </tr>\n",
              "    <tr>\n",
              "      <th>3</th>\n",
              "      <td>580</td>\n",
              "      <td>2008-08-02 23:30:59+00:00</td>\n",
              "      <td>2008-08-03 00:22:03+00:00</td>\n",
              "      <td>590</td>\n",
              "      <td>116</td>\n",
              "      <td>2</td>\n",
              "      <td>sql-server,    sql-server-2005,      ...</td>\n",
              "    </tr>\n",
              "    <tr>\n",
              "      <th>4</th>\n",
              "      <td>580</td>\n",
              "      <td>2008-08-02 23:30:59+00:00</td>\n",
              "      <td>2008-08-03 00:37:03+00:00</td>\n",
              "      <td>591</td>\n",
              "      <td>111</td>\n",
              "      <td>3</td>\n",
              "      <td>sql-server,    sql-server-2005,      ...</td>\n",
              "    </tr>\n",
              "    <tr>\n",
              "      <th>...</th>\n",
              "      <td>...</td>\n",
              "      <td>...</td>\n",
              "      <td>...</td>\n",
              "      <td>...</td>\n",
              "      <td>...</td>\n",
              "      <td>...</td>\n",
              "      <td>...</td>\n",
              "    </tr>\n",
              "    <tr>\n",
              "      <th>388241</th>\n",
              "      <td>40142380</td>\n",
              "      <td>2016-10-19 22:13:40+00:00</td>\n",
              "      <td>2016-10-19 23:15:05+00:00</td>\n",
              "      <td>40142998</td>\n",
              "      <td>6942565</td>\n",
              "      <td>0</td>\n",
              "      <td>python,   unix,  split</td>\n",
              "    </tr>\n",
              "    <tr>\n",
              "      <th>388242</th>\n",
              "      <td>40142550</td>\n",
              "      <td>2016-10-19 22:28:58+00:00</td>\n",
              "      <td>2016-10-19 22:38:05+00:00</td>\n",
              "      <td>40142640</td>\n",
              "      <td>4104224</td>\n",
              "      <td>1</td>\n",
              "      <td>mysql,       sql, left-join</td>\n",
              "    </tr>\n",
              "    <tr>\n",
              "      <th>388243</th>\n",
              "      <td>40142860</td>\n",
              "      <td>2016-10-19 23:01:07+00:00</td>\n",
              "      <td>2016-10-19 23:14:50+00:00</td>\n",
              "      <td>40142994</td>\n",
              "      <td>1951885</td>\n",
              "      <td>0</td>\n",
              "      <td>excel, excel-formula</td>\n",
              "    </tr>\n",
              "    <tr>\n",
              "      <th>388244</th>\n",
              "      <td>40143190</td>\n",
              "      <td>2016-10-19 23:36:01+00:00</td>\n",
              "      <td>2016-10-19 23:38:17+00:00</td>\n",
              "      <td>40143212</td>\n",
              "      <td>1491895</td>\n",
              "      <td>5</td>\n",
              "      <td>python,      bash, multiline</td>\n",
              "    </tr>\n",
              "    <tr>\n",
              "      <th>388245</th>\n",
              "      <td>40143190</td>\n",
              "      <td>2016-10-19 23:36:01+00:00</td>\n",
              "      <td>2016-10-19 23:42:35+00:00</td>\n",
              "      <td>40143247</td>\n",
              "      <td>333403</td>\n",
              "      <td>0</td>\n",
              "      <td>python,      bash, multiline</td>\n",
              "    </tr>\n",
              "  </tbody>\n",
              "</table>\n",
              "<p>388246 rows × 7 columns</p>\n",
              "</div>"
            ],
            "text/plain": [
              "            Q_Id  ...                                                Tag\n",
              "0            120  ...                              sql, asp.net, sitemap\n",
              "1            580  ...           sql-server,    sql-server-2005,      ...\n",
              "2            580  ...           sql-server,    sql-server-2005,      ...\n",
              "3            580  ...           sql-server,    sql-server-2005,      ...\n",
              "4            580  ...           sql-server,    sql-server-2005,      ...\n",
              "...          ...  ...                                                ...\n",
              "388241  40142380  ...                             python,   unix,  split\n",
              "388242  40142550  ...                        mysql,       sql, left-join\n",
              "388243  40142860  ...                               excel, excel-formula\n",
              "388244  40143190  ...                       python,      bash, multiline\n",
              "388245  40143190  ...                       python,      bash, multiline\n",
              "\n",
              "[388246 rows x 7 columns]"
            ]
          },
          "metadata": {
            "tags": []
          },
          "execution_count": 80
        }
      ]
    },
    {
      "cell_type": "markdown",
      "metadata": {
        "id": "ZEldHSFd589Y"
      },
      "source": [
        "## Draw Maps for each of the Data Science Tag"
      ]
    },
    {
      "cell_type": "code",
      "metadata": {
        "colab": {
          "base_uri": "https://localhost:8080/"
        },
        "id": "DO6KDkOv8s58",
        "outputId": "59d5603e-8e28-493c-d60b-ed8bc855c1b0"
      },
      "source": [
        "map_dict={}\n",
        "for tag in ds_tags:\n",
        "  print(f\"Processing {tag}\")\n",
        "  map_dict[tag] = Cleaned_up_df[Cleaned_up_df.Tag.astype(str).str.contains(pat=tag)]['A_OwnerUserId'].value_counts()[:10].sort_values()"
      ],
      "execution_count": 81,
      "outputs": [
        {
          "output_type": "stream",
          "text": [
            "Processing python\n",
            "Processing r\n",
            "Processing matlab\n",
            "Processing sas\n",
            "Processing excel\n",
            "Processing sql\n"
          ],
          "name": "stdout"
        }
      ]
    },
    {
      "cell_type": "code",
      "metadata": {
        "colab": {
          "base_uri": "https://localhost:8080/",
          "height": 0
        },
        "id": "e0px5d_hwou1",
        "outputId": "96d0c773-9157-421e-a25b-b215cd500bc4"
      },
      "source": [
        "for tag in ds_tags:\n",
        "  useridlist = [str(int) for int in map_dict[tag].index]\n",
        "  plt.barh(useridlist, list(map_dict['python']), align='center', alpha=0.5)\n",
        "  plt.ylabel(\"User ID\") \n",
        "  plt.xlabel(\"Number of Answers\") \n",
        "  plt.title('Top Ten Users - '+tag)\n",
        "  plt.show()"
      ],
      "execution_count": 82,
      "outputs": [
        {
          "output_type": "display_data",
          "data": {
            "image/png": "[encoded data removed]",
            "text/plain": [
              "<Figure size 432x288 with 1 Axes>"
            ]
          },
          "metadata": {
            "tags": [],
            "needs_background": "light"
          }
        },
        {
          "output_type": "display_data",
          "data": {
            "image/png": "[encoded data removed]",
            "text/plain": [
              "<Figure size 432x288 with 1 Axes>"
            ]
          },
          "metadata": {
            "tags": [],
            "needs_background": "light"
          }
        },
        {
          "output_type": "display_data",
          "data": {
            "image/png": "[encoded data removed]",
            "text/plain": [
              "<Figure size 432x288 with 1 Axes>"
            ]
          },
          "metadata": {
            "tags": [],
            "needs_background": "light"
          }
        },
        {
          "output_type": "display_data",
          "data": {
            "image/png": "[encoded data removed]",
            "text/plain": [
              "<Figure size 432x288 with 1 Axes>"
            ]
          },
          "metadata": {
            "tags": [],
            "needs_background": "light"
          }
        },
        {
          "output_type": "display_data",
          "data": {
            "image/png": "[encoded data removed]",
            "text/plain": [
              "<Figure size 432x288 with 1 Axes>"
            ]
          },
          "metadata": {
            "tags": [],
            "needs_background": "light"
          }
        },
        {
          "output_type": "display_data",
          "data": {
            "image/png": "[encoded data removed]",
            "text/plain": [
              "<Figure size 432x288 with 1 Axes>"
            ]
          },
          "metadata": {
            "tags": [],
            "needs_background": "light"
          }
        }
      ]
    },
    {
      "cell_type": "code",
      "metadata": {
        "id": "t-9k0B_21Iha"
      },
      "source": [
        "Cleaned_up_df['Response_time'] = Cleaned_up_df['A_CreationDate'] - Cleaned_up_df['Q_CreationDate']"
      ],
      "execution_count": 83,
      "outputs": []
    },
    {
      "cell_type": "code",
      "metadata": {
        "colab": {
          "base_uri": "https://localhost:8080/",
          "height": 0
        },
        "id": "8zPMuk6W6Gm1",
        "outputId": "0e95c94b-f380-4a17-a4b7-6c97075e070f"
      },
      "source": [
        "Cleaned_up_df"
      ],
      "execution_count": 84,
      "outputs": [
        {
          "output_type": "execute_result",
          "data": {
            "text/html": [
              "<div>\n",
              "<style scoped>\n",
              "    .dataframe tbody tr th:only-of-type {\n",
              "        vertical-align: middle;\n",
              "    }\n",
              "\n",
              "    .dataframe tbody tr th {\n",
              "        vertical-align: top;\n",
              "    }\n",
              "\n",
              "    .dataframe thead th {\n",
              "        text-align: right;\n",
              "    }\n",
              "</style>\n",
              "<table border=\"1\" class=\"dataframe\">\n",
              "  <thead>\n",
              "    <tr style=\"text-align: right;\">\n",
              "      <th></th>\n",
              "      <th>Q_Id</th>\n",
              "      <th>Q_CreationDate</th>\n",
              "      <th>A_CreationDate</th>\n",
              "      <th>A_Id</th>\n",
              "      <th>A_OwnerUserId</th>\n",
              "      <th>A_Score</th>\n",
              "      <th>Tag</th>\n",
              "      <th>Response_time</th>\n",
              "    </tr>\n",
              "  </thead>\n",
              "  <tbody>\n",
              "    <tr>\n",
              "      <th>0</th>\n",
              "      <td>120</td>\n",
              "      <td>2008-08-01 15:50:08+00:00</td>\n",
              "      <td>2008-09-23 22:41:11+00:00</td>\n",
              "      <td>124363</td>\n",
              "      <td>12734</td>\n",
              "      <td>9</td>\n",
              "      <td>sql, asp.net, sitemap</td>\n",
              "      <td>53 days 06:51:03</td>\n",
              "    </tr>\n",
              "    <tr>\n",
              "      <th>1</th>\n",
              "      <td>580</td>\n",
              "      <td>2008-08-02 23:30:59+00:00</td>\n",
              "      <td>2008-08-02 23:40:04+00:00</td>\n",
              "      <td>585</td>\n",
              "      <td>149</td>\n",
              "      <td>13</td>\n",
              "      <td>sql-server,    sql-server-2005,      ...</td>\n",
              "      <td>0 days 00:09:05</td>\n",
              "    </tr>\n",
              "    <tr>\n",
              "      <th>2</th>\n",
              "      <td>580</td>\n",
              "      <td>2008-08-02 23:30:59+00:00</td>\n",
              "      <td>2008-08-02 23:51:09+00:00</td>\n",
              "      <td>586</td>\n",
              "      <td>34</td>\n",
              "      <td>17</td>\n",
              "      <td>sql-server,    sql-server-2005,      ...</td>\n",
              "      <td>0 days 00:20:10</td>\n",
              "    </tr>\n",
              "    <tr>\n",
              "      <th>3</th>\n",
              "      <td>580</td>\n",
              "      <td>2008-08-02 23:30:59+00:00</td>\n",
              "      <td>2008-08-03 00:22:03+00:00</td>\n",
              "      <td>590</td>\n",
              "      <td>116</td>\n",
              "      <td>2</td>\n",
              "      <td>sql-server,    sql-server-2005,      ...</td>\n",
              "      <td>0 days 00:51:04</td>\n",
              "    </tr>\n",
              "    <tr>\n",
              "      <th>4</th>\n",
              "      <td>580</td>\n",
              "      <td>2008-08-02 23:30:59+00:00</td>\n",
              "      <td>2008-08-03 00:37:03+00:00</td>\n",
              "      <td>591</td>\n",
              "      <td>111</td>\n",
              "      <td>3</td>\n",
              "      <td>sql-server,    sql-server-2005,      ...</td>\n",
              "      <td>0 days 01:06:04</td>\n",
              "    </tr>\n",
              "    <tr>\n",
              "      <th>...</th>\n",
              "      <td>...</td>\n",
              "      <td>...</td>\n",
              "      <td>...</td>\n",
              "      <td>...</td>\n",
              "      <td>...</td>\n",
              "      <td>...</td>\n",
              "      <td>...</td>\n",
              "      <td>...</td>\n",
              "    </tr>\n",
              "    <tr>\n",
              "      <th>388241</th>\n",
              "      <td>40142380</td>\n",
              "      <td>2016-10-19 22:13:40+00:00</td>\n",
              "      <td>2016-10-19 23:15:05+00:00</td>\n",
              "      <td>40142998</td>\n",
              "      <td>6942565</td>\n",
              "      <td>0</td>\n",
              "      <td>python,   unix,  split</td>\n",
              "      <td>0 days 01:01:25</td>\n",
              "    </tr>\n",
              "    <tr>\n",
              "      <th>388242</th>\n",
              "      <td>40142550</td>\n",
              "      <td>2016-10-19 22:28:58+00:00</td>\n",
              "      <td>2016-10-19 22:38:05+00:00</td>\n",
              "      <td>40142640</td>\n",
              "      <td>4104224</td>\n",
              "      <td>1</td>\n",
              "      <td>mysql,       sql, left-join</td>\n",
              "      <td>0 days 00:09:07</td>\n",
              "    </tr>\n",
              "    <tr>\n",
              "      <th>388243</th>\n",
              "      <td>40142860</td>\n",
              "      <td>2016-10-19 23:01:07+00:00</td>\n",
              "      <td>2016-10-19 23:14:50+00:00</td>\n",
              "      <td>40142994</td>\n",
              "      <td>1951885</td>\n",
              "      <td>0</td>\n",
              "      <td>excel, excel-formula</td>\n",
              "      <td>0 days 00:13:43</td>\n",
              "    </tr>\n",
              "    <tr>\n",
              "      <th>388244</th>\n",
              "      <td>40143190</td>\n",
              "      <td>2016-10-19 23:36:01+00:00</td>\n",
              "      <td>2016-10-19 23:38:17+00:00</td>\n",
              "      <td>40143212</td>\n",
              "      <td>1491895</td>\n",
              "      <td>5</td>\n",
              "      <td>python,      bash, multiline</td>\n",
              "      <td>0 days 00:02:16</td>\n",
              "    </tr>\n",
              "    <tr>\n",
              "      <th>388245</th>\n",
              "      <td>40143190</td>\n",
              "      <td>2016-10-19 23:36:01+00:00</td>\n",
              "      <td>2016-10-19 23:42:35+00:00</td>\n",
              "      <td>40143247</td>\n",
              "      <td>333403</td>\n",
              "      <td>0</td>\n",
              "      <td>python,      bash, multiline</td>\n",
              "      <td>0 days 00:06:34</td>\n",
              "    </tr>\n",
              "  </tbody>\n",
              "</table>\n",
              "<p>388246 rows × 8 columns</p>\n",
              "</div>"
            ],
            "text/plain": [
              "            Q_Id  ...    Response_time\n",
              "0            120  ... 53 days 06:51:03\n",
              "1            580  ...  0 days 00:09:05\n",
              "2            580  ...  0 days 00:20:10\n",
              "3            580  ...  0 days 00:51:04\n",
              "4            580  ...  0 days 01:06:04\n",
              "...          ...  ...              ...\n",
              "388241  40142380  ...  0 days 01:01:25\n",
              "388242  40142550  ...  0 days 00:09:07\n",
              "388243  40142860  ...  0 days 00:13:43\n",
              "388244  40143190  ...  0 days 00:02:16\n",
              "388245  40143190  ...  0 days 00:06:34\n",
              "\n",
              "[388246 rows x 8 columns]"
            ]
          },
          "metadata": {
            "tags": []
          },
          "execution_count": 84
        }
      ]
    },
    {
      "cell_type": "markdown",
      "metadata": {
        "id": "domlA4o6NX_4"
      },
      "source": [
        "## Find ID of Top 5 users who have answered most questions "
      ]
    },
    {
      "cell_type": "markdown",
      "metadata": {
        "id": "IDtaiRdzNqJ5"
      },
      "source": [
        "## Find 50perentile and 75perentile Response time for each of Data Science Tag"
      ]
    },
    {
      "cell_type": "code",
      "metadata": {
        "colab": {
          "base_uri": "https://localhost:8080/"
        },
        "id": "PGKyOlYD6nvN",
        "outputId": "3e937769-0351-442f-8e95-0d0de617f980"
      },
      "source": [
        "top5_dict={}\n",
        "for tag in ds_tags:\n",
        "  print(f\"Processing {tag}\")\n",
        "  top5_dict[tag] = {}\n",
        "  userid_list =  Cleaned_up_df[Cleaned_up_df.Tag.astype(str).str.contains(pat=tag)]['A_OwnerUserId'].value_counts()[:5]\n",
        "  useridlist_str = [str(int) for int in userid_list.index]\n",
        "  top5_dict[tag]['useridlst'] = ','.join(useridlist_str)\n",
        "  top5_dict[tag]['resp-50'] = Cleaned_up_df[Cleaned_up_df.Tag.astype(str).str.contains(pat=tag)].groupby(['Q_Id']).min()['Response_time'].describe()[5]\n",
        "  top5_dict[tag]['resp-75'] = Cleaned_up_df[Cleaned_up_df.Tag.astype(str).str.contains(pat=tag)].groupby(['Q_Id']).min()['Response_time'].describe()[6]\n"
      ],
      "execution_count": 85,
      "outputs": [
        {
          "output_type": "stream",
          "text": [
            "Processing python\n",
            "Processing r\n",
            "Processing matlab\n",
            "Processing sas\n",
            "Processing excel\n",
            "Processing sql\n"
          ],
          "name": "stdout"
        }
      ]
    },
    {
      "cell_type": "code",
      "metadata": {
        "colab": {
          "base_uri": "https://localhost:8080/"
        },
        "id": "uF1rHiH27Ti3",
        "outputId": "2404a9cd-627e-46eb-b3b3-1de543180db4"
      },
      "source": [
        "top5_dict"
      ],
      "execution_count": 86,
      "outputs": [
        {
          "output_type": "execute_result",
          "data": {
            "text/plain": [
              "{'excel': {'resp-50': Timedelta('0 days 00:37:56.500000'),\n",
              "  'resp-75': Timedelta('0 days 03:05:28.250000'),\n",
              "  'useridlst': '2474656,1505120,4039065,1140579,478884'},\n",
              " 'matlab': {'resp-50': Timedelta('0 days 00:37:42.500000'),\n",
              "  'resp-75': Timedelta('0 days 03:11:01'),\n",
              "  'useridlst': '2586922,97160,232610,3250829,2732801'},\n",
              " 'python': {'resp-50': Timedelta('0 days 00:20:11'),\n",
              "  'resp-75': Timedelta('0 days 02:24:26'),\n",
              "  'useridlst': '100297,190597,20862,104349,771848'},\n",
              " 'r': {'resp-50': Timedelta('0 days 00:27:04'),\n",
              "  'resp-75': Timedelta('0 days 03:47:01.750000'),\n",
              "  'useridlst': '1144035,100297,3732271,13302,771848'},\n",
              " 'sas': {'resp-50': Timedelta('0 days 01:49:45'),\n",
              "  'resp-75': Timedelta('0 days 15:24:12'),\n",
              "  'useridlst': '1623007,1919583,214994,2734437,1652962'},\n",
              " 'sql': {'resp-50': Timedelta('0 days 00:13:34'),\n",
              "  'resp-75': Timedelta('0 days 01:03:58.750000'),\n",
              "  'useridlst': '1144035,491243,13302,939860,27535'}}"
            ]
          },
          "metadata": {
            "tags": []
          },
          "execution_count": 86
        }
      ]
    },
    {
      "cell_type": "code",
      "metadata": {
        "id": "Fz3nC0_IGBs3"
      },
      "source": [
        "rowlist=[]\n",
        "col1=[]\n",
        "col2=[]\n",
        "col3=[]\n",
        "\n",
        "for tag in ds_tags:\n",
        "  rowlist.append(tag)\n",
        "  col1.append(top5_dict[tag]['useridlst'])\n",
        "  col2.append(top5_dict[tag]['resp-50'])\n",
        "  col3.append(top5_dict[tag]['resp-75'])\n",
        "\n"
      ],
      "execution_count": 87,
      "outputs": []
    },
    {
      "cell_type": "code",
      "metadata": {
        "colab": {
          "base_uri": "https://localhost:8080/"
        },
        "id": "URFIl90ZIg2H",
        "outputId": "9ad0bad5-00b5-4981-f72e-84836f079eee"
      },
      "source": [
        "rowlist"
      ],
      "execution_count": 88,
      "outputs": [
        {
          "output_type": "execute_result",
          "data": {
            "text/plain": [
              "['python', 'r', 'matlab', 'sas', 'excel', 'sql']"
            ]
          },
          "metadata": {
            "tags": []
          },
          "execution_count": 88
        }
      ]
    },
    {
      "cell_type": "code",
      "metadata": {
        "colab": {
          "base_uri": "https://localhost:8080/"
        },
        "id": "YhXAKJbPJN7W",
        "outputId": "27d2c7c9-749d-4d06-8d11-6954402b64d0"
      },
      "source": [
        "col2"
      ],
      "execution_count": 89,
      "outputs": [
        {
          "output_type": "execute_result",
          "data": {
            "text/plain": [
              "[Timedelta('0 days 00:20:11'),\n",
              " Timedelta('0 days 00:27:04'),\n",
              " Timedelta('0 days 00:37:42.500000'),\n",
              " Timedelta('0 days 01:49:45'),\n",
              " Timedelta('0 days 00:37:56.500000'),\n",
              " Timedelta('0 days 00:13:34')]"
            ]
          },
          "metadata": {
            "tags": []
          },
          "execution_count": 89
        }
      ]
    },
    {
      "cell_type": "code",
      "metadata": {
        "id": "5ID92hPuJhyu"
      },
      "source": [
        "\n",
        "Final_Results = pd.DataFrame(\n",
        "    {'Top 5 Users who can answer': col1,\n",
        "     '50%-Response-time (mins)': col2,\n",
        "     '75%-Response-time (mins)': col3\n",
        "    },index=rowlist)"
      ],
      "execution_count": 90,
      "outputs": []
    },
    {
      "cell_type": "code",
      "metadata": {
        "colab": {
          "base_uri": "https://localhost:8080/",
          "height": 235
        },
        "id": "HTm-SWr3M0kn",
        "outputId": "e0284b4c-ecc5-4a85-b5af-733507eb02f9"
      },
      "source": [
        "Final_Results"
      ],
      "execution_count": 91,
      "outputs": [
        {
          "output_type": "execute_result",
          "data": {
            "text/html": [
              "<div>\n",
              "<style scoped>\n",
              "    .dataframe tbody tr th:only-of-type {\n",
              "        vertical-align: middle;\n",
              "    }\n",
              "\n",
              "    .dataframe tbody tr th {\n",
              "        vertical-align: top;\n",
              "    }\n",
              "\n",
              "    .dataframe thead th {\n",
              "        text-align: right;\n",
              "    }\n",
              "</style>\n",
              "<table border=\"1\" class=\"dataframe\">\n",
              "  <thead>\n",
              "    <tr style=\"text-align: right;\">\n",
              "      <th></th>\n",
              "      <th>Top 5 Users who can answer</th>\n",
              "      <th>50%-Response-time (mins)</th>\n",
              "      <th>75%-Response-time (mins)</th>\n",
              "    </tr>\n",
              "  </thead>\n",
              "  <tbody>\n",
              "    <tr>\n",
              "      <th>python</th>\n",
              "      <td>100297,190597,20862,104349,771848</td>\n",
              "      <td>0 days 00:20:11</td>\n",
              "      <td>0 days 02:24:26</td>\n",
              "    </tr>\n",
              "    <tr>\n",
              "      <th>r</th>\n",
              "      <td>1144035,100297,3732271,13302,771848</td>\n",
              "      <td>0 days 00:27:04</td>\n",
              "      <td>0 days 03:47:01.750000</td>\n",
              "    </tr>\n",
              "    <tr>\n",
              "      <th>matlab</th>\n",
              "      <td>2586922,97160,232610,3250829,2732801</td>\n",
              "      <td>0 days 00:37:42.500000</td>\n",
              "      <td>0 days 03:11:01</td>\n",
              "    </tr>\n",
              "    <tr>\n",
              "      <th>sas</th>\n",
              "      <td>1623007,1919583,214994,2734437,1652962</td>\n",
              "      <td>0 days 01:49:45</td>\n",
              "      <td>0 days 15:24:12</td>\n",
              "    </tr>\n",
              "    <tr>\n",
              "      <th>excel</th>\n",
              "      <td>2474656,1505120,4039065,1140579,478884</td>\n",
              "      <td>0 days 00:37:56.500000</td>\n",
              "      <td>0 days 03:05:28.250000</td>\n",
              "    </tr>\n",
              "    <tr>\n",
              "      <th>sql</th>\n",
              "      <td>1144035,491243,13302,939860,27535</td>\n",
              "      <td>0 days 00:13:34</td>\n",
              "      <td>0 days 01:03:58.750000</td>\n",
              "    </tr>\n",
              "  </tbody>\n",
              "</table>\n",
              "</div>"
            ],
            "text/plain": [
              "                    Top 5 Users who can answer  ... 75%-Response-time (mins)\n",
              "python       100297,190597,20862,104349,771848  ...          0 days 02:24:26\n",
              "r          1144035,100297,3732271,13302,771848  ...   0 days 03:47:01.750000\n",
              "matlab    2586922,97160,232610,3250829,2732801  ...          0 days 03:11:01\n",
              "sas     1623007,1919583,214994,2734437,1652962  ...          0 days 15:24:12\n",
              "excel   2474656,1505120,4039065,1140579,478884  ...   0 days 03:05:28.250000\n",
              "sql          1144035,491243,13302,939860,27535  ...   0 days 01:03:58.750000\n",
              "\n",
              "[6 rows x 3 columns]"
            ]
          },
          "metadata": {
            "tags": []
          },
          "execution_count": 91
        }
      ]
    },
    {
      "cell_type": "code",
      "metadata": {
        "id": "QdRUYwiMJrT_"
      },
      "source": [
        "Final_Results['50%-Response-time (mins)'] = Final_Results['50%-Response-time (mins)'].astype('timedelta64[m]')\n",
        "Final_Results['75%-Response-time (mins)'] = Final_Results['75%-Response-time (mins)'].astype('timedelta64[m]')\n"
      ],
      "execution_count": 92,
      "outputs": []
    },
    {
      "cell_type": "code",
      "metadata": {
        "colab": {
          "base_uri": "https://localhost:8080/",
          "height": 235
        },
        "id": "KlrCucd7L_cW",
        "outputId": "9a907eeb-3c1d-43d4-c934-52dd31d7cac6"
      },
      "source": [
        "Final_Results"
      ],
      "execution_count": 94,
      "outputs": [
        {
          "output_type": "execute_result",
          "data": {
            "text/html": [
              "<div>\n",
              "<style scoped>\n",
              "    .dataframe tbody tr th:only-of-type {\n",
              "        vertical-align: middle;\n",
              "    }\n",
              "\n",
              "    .dataframe tbody tr th {\n",
              "        vertical-align: top;\n",
              "    }\n",
              "\n",
              "    .dataframe thead th {\n",
              "        text-align: right;\n",
              "    }\n",
              "</style>\n",
              "<table border=\"1\" class=\"dataframe\">\n",
              "  <thead>\n",
              "    <tr style=\"text-align: right;\">\n",
              "      <th></th>\n",
              "      <th>Top 5 Users who can answer</th>\n",
              "      <th>50%-Response-time (mins)</th>\n",
              "      <th>75%-Response-time (mins)</th>\n",
              "    </tr>\n",
              "  </thead>\n",
              "  <tbody>\n",
              "    <tr>\n",
              "      <th>python</th>\n",
              "      <td>100297,190597,20862,104349,771848</td>\n",
              "      <td>20.0</td>\n",
              "      <td>144.0</td>\n",
              "    </tr>\n",
              "    <tr>\n",
              "      <th>r</th>\n",
              "      <td>1144035,100297,3732271,13302,771848</td>\n",
              "      <td>27.0</td>\n",
              "      <td>227.0</td>\n",
              "    </tr>\n",
              "    <tr>\n",
              "      <th>matlab</th>\n",
              "      <td>2586922,97160,232610,3250829,2732801</td>\n",
              "      <td>37.0</td>\n",
              "      <td>191.0</td>\n",
              "    </tr>\n",
              "    <tr>\n",
              "      <th>sas</th>\n",
              "      <td>1623007,1919583,214994,2734437,1652962</td>\n",
              "      <td>109.0</td>\n",
              "      <td>924.0</td>\n",
              "    </tr>\n",
              "    <tr>\n",
              "      <th>excel</th>\n",
              "      <td>2474656,1505120,4039065,1140579,478884</td>\n",
              "      <td>37.0</td>\n",
              "      <td>185.0</td>\n",
              "    </tr>\n",
              "    <tr>\n",
              "      <th>sql</th>\n",
              "      <td>1144035,491243,13302,939860,27535</td>\n",
              "      <td>13.0</td>\n",
              "      <td>63.0</td>\n",
              "    </tr>\n",
              "  </tbody>\n",
              "</table>\n",
              "</div>"
            ],
            "text/plain": [
              "                    Top 5 Users who can answer  ...  75%-Response-time (mins)\n",
              "python       100297,190597,20862,104349,771848  ...                     144.0\n",
              "r          1144035,100297,3732271,13302,771848  ...                     227.0\n",
              "matlab    2586922,97160,232610,3250829,2732801  ...                     191.0\n",
              "sas     1623007,1919583,214994,2734437,1652962  ...                     924.0\n",
              "excel   2474656,1505120,4039065,1140579,478884  ...                     185.0\n",
              "sql          1144035,491243,13302,939860,27535  ...                      63.0\n",
              "\n",
              "[6 rows x 3 columns]"
            ]
          },
          "metadata": {
            "tags": []
          },
          "execution_count": 94
        }
      ]
    },
    {
      "cell_type": "markdown",
      "metadata": {
        "id": "61Uu1dbmIuMr"
      },
      "source": [
        "# Objective 3 ; Predict use of better Tags ; Using Apriori on Tags! \n"
      ]
    },
    {
      "cell_type": "markdown",
      "metadata": {
        "id": "YIAncL6jJpHN"
      },
      "source": [
        "Reading Data of Tags from scratch"
      ]
    },
    {
      "cell_type": "code",
      "metadata": {
        "id": "it7OlVbtI4yu"
      },
      "source": [
        "data = pd.read_csv(\"https://stack-overflow-casestudy-datasets.s3.amazonaws.com/Tags.csv\", encoding = \"latin1\")"
      ],
      "execution_count": 95,
      "outputs": []
    },
    {
      "cell_type": "code",
      "metadata": {
        "id": "OvecFnm0I599"
      },
      "source": [
        "data['Tag'] = data['Tag'].astype('str')"
      ],
      "execution_count": 96,
      "outputs": []
    },
    {
      "cell_type": "code",
      "metadata": {
        "id": "hEdF1IK6JbmP",
        "colab": {
          "base_uri": "https://localhost:8080/"
        },
        "outputId": "86762f59-d492-47d7-fe34-f9683756199f"
      },
      "source": [
        "data.info()"
      ],
      "execution_count": 97,
      "outputs": [
        {
          "output_type": "stream",
          "text": [
            "<class 'pandas.core.frame.DataFrame'>\n",
            "RangeIndex: 3750994 entries, 0 to 3750993\n",
            "Data columns (total 2 columns):\n",
            " #   Column  Dtype \n",
            "---  ------  ----- \n",
            " 0   Id      int64 \n",
            " 1   Tag     object\n",
            "dtypes: int64(1), object(1)\n",
            "memory usage: 57.2+ MB\n"
          ],
          "name": "stdout"
        }
      ]
    },
    {
      "cell_type": "code",
      "metadata": {
        "id": "TQyi_hSkJ0B_",
        "colab": {
          "base_uri": "https://localhost:8080/"
        },
        "outputId": "6ccf0878-0bf4-48ca-961f-bec32805c6ae"
      },
      "source": [
        "data['Tag'].unique\n"
      ],
      "execution_count": 98,
      "outputs": [
        {
          "output_type": "execute_result",
          "data": {
            "text/plain": [
              "<bound method Series.unique of 0                    flex\n",
              "1          actionscript-3\n",
              "2                     air\n",
              "3                     svn\n",
              "4             tortoisesvn\n",
              "                ...      \n",
              "3750989        javascript\n",
              "3750990            vue.js\n",
              "3750991               npm\n",
              "3750992             mocha\n",
              "3750993             babel\n",
              "Name: Tag, Length: 3750994, dtype: object>"
            ]
          },
          "metadata": {
            "tags": []
          },
          "execution_count": 98
        }
      ]
    },
    {
      "cell_type": "markdown",
      "metadata": {
        "id": "zWvKiigiJ_GZ"
      },
      "source": [
        "**There is 3750994 unique tags, so Filtering only the Data Science relevan tags**\n",
        "\n",
        "---\n",
        "\n",
        "\n",
        "\n",
        "---\n",
        "\n"
      ]
    },
    {
      "cell_type": "markdown",
      "metadata": {
        "id": "xUQhdheuKgjg"
      },
      "source": [
        "##Filtering Data Science tagged Data"
      ]
    },
    {
      "cell_type": "code",
      "metadata": {
        "id": "Yj_htHTpKF42"
      },
      "source": [
        "data_filtered = data[data['Tag'].str.contains(pat=\"python|matlab|sas|excel|sql|r,\")]"
      ],
      "execution_count": 99,
      "outputs": []
    },
    {
      "cell_type": "code",
      "metadata": {
        "id": "N0Cw4dWVKMEX",
        "colab": {
          "base_uri": "https://localhost:8080/"
        },
        "outputId": "6647cf47-f270-49d6-b7db-230177d24348"
      },
      "source": [
        "len(data_filtered['Tag'].unique())"
      ],
      "execution_count": 100,
      "outputs": [
        {
          "output_type": "execute_result",
          "data": {
            "text/plain": [
              "652"
            ]
          },
          "metadata": {
            "tags": []
          },
          "execution_count": 100
        }
      ]
    },
    {
      "cell_type": "markdown",
      "metadata": {
        "id": "8-9Ud4j-KTXX"
      },
      "source": [
        "##Prepping the Data for Apriori"
      ]
    },
    {
      "cell_type": "code",
      "metadata": {
        "id": "x2BBdhinKOS5"
      },
      "source": [
        "data_for_apriori = data_filtered.groupby(['Id','Tag'])['Tag'].count().unstack().reset_index().fillna(0).set_index('Id')"
      ],
      "execution_count": 101,
      "outputs": []
    },
    {
      "cell_type": "markdown",
      "metadata": {
        "id": "qHitICpuKtf8"
      },
      "source": [
        "## Applying the apriori module\n",
        "Since this is just 1/3 of the objective , Using the module instead of implemting from scratch"
      ]
    },
    {
      "cell_type": "code",
      "metadata": {
        "id": "aP6JwRcpKmGT"
      },
      "source": [
        "frq_items = apriori(data_for_apriori, min_support = 0.005, use_colnames = True)"
      ],
      "execution_count": 102,
      "outputs": []
    },
    {
      "cell_type": "code",
      "metadata": {
        "id": "ey6-WqqaKpSH",
        "colab": {
          "base_uri": "https://localhost:8080/",
          "height": 1000
        },
        "outputId": "d3b66519-1c2a-45b0-e663-acf3b2254389"
      },
      "source": [
        "frq_items"
      ],
      "execution_count": 103,
      "outputs": [
        {
          "output_type": "execute_result",
          "data": {
            "text/html": [
              "<div>\n",
              "<style scoped>\n",
              "    .dataframe tbody tr th:only-of-type {\n",
              "        vertical-align: middle;\n",
              "    }\n",
              "\n",
              "    .dataframe tbody tr th {\n",
              "        vertical-align: top;\n",
              "    }\n",
              "\n",
              "    .dataframe thead th {\n",
              "        text-align: right;\n",
              "    }\n",
              "</style>\n",
              "<table border=\"1\" class=\"dataframe\">\n",
              "  <thead>\n",
              "    <tr style=\"text-align: right;\">\n",
              "      <th></th>\n",
              "      <th>support</th>\n",
              "      <th>itemsets</th>\n",
              "    </tr>\n",
              "  </thead>\n",
              "  <tbody>\n",
              "    <tr>\n",
              "      <th>0</th>\n",
              "      <td>0.055648</td>\n",
              "      <td>(excel)</td>\n",
              "    </tr>\n",
              "    <tr>\n",
              "      <th>1</th>\n",
              "      <td>0.027883</td>\n",
              "      <td>(excel-vba)</td>\n",
              "    </tr>\n",
              "    <tr>\n",
              "      <th>2</th>\n",
              "      <td>0.007186</td>\n",
              "      <td>(linq-to-sql)</td>\n",
              "    </tr>\n",
              "    <tr>\n",
              "      <th>3</th>\n",
              "      <td>0.034807</td>\n",
              "      <td>(matlab)</td>\n",
              "    </tr>\n",
              "    <tr>\n",
              "      <th>4</th>\n",
              "      <td>0.227566</td>\n",
              "      <td>(mysql)</td>\n",
              "    </tr>\n",
              "    <tr>\n",
              "      <th>5</th>\n",
              "      <td>0.009973</td>\n",
              "      <td>(mysqli)</td>\n",
              "    </tr>\n",
              "    <tr>\n",
              "      <th>6</th>\n",
              "      <td>0.007508</td>\n",
              "      <td>(plsql)</td>\n",
              "    </tr>\n",
              "    <tr>\n",
              "      <th>7</th>\n",
              "      <td>0.031838</td>\n",
              "      <td>(postgresql)</td>\n",
              "    </tr>\n",
              "    <tr>\n",
              "      <th>8</th>\n",
              "      <td>0.346199</td>\n",
              "      <td>(python)</td>\n",
              "    </tr>\n",
              "    <tr>\n",
              "      <th>9</th>\n",
              "      <td>0.030884</td>\n",
              "      <td>(python-2.7)</td>\n",
              "    </tr>\n",
              "    <tr>\n",
              "      <th>10</th>\n",
              "      <td>0.022626</td>\n",
              "      <td>(python-3.x)</td>\n",
              "    </tr>\n",
              "    <tr>\n",
              "      <th>11</th>\n",
              "      <td>0.005075</td>\n",
              "      <td>(sass)</td>\n",
              "    </tr>\n",
              "    <tr>\n",
              "      <th>12</th>\n",
              "      <td>0.191757</td>\n",
              "      <td>(sql)</td>\n",
              "    </tr>\n",
              "    <tr>\n",
              "      <th>13</th>\n",
              "      <td>0.097320</td>\n",
              "      <td>(sql-server)</td>\n",
              "    </tr>\n",
              "    <tr>\n",
              "      <th>14</th>\n",
              "      <td>0.009775</td>\n",
              "      <td>(sql-server-2005)</td>\n",
              "    </tr>\n",
              "    <tr>\n",
              "      <th>15</th>\n",
              "      <td>0.026259</td>\n",
              "      <td>(sql-server-2008)</td>\n",
              "    </tr>\n",
              "    <tr>\n",
              "      <th>16</th>\n",
              "      <td>0.005257</td>\n",
              "      <td>(sql-server-2008-r2)</td>\n",
              "    </tr>\n",
              "    <tr>\n",
              "      <th>17</th>\n",
              "      <td>0.005991</td>\n",
              "      <td>(sql-server-2012)</td>\n",
              "    </tr>\n",
              "    <tr>\n",
              "      <th>18</th>\n",
              "      <td>0.028049</td>\n",
              "      <td>(sqlite)</td>\n",
              "    </tr>\n",
              "    <tr>\n",
              "      <th>19</th>\n",
              "      <td>0.006334</td>\n",
              "      <td>(sqlite3)</td>\n",
              "    </tr>\n",
              "    <tr>\n",
              "      <th>20</th>\n",
              "      <td>0.022283</td>\n",
              "      <td>(tsql)</td>\n",
              "    </tr>\n",
              "    <tr>\n",
              "      <th>21</th>\n",
              "      <td>0.018510</td>\n",
              "      <td>(excel, excel-vba)</td>\n",
              "    </tr>\n",
              "    <tr>\n",
              "      <th>22</th>\n",
              "      <td>0.045091</td>\n",
              "      <td>(sql, mysql)</td>\n",
              "    </tr>\n",
              "    <tr>\n",
              "      <th>23</th>\n",
              "      <td>0.008457</td>\n",
              "      <td>(sql, postgresql)</td>\n",
              "    </tr>\n",
              "    <tr>\n",
              "      <th>24</th>\n",
              "      <td>0.019989</td>\n",
              "      <td>(python-2.7, python)</td>\n",
              "    </tr>\n",
              "    <tr>\n",
              "      <th>25</th>\n",
              "      <td>0.015461</td>\n",
              "      <td>(python-3.x, python)</td>\n",
              "    </tr>\n",
              "    <tr>\n",
              "      <th>26</th>\n",
              "      <td>0.042883</td>\n",
              "      <td>(sql-server, sql)</td>\n",
              "    </tr>\n",
              "    <tr>\n",
              "      <th>27</th>\n",
              "      <td>0.012465</td>\n",
              "      <td>(sql, sql-server-2008)</td>\n",
              "    </tr>\n",
              "    <tr>\n",
              "      <th>28</th>\n",
              "      <td>0.011774</td>\n",
              "      <td>(tsql, sql)</td>\n",
              "    </tr>\n",
              "    <tr>\n",
              "      <th>29</th>\n",
              "      <td>0.011152</td>\n",
              "      <td>(sql-server, sql-server-2008)</td>\n",
              "    </tr>\n",
              "    <tr>\n",
              "      <th>30</th>\n",
              "      <td>0.014100</td>\n",
              "      <td>(sql-server, tsql)</td>\n",
              "    </tr>\n",
              "    <tr>\n",
              "      <th>31</th>\n",
              "      <td>0.006608</td>\n",
              "      <td>(sql-server, sql, sql-server-2008)</td>\n",
              "    </tr>\n",
              "    <tr>\n",
              "      <th>32</th>\n",
              "      <td>0.008114</td>\n",
              "      <td>(sql-server, tsql, sql)</td>\n",
              "    </tr>\n",
              "  </tbody>\n",
              "</table>\n",
              "</div>"
            ],
            "text/plain": [
              "     support                            itemsets\n",
              "0   0.055648                             (excel)\n",
              "1   0.027883                         (excel-vba)\n",
              "2   0.007186                       (linq-to-sql)\n",
              "3   0.034807                            (matlab)\n",
              "4   0.227566                             (mysql)\n",
              "5   0.009973                            (mysqli)\n",
              "6   0.007508                             (plsql)\n",
              "7   0.031838                        (postgresql)\n",
              "8   0.346199                            (python)\n",
              "9   0.030884                        (python-2.7)\n",
              "10  0.022626                        (python-3.x)\n",
              "11  0.005075                              (sass)\n",
              "12  0.191757                               (sql)\n",
              "13  0.097320                        (sql-server)\n",
              "14  0.009775                   (sql-server-2005)\n",
              "15  0.026259                   (sql-server-2008)\n",
              "16  0.005257                (sql-server-2008-r2)\n",
              "17  0.005991                   (sql-server-2012)\n",
              "18  0.028049                            (sqlite)\n",
              "19  0.006334                           (sqlite3)\n",
              "20  0.022283                              (tsql)\n",
              "21  0.018510                  (excel, excel-vba)\n",
              "22  0.045091                        (sql, mysql)\n",
              "23  0.008457                   (sql, postgresql)\n",
              "24  0.019989                (python-2.7, python)\n",
              "25  0.015461                (python-3.x, python)\n",
              "26  0.042883                   (sql-server, sql)\n",
              "27  0.012465              (sql, sql-server-2008)\n",
              "28  0.011774                         (tsql, sql)\n",
              "29  0.011152       (sql-server, sql-server-2008)\n",
              "30  0.014100                  (sql-server, tsql)\n",
              "31  0.006608  (sql-server, sql, sql-server-2008)\n",
              "32  0.008114             (sql-server, tsql, sql)"
            ]
          },
          "metadata": {
            "tags": []
          },
          "execution_count": 103
        }
      ]
    },
    {
      "cell_type": "code",
      "metadata": {
        "id": "VMh-WfVhK6Rn",
        "colab": {
          "base_uri": "https://localhost:8080/",
          "height": 1000
        },
        "outputId": "d4ccb694-3435-497a-ad60-0bb9b7a7e8f5"
      },
      "source": [
        "so_rules = association_rules(frq_items, metric =\"lift\", min_threshold = .5) \n",
        "so_rules =so_rules.sort_values(['confidence', 'lift'], ascending =[False, False]) \n",
        "so_rules"
      ],
      "execution_count": 209,
      "outputs": [
        {
          "output_type": "execute_result",
          "data": {
            "text/html": [
              "<div>\n",
              "<style scoped>\n",
              "    .dataframe tbody tr th:only-of-type {\n",
              "        vertical-align: middle;\n",
              "    }\n",
              "\n",
              "    .dataframe tbody tr th {\n",
              "        vertical-align: top;\n",
              "    }\n",
              "\n",
              "    .dataframe thead th {\n",
              "        text-align: right;\n",
              "    }\n",
              "</style>\n",
              "<table border=\"1\" class=\"dataframe\">\n",
              "  <thead>\n",
              "    <tr style=\"text-align: right;\">\n",
              "      <th></th>\n",
              "      <th>antecedents</th>\n",
              "      <th>consequents</th>\n",
              "      <th>antecedent support</th>\n",
              "      <th>consequent support</th>\n",
              "      <th>support</th>\n",
              "      <th>confidence</th>\n",
              "      <th>lift</th>\n",
              "      <th>leverage</th>\n",
              "      <th>conviction</th>\n",
              "    </tr>\n",
              "  </thead>\n",
              "  <tbody>\n",
              "    <tr>\n",
              "      <th>28</th>\n",
              "      <td>(tsql, sql)</td>\n",
              "      <td>(sql-server)</td>\n",
              "      <td>0.011774</td>\n",
              "      <td>0.097320</td>\n",
              "      <td>0.008114</td>\n",
              "      <td>0.689122</td>\n",
              "      <td>7.080989</td>\n",
              "      <td>0.006968</td>\n",
              "      <td>2.903643</td>\n",
              "    </tr>\n",
              "    <tr>\n",
              "      <th>8</th>\n",
              "      <td>(python-3.x)</td>\n",
              "      <td>(python)</td>\n",
              "      <td>0.022626</td>\n",
              "      <td>0.346199</td>\n",
              "      <td>0.015461</td>\n",
              "      <td>0.683325</td>\n",
              "      <td>1.973796</td>\n",
              "      <td>0.007628</td>\n",
              "      <td>2.064585</td>\n",
              "    </tr>\n",
              "    <tr>\n",
              "      <th>1</th>\n",
              "      <td>(excel-vba)</td>\n",
              "      <td>(excel)</td>\n",
              "      <td>0.027883</td>\n",
              "      <td>0.055648</td>\n",
              "      <td>0.018510</td>\n",
              "      <td>0.663848</td>\n",
              "      <td>11.929378</td>\n",
              "      <td>0.016958</td>\n",
              "      <td>2.809298</td>\n",
              "    </tr>\n",
              "    <tr>\n",
              "      <th>6</th>\n",
              "      <td>(python-2.7)</td>\n",
              "      <td>(python)</td>\n",
              "      <td>0.030884</td>\n",
              "      <td>0.346199</td>\n",
              "      <td>0.019989</td>\n",
              "      <td>0.647232</td>\n",
              "      <td>1.869541</td>\n",
              "      <td>0.009297</td>\n",
              "      <td>1.853349</td>\n",
              "    </tr>\n",
              "    <tr>\n",
              "      <th>19</th>\n",
              "      <td>(tsql)</td>\n",
              "      <td>(sql-server)</td>\n",
              "      <td>0.022283</td>\n",
              "      <td>0.097320</td>\n",
              "      <td>0.014100</td>\n",
              "      <td>0.632756</td>\n",
              "      <td>6.501813</td>\n",
              "      <td>0.011931</td>\n",
              "      <td>2.457985</td>\n",
              "    </tr>\n",
              "    <tr>\n",
              "      <th>21</th>\n",
              "      <td>(sql-server, sql-server-2008)</td>\n",
              "      <td>(sql)</td>\n",
              "      <td>0.011152</td>\n",
              "      <td>0.191757</td>\n",
              "      <td>0.006608</td>\n",
              "      <td>0.592504</td>\n",
              "      <td>3.089871</td>\n",
              "      <td>0.004469</td>\n",
              "      <td>1.983437</td>\n",
              "    </tr>\n",
              "    <tr>\n",
              "      <th>26</th>\n",
              "      <td>(sql-server, tsql)</td>\n",
              "      <td>(sql)</td>\n",
              "      <td>0.014100</td>\n",
              "      <td>0.191757</td>\n",
              "      <td>0.008114</td>\n",
              "      <td>0.575447</td>\n",
              "      <td>3.000920</td>\n",
              "      <td>0.005410</td>\n",
              "      <td>1.903749</td>\n",
              "    </tr>\n",
              "    <tr>\n",
              "      <th>22</th>\n",
              "      <td>(sql, sql-server-2008)</td>\n",
              "      <td>(sql-server)</td>\n",
              "      <td>0.012465</td>\n",
              "      <td>0.097320</td>\n",
              "      <td>0.006608</td>\n",
              "      <td>0.530095</td>\n",
              "      <td>5.446926</td>\n",
              "      <td>0.005395</td>\n",
              "      <td>1.920982</td>\n",
              "    </tr>\n",
              "    <tr>\n",
              "      <th>14</th>\n",
              "      <td>(tsql)</td>\n",
              "      <td>(sql)</td>\n",
              "      <td>0.022283</td>\n",
              "      <td>0.191757</td>\n",
              "      <td>0.011774</td>\n",
              "      <td>0.528379</td>\n",
              "      <td>2.755465</td>\n",
              "      <td>0.007501</td>\n",
              "      <td>1.713756</td>\n",
              "    </tr>\n",
              "    <tr>\n",
              "      <th>13</th>\n",
              "      <td>(sql-server-2008)</td>\n",
              "      <td>(sql)</td>\n",
              "      <td>0.026259</td>\n",
              "      <td>0.191757</td>\n",
              "      <td>0.012465</td>\n",
              "      <td>0.474694</td>\n",
              "      <td>2.475500</td>\n",
              "      <td>0.007430</td>\n",
              "      <td>1.538614</td>\n",
              "    </tr>\n",
              "    <tr>\n",
              "      <th>10</th>\n",
              "      <td>(sql-server)</td>\n",
              "      <td>(sql)</td>\n",
              "      <td>0.097320</td>\n",
              "      <td>0.191757</td>\n",
              "      <td>0.042883</td>\n",
              "      <td>0.440639</td>\n",
              "      <td>2.297905</td>\n",
              "      <td>0.024221</td>\n",
              "      <td>1.444940</td>\n",
              "    </tr>\n",
              "    <tr>\n",
              "      <th>17</th>\n",
              "      <td>(sql-server-2008)</td>\n",
              "      <td>(sql-server)</td>\n",
              "      <td>0.026259</td>\n",
              "      <td>0.097320</td>\n",
              "      <td>0.011152</td>\n",
              "      <td>0.424694</td>\n",
              "      <td>4.363893</td>\n",
              "      <td>0.008597</td>\n",
              "      <td>1.569043</td>\n",
              "    </tr>\n",
              "    <tr>\n",
              "      <th>30</th>\n",
              "      <td>(tsql)</td>\n",
              "      <td>(sql-server, sql)</td>\n",
              "      <td>0.022283</td>\n",
              "      <td>0.042883</td>\n",
              "      <td>0.008114</td>\n",
              "      <td>0.364117</td>\n",
              "      <td>8.490960</td>\n",
              "      <td>0.007158</td>\n",
              "      <td>1.505179</td>\n",
              "    </tr>\n",
              "    <tr>\n",
              "      <th>0</th>\n",
              "      <td>(excel)</td>\n",
              "      <td>(excel-vba)</td>\n",
              "      <td>0.055648</td>\n",
              "      <td>0.027883</td>\n",
              "      <td>0.018510</td>\n",
              "      <td>0.332627</td>\n",
              "      <td>11.929378</td>\n",
              "      <td>0.016958</td>\n",
              "      <td>1.456632</td>\n",
              "    </tr>\n",
              "    <tr>\n",
              "      <th>5</th>\n",
              "      <td>(postgresql)</td>\n",
              "      <td>(sql)</td>\n",
              "      <td>0.031838</td>\n",
              "      <td>0.191757</td>\n",
              "      <td>0.008457</td>\n",
              "      <td>0.265612</td>\n",
              "      <td>1.385150</td>\n",
              "      <td>0.002351</td>\n",
              "      <td>1.100567</td>\n",
              "    </tr>\n",
              "    <tr>\n",
              "      <th>25</th>\n",
              "      <td>(sql-server-2008)</td>\n",
              "      <td>(sql-server, sql)</td>\n",
              "      <td>0.026259</td>\n",
              "      <td>0.042883</td>\n",
              "      <td>0.006608</td>\n",
              "      <td>0.251633</td>\n",
              "      <td>5.867896</td>\n",
              "      <td>0.005482</td>\n",
              "      <td>1.278940</td>\n",
              "    </tr>\n",
              "    <tr>\n",
              "      <th>2</th>\n",
              "      <td>(sql)</td>\n",
              "      <td>(mysql)</td>\n",
              "      <td>0.191757</td>\n",
              "      <td>0.227566</td>\n",
              "      <td>0.045091</td>\n",
              "      <td>0.235146</td>\n",
              "      <td>1.033311</td>\n",
              "      <td>0.001454</td>\n",
              "      <td>1.009911</td>\n",
              "    </tr>\n",
              "    <tr>\n",
              "      <th>11</th>\n",
              "      <td>(sql)</td>\n",
              "      <td>(sql-server)</td>\n",
              "      <td>0.191757</td>\n",
              "      <td>0.097320</td>\n",
              "      <td>0.042883</td>\n",
              "      <td>0.223632</td>\n",
              "      <td>2.297905</td>\n",
              "      <td>0.024221</td>\n",
              "      <td>1.162696</td>\n",
              "    </tr>\n",
              "    <tr>\n",
              "      <th>3</th>\n",
              "      <td>(mysql)</td>\n",
              "      <td>(sql)</td>\n",
              "      <td>0.227566</td>\n",
              "      <td>0.191757</td>\n",
              "      <td>0.045091</td>\n",
              "      <td>0.198144</td>\n",
              "      <td>1.033311</td>\n",
              "      <td>0.001454</td>\n",
              "      <td>1.007966</td>\n",
              "    </tr>\n",
              "    <tr>\n",
              "      <th>27</th>\n",
              "      <td>(sql-server, sql)</td>\n",
              "      <td>(tsql)</td>\n",
              "      <td>0.042883</td>\n",
              "      <td>0.022283</td>\n",
              "      <td>0.008114</td>\n",
              "      <td>0.189203</td>\n",
              "      <td>8.490960</td>\n",
              "      <td>0.007158</td>\n",
              "      <td>1.205871</td>\n",
              "    </tr>\n",
              "    <tr>\n",
              "      <th>20</th>\n",
              "      <td>(sql-server, sql)</td>\n",
              "      <td>(sql-server-2008)</td>\n",
              "      <td>0.042883</td>\n",
              "      <td>0.026259</td>\n",
              "      <td>0.006608</td>\n",
              "      <td>0.154086</td>\n",
              "      <td>5.867896</td>\n",
              "      <td>0.005482</td>\n",
              "      <td>1.151111</td>\n",
              "    </tr>\n",
              "    <tr>\n",
              "      <th>18</th>\n",
              "      <td>(sql-server)</td>\n",
              "      <td>(tsql)</td>\n",
              "      <td>0.097320</td>\n",
              "      <td>0.022283</td>\n",
              "      <td>0.014100</td>\n",
              "      <td>0.144879</td>\n",
              "      <td>6.501813</td>\n",
              "      <td>0.011931</td>\n",
              "      <td>1.143367</td>\n",
              "    </tr>\n",
              "    <tr>\n",
              "      <th>16</th>\n",
              "      <td>(sql-server)</td>\n",
              "      <td>(sql-server-2008)</td>\n",
              "      <td>0.097320</td>\n",
              "      <td>0.026259</td>\n",
              "      <td>0.011152</td>\n",
              "      <td>0.114593</td>\n",
              "      <td>4.363893</td>\n",
              "      <td>0.008597</td>\n",
              "      <td>1.099766</td>\n",
              "    </tr>\n",
              "    <tr>\n",
              "      <th>29</th>\n",
              "      <td>(sql-server)</td>\n",
              "      <td>(tsql, sql)</td>\n",
              "      <td>0.097320</td>\n",
              "      <td>0.011774</td>\n",
              "      <td>0.008114</td>\n",
              "      <td>0.083370</td>\n",
              "      <td>7.080989</td>\n",
              "      <td>0.006968</td>\n",
              "      <td>1.078108</td>\n",
              "    </tr>\n",
              "    <tr>\n",
              "      <th>23</th>\n",
              "      <td>(sql-server)</td>\n",
              "      <td>(sql, sql-server-2008)</td>\n",
              "      <td>0.097320</td>\n",
              "      <td>0.012465</td>\n",
              "      <td>0.006608</td>\n",
              "      <td>0.067896</td>\n",
              "      <td>5.446926</td>\n",
              "      <td>0.005395</td>\n",
              "      <td>1.059469</td>\n",
              "    </tr>\n",
              "    <tr>\n",
              "      <th>12</th>\n",
              "      <td>(sql)</td>\n",
              "      <td>(sql-server-2008)</td>\n",
              "      <td>0.191757</td>\n",
              "      <td>0.026259</td>\n",
              "      <td>0.012465</td>\n",
              "      <td>0.065005</td>\n",
              "      <td>2.475500</td>\n",
              "      <td>0.007430</td>\n",
              "      <td>1.041439</td>\n",
              "    </tr>\n",
              "    <tr>\n",
              "      <th>15</th>\n",
              "      <td>(sql)</td>\n",
              "      <td>(tsql)</td>\n",
              "      <td>0.191757</td>\n",
              "      <td>0.022283</td>\n",
              "      <td>0.011774</td>\n",
              "      <td>0.061400</td>\n",
              "      <td>2.755465</td>\n",
              "      <td>0.007501</td>\n",
              "      <td>1.041676</td>\n",
              "    </tr>\n",
              "    <tr>\n",
              "      <th>7</th>\n",
              "      <td>(python)</td>\n",
              "      <td>(python-2.7)</td>\n",
              "      <td>0.346199</td>\n",
              "      <td>0.030884</td>\n",
              "      <td>0.019989</td>\n",
              "      <td>0.057739</td>\n",
              "      <td>1.869541</td>\n",
              "      <td>0.009297</td>\n",
              "      <td>1.028501</td>\n",
              "    </tr>\n",
              "    <tr>\n",
              "      <th>9</th>\n",
              "      <td>(python)</td>\n",
              "      <td>(python-3.x)</td>\n",
              "      <td>0.346199</td>\n",
              "      <td>0.022626</td>\n",
              "      <td>0.015461</td>\n",
              "      <td>0.044659</td>\n",
              "      <td>1.973796</td>\n",
              "      <td>0.007628</td>\n",
              "      <td>1.023063</td>\n",
              "    </tr>\n",
              "    <tr>\n",
              "      <th>4</th>\n",
              "      <td>(sql)</td>\n",
              "      <td>(postgresql)</td>\n",
              "      <td>0.191757</td>\n",
              "      <td>0.031838</td>\n",
              "      <td>0.008457</td>\n",
              "      <td>0.044100</td>\n",
              "      <td>1.385150</td>\n",
              "      <td>0.002351</td>\n",
              "      <td>1.012828</td>\n",
              "    </tr>\n",
              "    <tr>\n",
              "      <th>31</th>\n",
              "      <td>(sql)</td>\n",
              "      <td>(sql-server, tsql)</td>\n",
              "      <td>0.191757</td>\n",
              "      <td>0.014100</td>\n",
              "      <td>0.008114</td>\n",
              "      <td>0.042312</td>\n",
              "      <td>3.000920</td>\n",
              "      <td>0.005410</td>\n",
              "      <td>1.029459</td>\n",
              "    </tr>\n",
              "    <tr>\n",
              "      <th>24</th>\n",
              "      <td>(sql)</td>\n",
              "      <td>(sql-server, sql-server-2008)</td>\n",
              "      <td>0.191757</td>\n",
              "      <td>0.011152</td>\n",
              "      <td>0.006608</td>\n",
              "      <td>0.034459</td>\n",
              "      <td>3.089871</td>\n",
              "      <td>0.004469</td>\n",
              "      <td>1.024138</td>\n",
              "    </tr>\n",
              "  </tbody>\n",
              "</table>\n",
              "</div>"
            ],
            "text/plain": [
              "                      antecedents  ... conviction\n",
              "28                    (tsql, sql)  ...   2.903643\n",
              "8                    (python-3.x)  ...   2.064585\n",
              "1                     (excel-vba)  ...   2.809298\n",
              "6                    (python-2.7)  ...   1.853349\n",
              "19                         (tsql)  ...   2.457985\n",
              "21  (sql-server, sql-server-2008)  ...   1.983437\n",
              "26             (sql-server, tsql)  ...   1.903749\n",
              "22         (sql, sql-server-2008)  ...   1.920982\n",
              "14                         (tsql)  ...   1.713756\n",
              "13              (sql-server-2008)  ...   1.538614\n",
              "10                   (sql-server)  ...   1.444940\n",
              "17              (sql-server-2008)  ...   1.569043\n",
              "30                         (tsql)  ...   1.505179\n",
              "0                         (excel)  ...   1.456632\n",
              "5                    (postgresql)  ...   1.100567\n",
              "25              (sql-server-2008)  ...   1.278940\n",
              "2                           (sql)  ...   1.009911\n",
              "11                          (sql)  ...   1.162696\n",
              "3                         (mysql)  ...   1.007966\n",
              "27              (sql-server, sql)  ...   1.205871\n",
              "20              (sql-server, sql)  ...   1.151111\n",
              "18                   (sql-server)  ...   1.143367\n",
              "16                   (sql-server)  ...   1.099766\n",
              "29                   (sql-server)  ...   1.078108\n",
              "23                   (sql-server)  ...   1.059469\n",
              "12                          (sql)  ...   1.041439\n",
              "15                          (sql)  ...   1.041676\n",
              "7                        (python)  ...   1.028501\n",
              "9                        (python)  ...   1.023063\n",
              "4                           (sql)  ...   1.012828\n",
              "31                          (sql)  ...   1.029459\n",
              "24                          (sql)  ...   1.024138\n",
              "\n",
              "[32 rows x 9 columns]"
            ]
          },
          "metadata": {
            "tags": []
          },
          "execution_count": 209
        }
      ]
    },
    {
      "cell_type": "markdown",
      "metadata": {
        "id": "OBZzdLlcSXXT"
      },
      "source": [
        "# Trending Topics over last 6 months"
      ]
    },
    {
      "cell_type": "markdown",
      "metadata": {
        "id": "47CD3Hm4Se4n"
      },
      "source": [
        "Most Recent Date"
      ]
    },
    {
      "cell_type": "code",
      "metadata": {
        "id": "2WAtd4KTRjv_",
        "outputId": "1d42a59d-cd1c-4bce-e3d5-8327238550cb",
        "colab": {
          "base_uri": "https://localhost:8080/"
        }
      },
      "source": [
        "qns['Q_CreationDate'].describe()['last']"
      ],
      "execution_count": 105,
      "outputs": [
        {
          "output_type": "execute_result",
          "data": {
            "text/plain": [
              "Timestamp('2016-10-19 23:57:31+0000', tz='UTC')"
            ]
          },
          "metadata": {
            "tags": []
          },
          "execution_count": 105
        }
      ]
    },
    {
      "cell_type": "code",
      "metadata": {
        "id": "KonLplULSjLI"
      },
      "source": [
        "three_month_qns=np.array((qns[qns['Q_CreationDate'] > pd.Timestamp('2016-7-19 ', tz='UTC')]['Q_Id']))"
      ],
      "execution_count": 106,
      "outputs": []
    },
    {
      "cell_type": "code",
      "metadata": {
        "id": "z1cHdx7GWlof",
        "outputId": "e3de7225-9a40-4276-be9a-cbe5844959d5",
        "colab": {
          "base_uri": "https://localhost:8080/"
        }
      },
      "source": [
        "three_month_qns"
      ],
      "execution_count": 107,
      "outputs": [
        {
          "output_type": "execute_result",
          "data": {
            "text/plain": [
              "array([38447640, 38447690, 38447740, ..., 40143340, 40143360, 40143380])"
            ]
          },
          "metadata": {
            "tags": []
          },
          "execution_count": 107
        }
      ]
    },
    {
      "cell_type": "code",
      "metadata": {
        "id": "pJD2qE_njRo9"
      },
      "source": [
        "tags_orig = pd.read_csv(\"https://stack-overflow-casestudy-datasets.s3.amazonaws.com/Tags.csv\", encoding = \"latin1\")"
      ],
      "execution_count": 108,
      "outputs": []
    },
    {
      "cell_type": "markdown",
      "metadata": {
        "id": "ciBi64q9jvIa"
      },
      "source": [
        "Filter only Tags from Last 3 Months"
      ]
    },
    {
      "cell_type": "code",
      "metadata": {
        "id": "zIZ_6broWWZr"
      },
      "source": [
        "tags_orig = tags_orig[tags_orig['Id'].isin(three_month_qns)]"
      ],
      "execution_count": 109,
      "outputs": []
    },
    {
      "cell_type": "code",
      "metadata": {
        "id": "o_qOvfqzj0BF"
      },
      "source": [
        "topten_trends = tags_orig.set_index('Id')['Tag'].value_counts().nlargest(10)"
      ],
      "execution_count": 111,
      "outputs": []
    },
    {
      "cell_type": "code",
      "metadata": {
        "id": "87m7vW8HmJFE",
        "outputId": "a92989c6-d18a-4ce3-aa71-ec30c23b7763",
        "colab": {
          "base_uri": "https://localhost:8080/"
        }
      },
      "source": [
        "topten_trends.values / topten_trends.values.sum()"
      ],
      "execution_count": 112,
      "outputs": [
        {
          "output_type": "execute_result",
          "data": {
            "text/plain": [
              "array([0.17950343, 0.13064395, 0.11592979, 0.10736412, 0.10656623,\n",
              "       0.09757815, 0.07741951, 0.07143528, 0.06089834, 0.05266122])"
            ]
          },
          "metadata": {
            "tags": []
          },
          "execution_count": 112
        }
      ]
    },
    {
      "cell_type": "code",
      "metadata": {
        "id": "nndYRj0dm6c2",
        "outputId": "d850c27c-f8d7-401a-e9fa-abad5ac23b7f",
        "colab": {
          "base_uri": "https://localhost:8080/",
          "height": 248
        }
      },
      "source": [
        "plt.pie(topten_trends.values,labels = topten_trends.index)\n",
        "plt.show()"
      ],
      "execution_count": 114,
      "outputs": [
        {
          "output_type": "display_data",
          "data": {
            "image/png": "[encoded data removed]",
            "text/plain": [
              "<Figure size 432x288 with 1 Axes>"
            ]
          },
          "metadata": {
            "tags": []
          }
        }
      ]
    },
    {
      "cell_type": "markdown",
      "metadata": {
        "id": "8qmjaYZ2LIiz"
      },
      "source": [
        "#Final Results : \n",
        "\n",
        "---\n",
        "\n"
      ]
    },
    {
      "cell_type": "markdown",
      "metadata": {
        "id": "gFKxlgxU0sXa"
      },
      "source": [
        "## Display Results"
      ]
    },
    {
      "cell_type": "code",
      "metadata": {
        "id": "E2oWmwyfLCsx"
      },
      "source": [
        "so_users_and_responses = Final_Results"
      ],
      "execution_count": 117,
      "outputs": []
    },
    {
      "cell_type": "code",
      "metadata": {
        "id": "0UPAdzz60pgz",
        "outputId": "980738ca-534b-498b-fc1f-6f9b26458ba8",
        "colab": {
          "base_uri": "https://localhost:8080/",
          "height": 235
        }
      },
      "source": [
        "so_users_and_responses"
      ],
      "execution_count": 119,
      "outputs": [
        {
          "output_type": "execute_result",
          "data": {
            "text/html": [
              "<div>\n",
              "<style scoped>\n",
              "    .dataframe tbody tr th:only-of-type {\n",
              "        vertical-align: middle;\n",
              "    }\n",
              "\n",
              "    .dataframe tbody tr th {\n",
              "        vertical-align: top;\n",
              "    }\n",
              "\n",
              "    .dataframe thead th {\n",
              "        text-align: right;\n",
              "    }\n",
              "</style>\n",
              "<table border=\"1\" class=\"dataframe\">\n",
              "  <thead>\n",
              "    <tr style=\"text-align: right;\">\n",
              "      <th></th>\n",
              "      <th>Top 5 Users who can answer</th>\n",
              "      <th>50%-Response-time (mins)</th>\n",
              "      <th>75%-Response-time (mins)</th>\n",
              "    </tr>\n",
              "  </thead>\n",
              "  <tbody>\n",
              "    <tr>\n",
              "      <th>python</th>\n",
              "      <td>100297,190597,20862,104349,771848</td>\n",
              "      <td>20.0</td>\n",
              "      <td>144.0</td>\n",
              "    </tr>\n",
              "    <tr>\n",
              "      <th>r</th>\n",
              "      <td>1144035,100297,3732271,13302,771848</td>\n",
              "      <td>27.0</td>\n",
              "      <td>227.0</td>\n",
              "    </tr>\n",
              "    <tr>\n",
              "      <th>matlab</th>\n",
              "      <td>2586922,97160,232610,3250829,2732801</td>\n",
              "      <td>37.0</td>\n",
              "      <td>191.0</td>\n",
              "    </tr>\n",
              "    <tr>\n",
              "      <th>sas</th>\n",
              "      <td>1623007,1919583,214994,2734437,1652962</td>\n",
              "      <td>109.0</td>\n",
              "      <td>924.0</td>\n",
              "    </tr>\n",
              "    <tr>\n",
              "      <th>excel</th>\n",
              "      <td>2474656,1505120,4039065,1140579,478884</td>\n",
              "      <td>37.0</td>\n",
              "      <td>185.0</td>\n",
              "    </tr>\n",
              "    <tr>\n",
              "      <th>sql</th>\n",
              "      <td>1144035,491243,13302,939860,27535</td>\n",
              "      <td>13.0</td>\n",
              "      <td>63.0</td>\n",
              "    </tr>\n",
              "  </tbody>\n",
              "</table>\n",
              "</div>"
            ],
            "text/plain": [
              "                    Top 5 Users who can answer  ...  75%-Response-time (mins)\n",
              "python       100297,190597,20862,104349,771848  ...                     144.0\n",
              "r          1144035,100297,3732271,13302,771848  ...                     227.0\n",
              "matlab    2586922,97160,232610,3250829,2732801  ...                     191.0\n",
              "sas     1623007,1919583,214994,2734437,1652962  ...                     924.0\n",
              "excel   2474656,1505120,4039065,1140579,478884  ...                     185.0\n",
              "sql          1144035,491243,13302,939860,27535  ...                      63.0\n",
              "\n",
              "[6 rows x 3 columns]"
            ]
          },
          "metadata": {
            "tags": []
          },
          "execution_count": 119
        }
      ]
    },
    {
      "cell_type": "code",
      "metadata": {
        "id": "7PoUcaYmLOxK",
        "colab": {
          "base_uri": "https://localhost:8080/",
          "height": 1000
        },
        "outputId": "121b726d-9f3b-4eb3-dffe-3aaf2fd5778c"
      },
      "source": [
        "so_rules.reset_index(drop = True)"
      ],
      "execution_count": 208,
      "outputs": [
        {
          "output_type": "execute_result",
          "data": {
            "text/html": [
              "<div>\n",
              "<style scoped>\n",
              "    .dataframe tbody tr th:only-of-type {\n",
              "        vertical-align: middle;\n",
              "    }\n",
              "\n",
              "    .dataframe tbody tr th {\n",
              "        vertical-align: top;\n",
              "    }\n",
              "\n",
              "    .dataframe thead th {\n",
              "        text-align: right;\n",
              "    }\n",
              "</style>\n",
              "<table border=\"1\" class=\"dataframe\">\n",
              "  <thead>\n",
              "    <tr style=\"text-align: right;\">\n",
              "      <th></th>\n",
              "      <th>antecedents</th>\n",
              "      <th>consequents</th>\n",
              "      <th>antecedent support</th>\n",
              "      <th>consequent support</th>\n",
              "      <th>support</th>\n",
              "      <th>confidence</th>\n",
              "      <th>lift</th>\n",
              "      <th>leverage</th>\n",
              "      <th>conviction</th>\n",
              "      <th>antecedents-list</th>\n",
              "    </tr>\n",
              "  </thead>\n",
              "  <tbody>\n",
              "    <tr>\n",
              "      <th>0</th>\n",
              "      <td>(tsql, sql)</td>\n",
              "      <td>(sql-server)</td>\n",
              "      <td>0.011774</td>\n",
              "      <td>0.097320</td>\n",
              "      <td>0.008114</td>\n",
              "      <td>0.689122</td>\n",
              "      <td>7.080989</td>\n",
              "      <td>0.006968</td>\n",
              "      <td>2.903643</td>\n",
              "      <td>frozenset({'tsql', 'sql'})</td>\n",
              "    </tr>\n",
              "    <tr>\n",
              "      <th>1</th>\n",
              "      <td>(python-3.x)</td>\n",
              "      <td>(python)</td>\n",
              "      <td>0.022626</td>\n",
              "      <td>0.346199</td>\n",
              "      <td>0.015461</td>\n",
              "      <td>0.683325</td>\n",
              "      <td>1.973796</td>\n",
              "      <td>0.007628</td>\n",
              "      <td>2.064585</td>\n",
              "      <td>frozenset({'python-3.x'})</td>\n",
              "    </tr>\n",
              "    <tr>\n",
              "      <th>2</th>\n",
              "      <td>(excel-vba)</td>\n",
              "      <td>(excel)</td>\n",
              "      <td>0.027883</td>\n",
              "      <td>0.055648</td>\n",
              "      <td>0.018510</td>\n",
              "      <td>0.663848</td>\n",
              "      <td>11.929378</td>\n",
              "      <td>0.016958</td>\n",
              "      <td>2.809298</td>\n",
              "      <td>frozenset({'excel-vba'})</td>\n",
              "    </tr>\n",
              "    <tr>\n",
              "      <th>3</th>\n",
              "      <td>(python-2.7)</td>\n",
              "      <td>(python)</td>\n",
              "      <td>0.030884</td>\n",
              "      <td>0.346199</td>\n",
              "      <td>0.019989</td>\n",
              "      <td>0.647232</td>\n",
              "      <td>1.869541</td>\n",
              "      <td>0.009297</td>\n",
              "      <td>1.853349</td>\n",
              "      <td>frozenset({'python-2.7'})</td>\n",
              "    </tr>\n",
              "    <tr>\n",
              "      <th>4</th>\n",
              "      <td>(tsql)</td>\n",
              "      <td>(sql-server)</td>\n",
              "      <td>0.022283</td>\n",
              "      <td>0.097320</td>\n",
              "      <td>0.014100</td>\n",
              "      <td>0.632756</td>\n",
              "      <td>6.501813</td>\n",
              "      <td>0.011931</td>\n",
              "      <td>2.457985</td>\n",
              "      <td>frozenset({'tsql'})</td>\n",
              "    </tr>\n",
              "    <tr>\n",
              "      <th>5</th>\n",
              "      <td>(sql-server, sql-server-2008)</td>\n",
              "      <td>(sql)</td>\n",
              "      <td>0.011152</td>\n",
              "      <td>0.191757</td>\n",
              "      <td>0.006608</td>\n",
              "      <td>0.592504</td>\n",
              "      <td>3.089871</td>\n",
              "      <td>0.004469</td>\n",
              "      <td>1.983437</td>\n",
              "      <td>frozenset({'sql-server', 'sql-server-2008'})</td>\n",
              "    </tr>\n",
              "    <tr>\n",
              "      <th>6</th>\n",
              "      <td>(sql-server, tsql)</td>\n",
              "      <td>(sql)</td>\n",
              "      <td>0.014100</td>\n",
              "      <td>0.191757</td>\n",
              "      <td>0.008114</td>\n",
              "      <td>0.575447</td>\n",
              "      <td>3.000920</td>\n",
              "      <td>0.005410</td>\n",
              "      <td>1.903749</td>\n",
              "      <td>frozenset({'sql-server', 'tsql'})</td>\n",
              "    </tr>\n",
              "    <tr>\n",
              "      <th>7</th>\n",
              "      <td>(sql, sql-server-2008)</td>\n",
              "      <td>(sql-server)</td>\n",
              "      <td>0.012465</td>\n",
              "      <td>0.097320</td>\n",
              "      <td>0.006608</td>\n",
              "      <td>0.530095</td>\n",
              "      <td>5.446926</td>\n",
              "      <td>0.005395</td>\n",
              "      <td>1.920982</td>\n",
              "      <td>frozenset({'sql', 'sql-server-2008'})</td>\n",
              "    </tr>\n",
              "    <tr>\n",
              "      <th>8</th>\n",
              "      <td>(tsql)</td>\n",
              "      <td>(sql)</td>\n",
              "      <td>0.022283</td>\n",
              "      <td>0.191757</td>\n",
              "      <td>0.011774</td>\n",
              "      <td>0.528379</td>\n",
              "      <td>2.755465</td>\n",
              "      <td>0.007501</td>\n",
              "      <td>1.713756</td>\n",
              "      <td>frozenset({'tsql'})</td>\n",
              "    </tr>\n",
              "    <tr>\n",
              "      <th>9</th>\n",
              "      <td>(sql-server-2008)</td>\n",
              "      <td>(sql)</td>\n",
              "      <td>0.026259</td>\n",
              "      <td>0.191757</td>\n",
              "      <td>0.012465</td>\n",
              "      <td>0.474694</td>\n",
              "      <td>2.475500</td>\n",
              "      <td>0.007430</td>\n",
              "      <td>1.538614</td>\n",
              "      <td>frozenset({'sql-server-2008'})</td>\n",
              "    </tr>\n",
              "    <tr>\n",
              "      <th>10</th>\n",
              "      <td>(sql-server)</td>\n",
              "      <td>(sql)</td>\n",
              "      <td>0.097320</td>\n",
              "      <td>0.191757</td>\n",
              "      <td>0.042883</td>\n",
              "      <td>0.440639</td>\n",
              "      <td>2.297905</td>\n",
              "      <td>0.024221</td>\n",
              "      <td>1.444940</td>\n",
              "      <td>frozenset({'sql-server'})</td>\n",
              "    </tr>\n",
              "    <tr>\n",
              "      <th>11</th>\n",
              "      <td>(sql-server-2008)</td>\n",
              "      <td>(sql-server)</td>\n",
              "      <td>0.026259</td>\n",
              "      <td>0.097320</td>\n",
              "      <td>0.011152</td>\n",
              "      <td>0.424694</td>\n",
              "      <td>4.363893</td>\n",
              "      <td>0.008597</td>\n",
              "      <td>1.569043</td>\n",
              "      <td>frozenset({'sql-server-2008'})</td>\n",
              "    </tr>\n",
              "    <tr>\n",
              "      <th>12</th>\n",
              "      <td>(tsql)</td>\n",
              "      <td>(sql-server, sql)</td>\n",
              "      <td>0.022283</td>\n",
              "      <td>0.042883</td>\n",
              "      <td>0.008114</td>\n",
              "      <td>0.364117</td>\n",
              "      <td>8.490960</td>\n",
              "      <td>0.007158</td>\n",
              "      <td>1.505179</td>\n",
              "      <td>frozenset({'tsql'})</td>\n",
              "    </tr>\n",
              "    <tr>\n",
              "      <th>13</th>\n",
              "      <td>(excel)</td>\n",
              "      <td>(excel-vba)</td>\n",
              "      <td>0.055648</td>\n",
              "      <td>0.027883</td>\n",
              "      <td>0.018510</td>\n",
              "      <td>0.332627</td>\n",
              "      <td>11.929378</td>\n",
              "      <td>0.016958</td>\n",
              "      <td>1.456632</td>\n",
              "      <td>frozenset({'excel'})</td>\n",
              "    </tr>\n",
              "    <tr>\n",
              "      <th>14</th>\n",
              "      <td>(postgresql)</td>\n",
              "      <td>(sql)</td>\n",
              "      <td>0.031838</td>\n",
              "      <td>0.191757</td>\n",
              "      <td>0.008457</td>\n",
              "      <td>0.265612</td>\n",
              "      <td>1.385150</td>\n",
              "      <td>0.002351</td>\n",
              "      <td>1.100567</td>\n",
              "      <td>frozenset({'postgresql'})</td>\n",
              "    </tr>\n",
              "    <tr>\n",
              "      <th>15</th>\n",
              "      <td>(sql-server-2008)</td>\n",
              "      <td>(sql-server, sql)</td>\n",
              "      <td>0.026259</td>\n",
              "      <td>0.042883</td>\n",
              "      <td>0.006608</td>\n",
              "      <td>0.251633</td>\n",
              "      <td>5.867896</td>\n",
              "      <td>0.005482</td>\n",
              "      <td>1.278940</td>\n",
              "      <td>frozenset({'sql-server-2008'})</td>\n",
              "    </tr>\n",
              "    <tr>\n",
              "      <th>16</th>\n",
              "      <td>(sql)</td>\n",
              "      <td>(mysql)</td>\n",
              "      <td>0.191757</td>\n",
              "      <td>0.227566</td>\n",
              "      <td>0.045091</td>\n",
              "      <td>0.235146</td>\n",
              "      <td>1.033311</td>\n",
              "      <td>0.001454</td>\n",
              "      <td>1.009911</td>\n",
              "      <td>frozenset({'sql'})</td>\n",
              "    </tr>\n",
              "    <tr>\n",
              "      <th>17</th>\n",
              "      <td>(sql)</td>\n",
              "      <td>(sql-server)</td>\n",
              "      <td>0.191757</td>\n",
              "      <td>0.097320</td>\n",
              "      <td>0.042883</td>\n",
              "      <td>0.223632</td>\n",
              "      <td>2.297905</td>\n",
              "      <td>0.024221</td>\n",
              "      <td>1.162696</td>\n",
              "      <td>frozenset({'sql'})</td>\n",
              "    </tr>\n",
              "    <tr>\n",
              "      <th>18</th>\n",
              "      <td>(mysql)</td>\n",
              "      <td>(sql)</td>\n",
              "      <td>0.227566</td>\n",
              "      <td>0.191757</td>\n",
              "      <td>0.045091</td>\n",
              "      <td>0.198144</td>\n",
              "      <td>1.033311</td>\n",
              "      <td>0.001454</td>\n",
              "      <td>1.007966</td>\n",
              "      <td>frozenset({'mysql'})</td>\n",
              "    </tr>\n",
              "    <tr>\n",
              "      <th>19</th>\n",
              "      <td>(sql-server, sql)</td>\n",
              "      <td>(tsql)</td>\n",
              "      <td>0.042883</td>\n",
              "      <td>0.022283</td>\n",
              "      <td>0.008114</td>\n",
              "      <td>0.189203</td>\n",
              "      <td>8.490960</td>\n",
              "      <td>0.007158</td>\n",
              "      <td>1.205871</td>\n",
              "      <td>frozenset({'sql-server', 'sql'})</td>\n",
              "    </tr>\n",
              "    <tr>\n",
              "      <th>20</th>\n",
              "      <td>(sql-server, sql)</td>\n",
              "      <td>(sql-server-2008)</td>\n",
              "      <td>0.042883</td>\n",
              "      <td>0.026259</td>\n",
              "      <td>0.006608</td>\n",
              "      <td>0.154086</td>\n",
              "      <td>5.867896</td>\n",
              "      <td>0.005482</td>\n",
              "      <td>1.151111</td>\n",
              "      <td>frozenset({'sql-server', 'sql'})</td>\n",
              "    </tr>\n",
              "    <tr>\n",
              "      <th>21</th>\n",
              "      <td>(sql-server)</td>\n",
              "      <td>(tsql)</td>\n",
              "      <td>0.097320</td>\n",
              "      <td>0.022283</td>\n",
              "      <td>0.014100</td>\n",
              "      <td>0.144879</td>\n",
              "      <td>6.501813</td>\n",
              "      <td>0.011931</td>\n",
              "      <td>1.143367</td>\n",
              "      <td>frozenset({'sql-server'})</td>\n",
              "    </tr>\n",
              "    <tr>\n",
              "      <th>22</th>\n",
              "      <td>(sql-server)</td>\n",
              "      <td>(sql-server-2008)</td>\n",
              "      <td>0.097320</td>\n",
              "      <td>0.026259</td>\n",
              "      <td>0.011152</td>\n",
              "      <td>0.114593</td>\n",
              "      <td>4.363893</td>\n",
              "      <td>0.008597</td>\n",
              "      <td>1.099766</td>\n",
              "      <td>frozenset({'sql-server'})</td>\n",
              "    </tr>\n",
              "    <tr>\n",
              "      <th>23</th>\n",
              "      <td>(sql-server)</td>\n",
              "      <td>(tsql, sql)</td>\n",
              "      <td>0.097320</td>\n",
              "      <td>0.011774</td>\n",
              "      <td>0.008114</td>\n",
              "      <td>0.083370</td>\n",
              "      <td>7.080989</td>\n",
              "      <td>0.006968</td>\n",
              "      <td>1.078108</td>\n",
              "      <td>frozenset({'sql-server'})</td>\n",
              "    </tr>\n",
              "    <tr>\n",
              "      <th>24</th>\n",
              "      <td>(sql-server)</td>\n",
              "      <td>(sql, sql-server-2008)</td>\n",
              "      <td>0.097320</td>\n",
              "      <td>0.012465</td>\n",
              "      <td>0.006608</td>\n",
              "      <td>0.067896</td>\n",
              "      <td>5.446926</td>\n",
              "      <td>0.005395</td>\n",
              "      <td>1.059469</td>\n",
              "      <td>frozenset({'sql-server'})</td>\n",
              "    </tr>\n",
              "    <tr>\n",
              "      <th>25</th>\n",
              "      <td>(sql)</td>\n",
              "      <td>(sql-server-2008)</td>\n",
              "      <td>0.191757</td>\n",
              "      <td>0.026259</td>\n",
              "      <td>0.012465</td>\n",
              "      <td>0.065005</td>\n",
              "      <td>2.475500</td>\n",
              "      <td>0.007430</td>\n",
              "      <td>1.041439</td>\n",
              "      <td>frozenset({'sql'})</td>\n",
              "    </tr>\n",
              "    <tr>\n",
              "      <th>26</th>\n",
              "      <td>(sql)</td>\n",
              "      <td>(tsql)</td>\n",
              "      <td>0.191757</td>\n",
              "      <td>0.022283</td>\n",
              "      <td>0.011774</td>\n",
              "      <td>0.061400</td>\n",
              "      <td>2.755465</td>\n",
              "      <td>0.007501</td>\n",
              "      <td>1.041676</td>\n",
              "      <td>frozenset({'sql'})</td>\n",
              "    </tr>\n",
              "    <tr>\n",
              "      <th>27</th>\n",
              "      <td>(python)</td>\n",
              "      <td>(python-2.7)</td>\n",
              "      <td>0.346199</td>\n",
              "      <td>0.030884</td>\n",
              "      <td>0.019989</td>\n",
              "      <td>0.057739</td>\n",
              "      <td>1.869541</td>\n",
              "      <td>0.009297</td>\n",
              "      <td>1.028501</td>\n",
              "      <td>frozenset({'python'})</td>\n",
              "    </tr>\n",
              "    <tr>\n",
              "      <th>28</th>\n",
              "      <td>(python)</td>\n",
              "      <td>(python-3.x)</td>\n",
              "      <td>0.346199</td>\n",
              "      <td>0.022626</td>\n",
              "      <td>0.015461</td>\n",
              "      <td>0.044659</td>\n",
              "      <td>1.973796</td>\n",
              "      <td>0.007628</td>\n",
              "      <td>1.023063</td>\n",
              "      <td>frozenset({'python'})</td>\n",
              "    </tr>\n",
              "    <tr>\n",
              "      <th>29</th>\n",
              "      <td>(sql)</td>\n",
              "      <td>(postgresql)</td>\n",
              "      <td>0.191757</td>\n",
              "      <td>0.031838</td>\n",
              "      <td>0.008457</td>\n",
              "      <td>0.044100</td>\n",
              "      <td>1.385150</td>\n",
              "      <td>0.002351</td>\n",
              "      <td>1.012828</td>\n",
              "      <td>frozenset({'sql'})</td>\n",
              "    </tr>\n",
              "    <tr>\n",
              "      <th>30</th>\n",
              "      <td>(sql)</td>\n",
              "      <td>(sql-server, tsql)</td>\n",
              "      <td>0.191757</td>\n",
              "      <td>0.014100</td>\n",
              "      <td>0.008114</td>\n",
              "      <td>0.042312</td>\n",
              "      <td>3.000920</td>\n",
              "      <td>0.005410</td>\n",
              "      <td>1.029459</td>\n",
              "      <td>frozenset({'sql'})</td>\n",
              "    </tr>\n",
              "    <tr>\n",
              "      <th>31</th>\n",
              "      <td>(sql)</td>\n",
              "      <td>(sql-server, sql-server-2008)</td>\n",
              "      <td>0.191757</td>\n",
              "      <td>0.011152</td>\n",
              "      <td>0.006608</td>\n",
              "      <td>0.034459</td>\n",
              "      <td>3.089871</td>\n",
              "      <td>0.004469</td>\n",
              "      <td>1.024138</td>\n",
              "      <td>frozenset({'sql'})</td>\n",
              "    </tr>\n",
              "  </tbody>\n",
              "</table>\n",
              "</div>"
            ],
            "text/plain": [
              "                      antecedents  ...                              antecedents-list\n",
              "0                     (tsql, sql)  ...                    frozenset({'tsql', 'sql'})\n",
              "1                    (python-3.x)  ...                     frozenset({'python-3.x'})\n",
              "2                     (excel-vba)  ...                      frozenset({'excel-vba'})\n",
              "3                    (python-2.7)  ...                     frozenset({'python-2.7'})\n",
              "4                          (tsql)  ...                           frozenset({'tsql'})\n",
              "5   (sql-server, sql-server-2008)  ...  frozenset({'sql-server', 'sql-server-2008'})\n",
              "6              (sql-server, tsql)  ...             frozenset({'sql-server', 'tsql'})\n",
              "7          (sql, sql-server-2008)  ...         frozenset({'sql', 'sql-server-2008'})\n",
              "8                          (tsql)  ...                           frozenset({'tsql'})\n",
              "9               (sql-server-2008)  ...                frozenset({'sql-server-2008'})\n",
              "10                   (sql-server)  ...                     frozenset({'sql-server'})\n",
              "11              (sql-server-2008)  ...                frozenset({'sql-server-2008'})\n",
              "12                         (tsql)  ...                           frozenset({'tsql'})\n",
              "13                        (excel)  ...                          frozenset({'excel'})\n",
              "14                   (postgresql)  ...                     frozenset({'postgresql'})\n",
              "15              (sql-server-2008)  ...                frozenset({'sql-server-2008'})\n",
              "16                          (sql)  ...                            frozenset({'sql'})\n",
              "17                          (sql)  ...                            frozenset({'sql'})\n",
              "18                        (mysql)  ...                          frozenset({'mysql'})\n",
              "19              (sql-server, sql)  ...              frozenset({'sql-server', 'sql'})\n",
              "20              (sql-server, sql)  ...              frozenset({'sql-server', 'sql'})\n",
              "21                   (sql-server)  ...                     frozenset({'sql-server'})\n",
              "22                   (sql-server)  ...                     frozenset({'sql-server'})\n",
              "23                   (sql-server)  ...                     frozenset({'sql-server'})\n",
              "24                   (sql-server)  ...                     frozenset({'sql-server'})\n",
              "25                          (sql)  ...                            frozenset({'sql'})\n",
              "26                          (sql)  ...                            frozenset({'sql'})\n",
              "27                       (python)  ...                         frozenset({'python'})\n",
              "28                       (python)  ...                         frozenset({'python'})\n",
              "29                          (sql)  ...                            frozenset({'sql'})\n",
              "30                          (sql)  ...                            frozenset({'sql'})\n",
              "31                          (sql)  ...                            frozenset({'sql'})\n",
              "\n",
              "[32 rows x 10 columns]"
            ]
          },
          "metadata": {
            "tags": []
          },
          "execution_count": 208
        }
      ]
    },
    {
      "cell_type": "code",
      "metadata": {
        "id": "WylovLc_4tnS",
        "outputId": "cdde0162-11b5-4575-ab12-5994e694bfd0",
        "colab": {
          "base_uri": "https://localhost:8080/",
          "height": 142
        }
      },
      "source": [
        "so_rules.head(3)"
      ],
      "execution_count": 166,
      "outputs": [
        {
          "output_type": "execute_result",
          "data": {
            "text/html": [
              "<div>\n",
              "<style scoped>\n",
              "    .dataframe tbody tr th:only-of-type {\n",
              "        vertical-align: middle;\n",
              "    }\n",
              "\n",
              "    .dataframe tbody tr th {\n",
              "        vertical-align: top;\n",
              "    }\n",
              "\n",
              "    .dataframe thead th {\n",
              "        text-align: right;\n",
              "    }\n",
              "</style>\n",
              "<table border=\"1\" class=\"dataframe\">\n",
              "  <thead>\n",
              "    <tr style=\"text-align: right;\">\n",
              "      <th></th>\n",
              "      <th>antecedents</th>\n",
              "      <th>consequents</th>\n",
              "      <th>antecedent support</th>\n",
              "      <th>consequent support</th>\n",
              "      <th>support</th>\n",
              "      <th>confidence</th>\n",
              "      <th>lift</th>\n",
              "      <th>leverage</th>\n",
              "      <th>conviction</th>\n",
              "      <th>antecedents-list</th>\n",
              "    </tr>\n",
              "  </thead>\n",
              "  <tbody>\n",
              "    <tr>\n",
              "      <th>28</th>\n",
              "      <td>(tsql, sql)</td>\n",
              "      <td>(sql-server)</td>\n",
              "      <td>0.011774</td>\n",
              "      <td>0.097320</td>\n",
              "      <td>0.008114</td>\n",
              "      <td>0.689122</td>\n",
              "      <td>7.080989</td>\n",
              "      <td>0.006968</td>\n",
              "      <td>2.903643</td>\n",
              "      <td>frozenset({'tsql', 'sql'})</td>\n",
              "    </tr>\n",
              "    <tr>\n",
              "      <th>8</th>\n",
              "      <td>(python-3.x)</td>\n",
              "      <td>(python)</td>\n",
              "      <td>0.022626</td>\n",
              "      <td>0.346199</td>\n",
              "      <td>0.015461</td>\n",
              "      <td>0.683325</td>\n",
              "      <td>1.973796</td>\n",
              "      <td>0.007628</td>\n",
              "      <td>2.064585</td>\n",
              "      <td>frozenset({'python-3.x'})</td>\n",
              "    </tr>\n",
              "    <tr>\n",
              "      <th>1</th>\n",
              "      <td>(excel-vba)</td>\n",
              "      <td>(excel)</td>\n",
              "      <td>0.027883</td>\n",
              "      <td>0.055648</td>\n",
              "      <td>0.018510</td>\n",
              "      <td>0.663848</td>\n",
              "      <td>11.929378</td>\n",
              "      <td>0.016958</td>\n",
              "      <td>2.809298</td>\n",
              "      <td>frozenset({'excel-vba'})</td>\n",
              "    </tr>\n",
              "  </tbody>\n",
              "</table>\n",
              "</div>"
            ],
            "text/plain": [
              "     antecedents   consequents  ...  conviction            antecedents-list\n",
              "28   (tsql, sql)  (sql-server)  ...    2.903643  frozenset({'tsql', 'sql'})\n",
              "8   (python-3.x)      (python)  ...    2.064585   frozenset({'python-3.x'})\n",
              "1    (excel-vba)       (excel)  ...    2.809298    frozenset({'excel-vba'})\n",
              "\n",
              "[3 rows x 10 columns]"
            ]
          },
          "metadata": {
            "tags": []
          },
          "execution_count": 166
        }
      ]
    },
    {
      "cell_type": "code",
      "metadata": {
        "id": "zyQnfDsj61Eb"
      },
      "source": [
        "so_rules = (so_rules.explode('antecedents')\n",
        "         .reset_index(drop=True)\n",
        "         .explode('consequents')\n",
        "         .reset_index(drop=True))"
      ],
      "execution_count": 217,
      "outputs": []
    },
    {
      "cell_type": "code",
      "metadata": {
        "id": "5iaovoMQ8Pa5"
      },
      "source": [
        "antecedentslst=[]\n",
        "for item in so_rules.antecedents:\n",
        "  antecedentslst.append(list(item))"
      ],
      "execution_count": 218,
      "outputs": []
    },
    {
      "cell_type": "code",
      "metadata": {
        "id": "DT9WuRBi9H4Q"
      },
      "source": [
        "consequentslst=[]\n",
        "for item in so_rules.consequents:\n",
        "  consequentslst.append(list(item))"
      ],
      "execution_count": 219,
      "outputs": []
    },
    {
      "cell_type": "code",
      "metadata": {
        "id": "wLCzx7MI8U7i"
      },
      "source": [
        "so_rules['antecedents'] = antecedentslst \n",
        "so_rules['consequents'] = consequentslst"
      ],
      "execution_count": 220,
      "outputs": []
    },
    {
      "cell_type": "code",
      "metadata": {
        "id": "UHNUocXT-JHj",
        "outputId": "1e5c3b74-6529-4944-8a57-b316961d308d",
        "colab": {
          "base_uri": "https://localhost:8080/",
          "height": 204
        }
      },
      "source": [
        "so_rules.head(5)"
      ],
      "execution_count": 221,
      "outputs": [
        {
          "output_type": "execute_result",
          "data": {
            "text/html": [
              "<div>\n",
              "<style scoped>\n",
              "    .dataframe tbody tr th:only-of-type {\n",
              "        vertical-align: middle;\n",
              "    }\n",
              "\n",
              "    .dataframe tbody tr th {\n",
              "        vertical-align: top;\n",
              "    }\n",
              "\n",
              "    .dataframe thead th {\n",
              "        text-align: right;\n",
              "    }\n",
              "</style>\n",
              "<table border=\"1\" class=\"dataframe\">\n",
              "  <thead>\n",
              "    <tr style=\"text-align: right;\">\n",
              "      <th></th>\n",
              "      <th>antecedents</th>\n",
              "      <th>consequents</th>\n",
              "      <th>antecedent support</th>\n",
              "      <th>consequent support</th>\n",
              "      <th>support</th>\n",
              "      <th>confidence</th>\n",
              "      <th>lift</th>\n",
              "      <th>leverage</th>\n",
              "      <th>conviction</th>\n",
              "    </tr>\n",
              "  </thead>\n",
              "  <tbody>\n",
              "    <tr>\n",
              "      <th>0</th>\n",
              "      <td>[tsql, sql]</td>\n",
              "      <td>[sql-server]</td>\n",
              "      <td>0.011774</td>\n",
              "      <td>0.097320</td>\n",
              "      <td>0.008114</td>\n",
              "      <td>0.689122</td>\n",
              "      <td>7.080989</td>\n",
              "      <td>0.006968</td>\n",
              "      <td>2.903643</td>\n",
              "    </tr>\n",
              "    <tr>\n",
              "      <th>1</th>\n",
              "      <td>[python-3.x]</td>\n",
              "      <td>[python]</td>\n",
              "      <td>0.022626</td>\n",
              "      <td>0.346199</td>\n",
              "      <td>0.015461</td>\n",
              "      <td>0.683325</td>\n",
              "      <td>1.973796</td>\n",
              "      <td>0.007628</td>\n",
              "      <td>2.064585</td>\n",
              "    </tr>\n",
              "    <tr>\n",
              "      <th>2</th>\n",
              "      <td>[excel-vba]</td>\n",
              "      <td>[excel]</td>\n",
              "      <td>0.027883</td>\n",
              "      <td>0.055648</td>\n",
              "      <td>0.018510</td>\n",
              "      <td>0.663848</td>\n",
              "      <td>11.929378</td>\n",
              "      <td>0.016958</td>\n",
              "      <td>2.809298</td>\n",
              "    </tr>\n",
              "    <tr>\n",
              "      <th>3</th>\n",
              "      <td>[python-2.7]</td>\n",
              "      <td>[python]</td>\n",
              "      <td>0.030884</td>\n",
              "      <td>0.346199</td>\n",
              "      <td>0.019989</td>\n",
              "      <td>0.647232</td>\n",
              "      <td>1.869541</td>\n",
              "      <td>0.009297</td>\n",
              "      <td>1.853349</td>\n",
              "    </tr>\n",
              "    <tr>\n",
              "      <th>4</th>\n",
              "      <td>[tsql]</td>\n",
              "      <td>[sql-server]</td>\n",
              "      <td>0.022283</td>\n",
              "      <td>0.097320</td>\n",
              "      <td>0.014100</td>\n",
              "      <td>0.632756</td>\n",
              "      <td>6.501813</td>\n",
              "      <td>0.011931</td>\n",
              "      <td>2.457985</td>\n",
              "    </tr>\n",
              "  </tbody>\n",
              "</table>\n",
              "</div>"
            ],
            "text/plain": [
              "    antecedents   consequents  ...  leverage  conviction\n",
              "0   [tsql, sql]  [sql-server]  ...  0.006968    2.903643\n",
              "1  [python-3.x]      [python]  ...  0.007628    2.064585\n",
              "2   [excel-vba]       [excel]  ...  0.016958    2.809298\n",
              "3  [python-2.7]      [python]  ...  0.009297    1.853349\n",
              "4        [tsql]  [sql-server]  ...  0.011931    2.457985\n",
              "\n",
              "[5 rows x 9 columns]"
            ]
          },
          "metadata": {
            "tags": []
          },
          "execution_count": 221
        }
      ]
    },
    {
      "cell_type": "markdown",
      "metadata": {
        "id": "w_OMQNZmwf67"
      },
      "source": [
        "# Store to RDS Database"
      ]
    },
    {
      "cell_type": "markdown",
      "metadata": {
        "id": "mapFenKJworT"
      },
      "source": [
        "## First DB \n",
        "to store Top 5 users to notify and provide a approxmate time range ( Between 50% to 75% percentile)"
      ]
    },
    {
      "cell_type": "code",
      "metadata": {
        "id": "PEzWa--ZLQH3"
      },
      "source": [
        "host1='test-instance1.cpuhpqgnujqo.us-east-1.rds.amazonaws.com'\n",
        "port1=int(3306)\n",
        "user='master'\n",
        "passw='soassignment'\n",
        "database1='top_5_id_and_response_time'\n",
        "\n",
        "mydb1 = create_engine('mysql+pymysql://' + user + ':' + passw + '@' + host1 + ':' + str(port1) + '/' + database1 , echo=False)"
      ],
      "execution_count": 127,
      "outputs": []
    },
    {
      "cell_type": "markdown",
      "metadata": {
        "id": "aJ5cYP3QxIDi"
      },
      "source": [
        "## Seconds DB\n",
        "to Store the Rules of predictive Tags , More tags can give faster response with wider audience"
      ]
    },
    {
      "cell_type": "code",
      "metadata": {
        "id": "3Za9tAojTjRq"
      },
      "source": [
        "host2='test-instance-2.cpuhpqgnujqo.us-east-1.rds.amazonaws.com'\n",
        "port2=int(3306)\n",
        "user='master'\n",
        "passw='soassignment'\n",
        "database2='so_rules_predictive_tag'\n",
        "\n",
        "mydb2 = create_engine('mysql+pymysql://' + user + ':' + passw + '@' + host2 + ':' + str(port2) + '/' + database2 , echo=False)"
      ],
      "execution_count": 222,
      "outputs": []
    },
    {
      "cell_type": "code",
      "metadata": {
        "id": "Dl_ek7vgTzQq"
      },
      "source": [
        "test.to_sql(name=\"top_5_id_and_response_time\", con=mydb1, if_exists='replace', index=False) \n"
      ],
      "execution_count": 123,
      "outputs": []
    },
    {
      "cell_type": "code",
      "metadata": {
        "id": "RSG4NO8n1rq8"
      },
      "source": [
        "test_df.to_sql(name=\"so_rules_predictive_tag\", con=mydb2, if_exists='replace', index=False) "
      ],
      "execution_count": 223,
      "outputs": []
    },
    {
      "cell_type": "markdown",
      "metadata": {
        "id": "10VddEwf-zE-"
      },
      "source": [
        "---\n",
        "\n",
        "\n",
        "\n",
        "#         Complete\n",
        "\n",
        "---\n",
        "\n"
      ]
    }
  ]
}